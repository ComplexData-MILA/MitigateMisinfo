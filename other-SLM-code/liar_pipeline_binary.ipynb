{
  "cells": [
    {
      "cell_type": "markdown",
      "metadata": {
        "id": "obAFl3XSx0Vx"
      },
      "source": [
        "## LIAR binary pipeline"
      ]
    },
    {
      "cell_type": "code",
      "execution_count": 637,
      "metadata": {
        "colab": {
          "base_uri": "https://localhost:8080/"
        },
        "id": "Zk-JDpLWfB8D",
        "outputId": "4090ead8-8dd7-4646-8420-cbe9e6f18d56"
      },
      "outputs": [
        {
          "output_type": "stream",
          "name": "stdout",
          "text": [
            "Looking in indexes: https://pypi.org/simple, https://us-python.pkg.dev/colab-wheels/public/simple/\n",
            "Requirement already satisfied: transformers in /usr/local/lib/python3.10/dist-packages (4.28.1)\n",
            "Requirement already satisfied: huggingface-hub<1.0,>=0.11.0 in /usr/local/lib/python3.10/dist-packages (from transformers) (0.14.1)\n",
            "Requirement already satisfied: packaging>=20.0 in /usr/local/lib/python3.10/dist-packages (from transformers) (23.1)\n",
            "Requirement already satisfied: filelock in /usr/local/lib/python3.10/dist-packages (from transformers) (3.12.0)\n",
            "Requirement already satisfied: requests in /usr/local/lib/python3.10/dist-packages (from transformers) (2.27.1)\n",
            "Requirement already satisfied: pyyaml>=5.1 in /usr/local/lib/python3.10/dist-packages (from transformers) (6.0)\n",
            "Requirement already satisfied: regex!=2019.12.17 in /usr/local/lib/python3.10/dist-packages (from transformers) (2022.10.31)\n",
            "Requirement already satisfied: tqdm>=4.27 in /usr/local/lib/python3.10/dist-packages (from transformers) (4.65.0)\n",
            "Requirement already satisfied: tokenizers!=0.11.3,<0.14,>=0.11.1 in /usr/local/lib/python3.10/dist-packages (from transformers) (0.13.3)\n",
            "Requirement already satisfied: numpy>=1.17 in /usr/local/lib/python3.10/dist-packages (from transformers) (1.22.4)\n",
            "Requirement already satisfied: typing-extensions>=3.7.4.3 in /usr/local/lib/python3.10/dist-packages (from huggingface-hub<1.0,>=0.11.0->transformers) (4.5.0)\n",
            "Requirement already satisfied: fsspec in /usr/local/lib/python3.10/dist-packages (from huggingface-hub<1.0,>=0.11.0->transformers) (2023.4.0)\n",
            "Requirement already satisfied: charset-normalizer~=2.0.0 in /usr/local/lib/python3.10/dist-packages (from requests->transformers) (2.0.12)\n",
            "Requirement already satisfied: idna<4,>=2.5 in /usr/local/lib/python3.10/dist-packages (from requests->transformers) (3.4)\n",
            "Requirement already satisfied: certifi>=2017.4.17 in /usr/local/lib/python3.10/dist-packages (from requests->transformers) (2022.12.7)\n",
            "Requirement already satisfied: urllib3<1.27,>=1.21.1 in /usr/local/lib/python3.10/dist-packages (from requests->transformers) (1.26.15)\n",
            "Looking in indexes: https://pypi.org/simple, https://us-python.pkg.dev/colab-wheels/public/simple/\n",
            "Requirement already satisfied: sentencepiece in /usr/local/lib/python3.10/dist-packages (0.1.99)\n",
            "Looking in indexes: https://pypi.org/simple, https://us-python.pkg.dev/colab-wheels/public/simple/\n",
            "Requirement already satisfied: wandb in /usr/local/lib/python3.10/dist-packages (0.15.2)\n",
            "Requirement already satisfied: GitPython!=3.1.29,>=1.0.0 in /usr/local/lib/python3.10/dist-packages (from wandb) (3.1.31)\n",
            "Requirement already satisfied: docker-pycreds>=0.4.0 in /usr/local/lib/python3.10/dist-packages (from wandb) (0.4.0)\n",
            "Requirement already satisfied: sentry-sdk>=1.0.0 in /usr/local/lib/python3.10/dist-packages (from wandb) (1.22.1)\n",
            "Requirement already satisfied: protobuf!=4.21.0,<5,>=3.19.0 in /usr/local/lib/python3.10/dist-packages (from wandb) (3.20.3)\n",
            "Requirement already satisfied: setuptools in /usr/local/lib/python3.10/dist-packages (from wandb) (67.7.2)\n",
            "Requirement already satisfied: pathtools in /usr/local/lib/python3.10/dist-packages (from wandb) (0.1.2)\n",
            "Requirement already satisfied: appdirs>=1.4.3 in /usr/local/lib/python3.10/dist-packages (from wandb) (1.4.4)\n",
            "Requirement already satisfied: PyYAML in /usr/local/lib/python3.10/dist-packages (from wandb) (6.0)\n",
            "Requirement already satisfied: setproctitle in /usr/local/lib/python3.10/dist-packages (from wandb) (1.3.2)\n",
            "Requirement already satisfied: psutil>=5.0.0 in /usr/local/lib/python3.10/dist-packages (from wandb) (5.9.5)\n",
            "Requirement already satisfied: requests<3,>=2.0.0 in /usr/local/lib/python3.10/dist-packages (from wandb) (2.27.1)\n",
            "Requirement already satisfied: Click!=8.0.0,>=7.0 in /usr/local/lib/python3.10/dist-packages (from wandb) (8.1.3)\n",
            "Requirement already satisfied: six>=1.4.0 in /usr/local/lib/python3.10/dist-packages (from docker-pycreds>=0.4.0->wandb) (1.16.0)\n",
            "Requirement already satisfied: gitdb<5,>=4.0.1 in /usr/local/lib/python3.10/dist-packages (from GitPython!=3.1.29,>=1.0.0->wandb) (4.0.10)\n",
            "Requirement already satisfied: idna<4,>=2.5 in /usr/local/lib/python3.10/dist-packages (from requests<3,>=2.0.0->wandb) (3.4)\n",
            "Requirement already satisfied: urllib3<1.27,>=1.21.1 in /usr/local/lib/python3.10/dist-packages (from requests<3,>=2.0.0->wandb) (1.26.15)\n",
            "Requirement already satisfied: charset-normalizer~=2.0.0 in /usr/local/lib/python3.10/dist-packages (from requests<3,>=2.0.0->wandb) (2.0.12)\n",
            "Requirement already satisfied: certifi>=2017.4.17 in /usr/local/lib/python3.10/dist-packages (from requests<3,>=2.0.0->wandb) (2022.12.7)\n",
            "Requirement already satisfied: smmap<6,>=3.0.1 in /usr/local/lib/python3.10/dist-packages (from gitdb<5,>=4.0.1->GitPython!=3.1.29,>=1.0.0->wandb) (5.0.0)\n"
          ]
        }
      ],
      "source": [
        "!pip3 install transformers\n",
        "!pip3 install sentencepiece\n",
        "!pip3 install wandb"
      ]
    },
    {
      "cell_type": "markdown",
      "metadata": {
        "id": "6Mk5caTAx6Qz"
      },
      "source": [
        "### Importing packages"
      ]
    },
    {
      "cell_type": "code",
      "execution_count": 638,
      "metadata": {
        "id": "Y6TDWxavXlw0"
      },
      "outputs": [],
      "source": [
        "from google.colab import drive\n",
        "import os\n",
        "import torch\n",
        "from torch.utils.data import Dataset, TensorDataset\n",
        "import numpy as np\n",
        "import random\n",
        "import transformers\n",
        "import pandas as pd\n",
        "import time\n",
        "import datetime\n",
        "import torch\n",
        "from transformers import (\n",
        "    AutoTokenizer,\n",
        "    BartForSequenceClassification,\n",
        "    BartTokenizer,\n",
        "    BertForSequenceClassification,\n",
        "    BertTokenizer,\n",
        "    BigBirdForSequenceClassification,\n",
        "    BigBirdTokenizer,\n",
        "    ConvBertForSequenceClassification,\n",
        "    ConvBertTokenizer,\n",
        "    CTRLForSequenceClassification,\n",
        "    CTRLTokenizer,\n",
        "    DebertaForSequenceClassification,\n",
        "    DebertaTokenizer,\n",
        "    DebertaV2ForSequenceClassification,\n",
        "    DebertaV2Tokenizer,\n",
        "    DistilBertForSequenceClassification,\n",
        "    DistilBertTokenizer,\n",
        "    ElectraForSequenceClassification,\n",
        "    ElectraTokenizer,\n",
        "    FNetForSequenceClassification,\n",
        "    FNetTokenizer,\n",
        "    FunnelForSequenceClassification,\n",
        "    FunnelTokenizer,\n",
        "    GPT2ForSequenceClassification,\n",
        "    GPT2Tokenizer,\n",
        "    LongformerForSequenceClassification,\n",
        "    LongformerTokenizer,\n",
        "    LukeForSequenceClassification,\n",
        "    LukeTokenizer,\n",
        "    MobileBertForSequenceClassification,\n",
        "    MobileBertTokenizer,\n",
        "    MPNetForSequenceClassification,\n",
        "    MPNetTokenizer,\n",
        "    OpenAIGPTForSequenceClassification,\n",
        "    OpenAIGPTTokenizer,\n",
        "    RobertaForSequenceClassification,\n",
        "    RobertaTokenizer,\n",
        "    SqueezeBertForSequenceClassification,\n",
        "    SqueezeBertTokenizer,\n",
        "    XLMForSequenceClassification,\n",
        "    XLMRobertaForSequenceClassification,\n",
        "    XLMRobertaTokenizer,\n",
        "    XLMTokenizer,\n",
        "    XLNetForSequenceClassification,\n",
        "    XLNetTokenizer\n",
        ")\n",
        "import wandb\n",
        "from torch.utils.data import DataLoader, RandomSampler, SequentialSampler\n",
        "from torch.utils.data import random_split\n",
        "from torch.optim import AdamW\n",
        "from transformers import get_linear_schedule_with_warmup\n",
        "from torch.utils.data import TensorDataset"
      ]
    },
    {
      "cell_type": "code",
      "execution_count": 639,
      "metadata": {
        "colab": {
          "base_uri": "https://localhost:8080/"
        },
        "id": "bl0uCl69iOv7",
        "outputId": "56bca5f2-817e-4ba5-b4e1-15a3d5a1c4b4"
      },
      "outputs": [
        {
          "output_type": "stream",
          "name": "stdout",
          "text": [
            "Drive already mounted at /content/drive; to attempt to forcibly remount, call drive.mount(\"/content/drive\", force_remount=True).\n"
          ]
        }
      ],
      "source": [
        "drive.mount('/content/drive')"
      ]
    },
    {
      "cell_type": "code",
      "source": [
        "os.environ['CUDA_LAUNCH_BLOCKING'] = \"1\""
      ],
      "metadata": {
        "id": "iQtDG95RHwMG"
      },
      "execution_count": 640,
      "outputs": []
    },
    {
      "cell_type": "code",
      "execution_count": 641,
      "metadata": {
        "colab": {
          "base_uri": "https://localhost:8080/"
        },
        "id": "ehePmD9fg8Iy",
        "outputId": "ece181d9-e447-491d-bf54-71b95b3ace29"
      },
      "outputs": [
        {
          "output_type": "stream",
          "name": "stdout",
          "text": [
            "There are 1 GPU(s) available.\n",
            "We will use the GPU: NVIDIA A100-SXM4-40GB\n"
          ]
        }
      ],
      "source": [
        "# If there's a GPU available...\n",
        "if torch.cuda.is_available():    \n",
        "\n",
        "    # Tell PyTorch to use the GPU.    \n",
        "    device = torch.device(\"cuda\")\n",
        "\n",
        "    print('There are %d GPU(s) available.' % torch.cuda.device_count())\n",
        "\n",
        "    print('We will use the GPU:', torch.cuda.get_device_name(0))\n",
        "\n",
        "# If not...\n",
        "else:\n",
        "    print('No GPU available, using the CPU instead.')\n",
        "    device = torch.device(\"cpu\")"
      ]
    },
    {
      "cell_type": "markdown",
      "metadata": {
        "id": "8i7dieVGy7Vo"
      },
      "source": [
        "#### Initializing Weights and Biases for experiment tracking later on"
      ]
    },
    {
      "cell_type": "code",
      "execution_count": 642,
      "metadata": {
        "colab": {
          "base_uri": "https://localhost:8080/"
        },
        "id": "a-XdVIy1wSi9",
        "outputId": "d7cca69f-5d75-4d03-afc5-5a7a0d057f52"
      },
      "outputs": [
        {
          "output_type": "execute_result",
          "data": {
            "text/plain": [
              "True"
            ]
          },
          "metadata": {},
          "execution_count": 642
        }
      ],
      "source": [
        "wandb.login()"
      ]
    },
    {
      "cell_type": "code",
      "execution_count": 643,
      "metadata": {
        "colab": {
          "base_uri": "https://localhost:8080/"
        },
        "id": "O-k0ZbaIzz1d",
        "outputId": "f0afaa85-be55-42d9-bb15-21af015e6d2b"
      },
      "outputs": [
        {
          "output_type": "stream",
          "name": "stdout",
          "text": [
            "Create sweep with ID: v7jq2jj7\n",
            "Sweep URL: https://wandb.ai/meilina/uncategorized/sweeps/v7jq2jj7\n"
          ]
        }
      ],
      "source": [
        "sweep_config = {\n",
        "    'method': 'grid', #grid, random\n",
        "    'metric': {\n",
        "      'name': 'test_accuracy',\n",
        "      'goal': 'maximize'   \n",
        "    },\n",
        "    'parameters': {\n",
        "        'learning_rate': {\n",
        "            'values': [ 5e-5, 3e-5, 2e-5]\n",
        "        },\n",
        "        'batch_size': {\n",
        "            'values': [8, 16, 32]\n",
        "        },\n",
        "        'epochs':{\n",
        "            'values':[2, 3, 4]\n",
        "        }\n",
        "    }\n",
        "}\n",
        "\n",
        "sweep_defaults = {\n",
        "    'method': 'grid', #grid, random\n",
        "    'metric': {\n",
        "      'name': 'test_accuracy',\n",
        "      'goal': 'maximize'   \n",
        "    },\n",
        "    'parameters': {\n",
        "        'learning_rate': {\n",
        "            'values': [5e-5]\n",
        "        },\n",
        "        'batch_size': {\n",
        "            'values': [32]\n",
        "        },\n",
        "        'epochs':{\n",
        "            'values':[2]\n",
        "        }\n",
        "    }\n",
        "}\n",
        "\n",
        "\n",
        "\n",
        "sweep_id = wandb.sweep(sweep_defaults)"
      ]
    },
    {
      "cell_type": "markdown",
      "metadata": {
        "id": "F22MF_4iyBGk"
      },
      "source": [
        "### Exploratory data analysis "
      ]
    },
    {
      "cell_type": "code",
      "execution_count": 644,
      "metadata": {
        "id": "S257MY7AyH2v"
      },
      "outputs": [],
      "source": [
        "# TO DO"
      ]
    },
    {
      "cell_type": "markdown",
      "metadata": {
        "id": "DMscHuPSyKp-"
      },
      "source": [
        "### Dataset preparation"
      ]
    },
    {
      "cell_type": "markdown",
      "source": [
        "Run the following cells if you want to create your own dataset, and prepare your own train/test/val splits."
      ],
      "metadata": {
        "id": "9VWJs1x4DHgF"
      }
    },
    {
      "cell_type": "code",
      "source": [
        "def create_dataset(sentences, tokenizer, max_length, labels):\n",
        "    # Tokenize the sentences\n",
        "    input_ids = []\n",
        "    attention_masks = []\n",
        "    for sent in sentences:\n",
        "        encoded_dict = tokenizer.encode_plus(\n",
        "                            sent,\n",
        "                            add_special_tokens = True,\n",
        "                            max_length = max_length,\n",
        "                            pad_to_max_length = True,\n",
        "                            return_attention_mask = True,\n",
        "                            return_tensors = 'pt'\n",
        "                       )\n",
        "        \n",
        "        input_ids.append(encoded_dict['input_ids'])\n",
        "        attention_masks.append(encoded_dict['attention_mask'])\n",
        "    \n",
        "    # Convert the lists into tensors\n",
        "    input_ids = torch.cat(input_ids, dim=0)\n",
        "    attention_masks = torch.cat(attention_masks, dim=0)\n",
        "    labels = torch.tensor(labels)\n",
        "    \n",
        "    # Create a TensorDataset with the input_ids, attention_masks, and labels\n",
        "    dataset = TensorDataset(input_ids, attention_masks, labels)\n",
        "    \n",
        "    return dataset\n"
      ],
      "metadata": {
        "id": "U6gK8oXJkjfs"
      },
      "execution_count": 645,
      "outputs": []
    },
    {
      "cell_type": "code",
      "execution_count": 646,
      "metadata": {
        "id": "0jgweBfUPdbJ"
      },
      "outputs": [],
      "source": [
        "MODELS = {\n",
        "    'bert': (BertForSequenceClassification, BertTokenizer),\n",
        "    'ctrl': (CTRLForSequenceClassification, CTRLTokenizer),\n",
        "    'distilbert': (DistilBertForSequenceClassification, DistilBertTokenizer),\n",
        "    'gpt2': (GPT2ForSequenceClassification, GPT2Tokenizer),\n",
        "    'longformer': (LongformerForSequenceClassification, LongformerTokenizer),\n",
        "    'roberta': (RobertaForSequenceClassification, RobertaTokenizer),\n",
        "}\n",
        "\n",
        "\n",
        "def load_model(model_name, tokenizer_name, num_labels, output_attentions=False, output_hidden_states=False):\n",
        "    device = torch.device('cuda' if torch.cuda.is_available() else 'cpu')\n",
        "\n",
        "    model_type = model_name.split('-')[0].lower()\n",
        "   \n",
        "    # Edge cases \n",
        "    if 'conv' in model_name:\n",
        "      model_class = ConvBertForSequenceClassification\n",
        "      tokenizer_class = ConvBertTokenizer \n",
        "    elif 'bigbird' in model_name:\n",
        "      model_class = BigBirdForSequenceClassification\n",
        "      tokenizer_class = BigBirdTokenizer\n",
        "    elif 'luke' in model_name: #studio-ousia/luke-base\"\n",
        "      model_class = LukeForSequenceClassification\n",
        "      tokenizer_class = LukeTokenizer\n",
        "    # elif 'deberta' in model_name:\n",
        "    #   model_class = DebertaForSequenceClassification\n",
        "    #   tokenizer_class = DebertaTokenizer\n",
        "    elif 'deberta' in model_name:\n",
        "      model_class = DebertaV2ForSequenceClassification\n",
        "      tokenizer_class = DebertaV2Tokenizer\n",
        "    elif 'xlm' in model_name: #xlm-roberta-base\n",
        "      model_class = XLMRobertaForSequenceClassification\n",
        "      tokenizer_class = XLMRobertaTokenizer\n",
        "    elif 'xlnet' in model_name: #xlnet-base-cased\n",
        "      model_class = XLNetForSequenceClassification\n",
        "      tokenizer_class = XLNetTokenizer\n",
        "    elif 'squeezebert' in model_name: #squeezebert-uncased\n",
        "      model_class = SqueezeBertForSequenceClassification\n",
        "      tokenizer_class = SqueezeBertTokenizer\n",
        "    elif 'open' in model_name:\n",
        "      model_class = OpenAIGPTForSequenceClassification\n",
        "      tokenizer_class = OpenAIGPTTokenizer\n",
        "    elif 'mpnet' in model_name:\n",
        "      model_class = MPNetForSequenceClassification\n",
        "      tokenizer_class = MPNetTokenizer\n",
        "    elif 'mobile' in model_name:\n",
        "      model_class = MobileBertForSequenceClassification\n",
        "      tokenizer_class = MobileBertTokenizer\n",
        "    elif 'electra' in model_name: #electra-base-uncased\n",
        "      model_class = ElectraForSequenceClassification\n",
        "      tokenizer_class = ElectraTokenizer\n",
        "    elif 'small' in model_name: #funnel-transformer/small-base\n",
        "      model_class = FunnelForSequenceClassification\n",
        "      tokenizer_class = FunnelTokenizer \n",
        "    elif 'fnet' in model_name: #fnet-base\n",
        "      model_class = FNetForSequenceClassification\n",
        "      tokenizer_class = FNetTokenizer\n",
        "    else:\n",
        "      model_class, tokenizer_class = MODELS[model_type]\n",
        "    model = model_class.from_pretrained(model_name,num_labels=num_labels,output_attentions=output_attentions,output_hidden_states=output_hidden_states).to(device)\n",
        "    tokenizer = tokenizer_class.from_pretrained(tokenizer_name)\n",
        "    return model, tokenizer"
      ]
    },
    {
      "cell_type": "code",
      "execution_count": 647,
      "metadata": {
        "id": "XKeFmWsPdZyp"
      },
      "outputs": [],
      "source": [
        "def get_max_length(sentences, tokenizer, model):\n",
        "    max_length = 0\n",
        "    for sent in sentences:\n",
        "        encoded_sent = tokenizer.encode(sent, add_special_tokens=True)\n",
        "        max_length = max(max_length, len(encoded_sent))\n",
        "    return max_length"
      ]
    },
    {
      "cell_type": "code",
      "execution_count": 648,
      "metadata": {
        "id": "M5kvjpTGZ7wK"
      },
      "outputs": [],
      "source": [
        "import torch\n",
        "\n",
        "def tokenize_sentences(sentences, tokenizer, max_length, labels):\n",
        "    # Initialize empty lists to hold the tokenized input and attention masks.\n",
        "    input_ids = []\n",
        "    attention_masks = []\n",
        "    sentence_ids = []\n",
        "    counter = 0\n",
        "\n",
        "    # For every sentence...\n",
        "    for sent in sentences:\n",
        "        # Encode the sentence using the tokenizer.\n",
        "        encoded_dict = tokenizer.encode_plus(\n",
        "                        sent,                      # Sentence to encode.\n",
        "                        add_special_tokens = True, # Add '[CLS]' and '[SEP]'\n",
        "                        max_length = 120,   # Pad & truncate all sentences.\n",
        "                        pad_to_max_length = True,\n",
        "                        return_attention_mask = True,   # Construct attn. masks.\n",
        "                        return_tensors = 'pt',     # Return pytorch tensors.\n",
        "                   )\n",
        "\n",
        "        # Add the encoded sentence to the list.    \n",
        "        input_ids.append(encoded_dict['input_ids'])\n",
        "\n",
        "        # And its attention mask (simply differentiates padding from non-padding).\n",
        "        attention_masks.append(encoded_dict['attention_mask'])\n",
        "        sentence_ids.append(counter)\n",
        "        counter  = counter + 1\n",
        "\n",
        "    # Convert the lists into tensors.\n",
        "    input_ids = torch.cat(input_ids, dim=0)\n",
        "    attention_masks = torch.cat(attention_masks, dim=0)\n",
        "    sentence_ids = torch.tensor(sentence_ids)\n",
        "    labels = torch.tensor(labels)\n",
        "\n",
        "    # Return a dictionary containing the input_ids, attention_masks, and sentence_ids.\n",
        "    return {'input_ids': input_ids, 'attention_masks': attention_masks, 'sentence_ids': sentence_ids, 'labels': labels}\n"
      ]
    },
    {
      "cell_type": "code",
      "execution_count": 649,
      "metadata": {
        "id": "5-a5FoM5cPv7"
      },
      "outputs": [],
      "source": [
        "def create_dataset(sentences, tokenizer, max_length, labels):\n",
        "    # Tokenize the sentences.\n",
        "    tokenized = tokenize_sentences(sentences, tokenizer, max_length, labels)\n",
        "\n",
        "    # Combine the inputs and labels into a TensorDataset.\n",
        "    dataset = TensorDataset(\n",
        "        tokenized['sentence_ids'],\n",
        "        tokenized['input_ids'],\n",
        "        tokenized['attention_masks'],\n",
        "        tokenized['labels']\n",
        "    )\n",
        "\n",
        "    return dataset\n"
      ]
    },
    {
      "cell_type": "code",
      "execution_count": 650,
      "metadata": {
        "id": "C3RkT-GUdv4p"
      },
      "outputs": [],
      "source": [
        "def index_remover(tensordata):\n",
        "    input_ids = []\n",
        "    attention_masks = []\n",
        "    labels = []\n",
        "   \n",
        "    for a,b,c,d in tensordata:\n",
        "        input_ids.append(b.tolist())\n",
        "        attention_masks.append(c.tolist())\n",
        "        labels.append(d.tolist())\n",
        "        \n",
        "    input_ids = torch.tensor(input_ids)\n",
        "    attention_masks = torch.tensor(attention_masks)\n",
        "    labels = torch.tensor(labels)\n",
        "    \n",
        "    final_dataset =  TensorDataset(input_ids, attention_masks, labels)\n",
        "    return final_dataset"
      ]
    },
    {
      "cell_type": "code",
      "source": [
        "def create_train_val_test_datasets(dataset, split_ratio=(0.8, 0.1, 0.1)):\n",
        "    # Calculate the number of samples to include in each set.\n",
        "    num_samples = len(dataset)\n",
        "    train_size = int(split_ratio[0] * num_samples)\n",
        "    val_size = int(split_ratio[1] * num_samples)\n",
        "    test_size = num_samples - train_size - val_size\n",
        "\n",
        "    # Divide the dataset by randomly selecting samples.\n",
        "    train_dataset, val_dataset, test_dataset = random_split(dataset, [train_size, val_size, test_size])\n",
        "\n",
        "    # Remove sentence IDs from tensor dataset so that it can be used for training/validation/testing.\n",
        "    train_dataset = index_remover(train_dataset)\n",
        "    val_dataset = index_remover(val_dataset)\n",
        "    test_dataset = index_remover(test_dataset)\n",
        "\n",
        "    # Print the number of samples in each set.\n",
        "    print('{:>5,} training samples'.format(train_size))\n",
        "    print('{:>5,} validation samples'.format(val_size))\n",
        "    print('{:>5,} testing samples'.format(test_size))\n",
        "\n",
        "    return train_dataset, val_dataset, test_dataset\n"
      ],
      "metadata": {
        "id": "Ql1RLk9DDam5"
      },
      "execution_count": 651,
      "outputs": []
    },
    {
      "cell_type": "markdown",
      "metadata": {
        "id": "YEkywdp-xq64"
      },
      "source": [
        "### Hyperparameter setting"
      ]
    },
    {
      "cell_type": "code",
      "execution_count": 652,
      "metadata": {
        "id": "fqHqSc6EkHfN"
      },
      "outputs": [],
      "source": [
        "def get_data_loaders(train_dataset, val_dataset, test_dataset):\n",
        "    # Create the training dataloader.\n",
        "    batch_size = wandb.config.batch_size\n",
        "    train_dataloader = DataLoader(\n",
        "        train_dataset,  # The training samples.\n",
        "        sampler=RandomSampler(train_dataset), # Select batches randomly\n",
        "        batch_size=batch_size # Trains with this batch size.\n",
        "    )\n",
        "\n",
        "    # Create the validation dataloader.\n",
        "    val_dataloader = DataLoader(\n",
        "        val_dataset, # The validation samples.\n",
        "        sampler=SequentialSampler(val_dataset), # Pull out batches sequentially.\n",
        "        batch_size=batch_size # Evaluate with this batch size.\n",
        "    )\n",
        "\n",
        "    # Create the validation dataloader.\n",
        "    test_dataloader = DataLoader(\n",
        "        test_dataset, # The testing samples.\n",
        "        sampler=SequentialSampler(test_dataset), # Pull out batches sequentially.\n",
        "        batch_size=batch_size # Evaluate with this batch size.\n",
        "    )\n",
        "    return train_dataloader, val_dataloader, test_dataloader"
      ]
    },
    {
      "cell_type": "code",
      "execution_count": 653,
      "metadata": {
        "id": "a8AOfmX0eJeF"
      },
      "outputs": [],
      "source": [
        "def get_optimizer(model):\n",
        "    optimizer = AdamW(model.parameters(),\n",
        "                      lr=wandb.config.learning_rate, \n",
        "                      eps=1e-8)\n",
        "    return optimizer"
      ]
    },
    {
      "cell_type": "code",
      "execution_count": 654,
      "metadata": {
        "id": "MwcozfhYeM49"
      },
      "outputs": [],
      "source": [
        "def get_scheduler(dataloader, optimizer):\n",
        "    # Total number of training steps is [number of batches] x [number of epochs]. \n",
        "    # (Note that this is not the same as the number of training samples).\n",
        "    epochs = wandb.config.epochs\n",
        "    total_steps = len(dataloader) * epochs\n",
        "\n",
        "    # Create the learning rate scheduler.\n",
        "    scheduler = get_linear_schedule_with_warmup(optimizer, \n",
        "                                                num_warmup_steps = 0, # Default value in run_glue.py\n",
        "                                                num_training_steps = total_steps)\n",
        "    return scheduler"
      ]
    },
    {
      "cell_type": "code",
      "execution_count": 655,
      "metadata": {
        "id": "sxwQN2iH5jV6"
      },
      "outputs": [],
      "source": [
        "import numpy as np\n",
        "\n",
        "# Function to calculate the accuracy of our predictions vs labels\n",
        "def flat_accuracy(preds, labels):\n",
        "    pred_flat = np.argmax(preds, axis=1).flatten()\n",
        "    labels_flat = labels.flatten()\n",
        "    return np.sum(pred_flat == labels_flat) / len(labels_flat)\n",
        "    \n",
        "import time\n",
        "import datetime\n",
        "\n",
        "def format_time(elapsed):\n",
        "    '''\n",
        "    Takes a time in seconds and returns a string hh:mm:ss\n",
        "    '''\n",
        "    # Round to the nearest second.\n",
        "    elapsed_rounded = int(round((elapsed)))\n",
        "    \n",
        "    # Format as hh:mm:ss\n",
        "    return str(datetime.timedelta(seconds=elapsed_rounded))"
      ]
    },
    {
      "cell_type": "code",
      "source": [
        "from torch.utils.data import random_split\n",
        "\n",
        "def create_train_val_test_datasets(dataset, split_ratio=(0.8, 0.1, 0.1)):\n",
        "    # Calculate the number of samples to include in each set.\n",
        "    num_samples = len(dataset)\n",
        "    train_size = int(split_ratio[0] * num_samples)\n",
        "    val_size = int(split_ratio[1] * num_samples)\n",
        "    test_size = num_samples - train_size - val_size\n",
        "\n",
        "    # Divide the dataset by randomly selecting samples.\n",
        "    train_dataset, val_dataset, test_dataset = random_split(dataset, [train_size, val_size, test_size])\n",
        "\n",
        "    # Remove sentence IDs from tensor dataset so that it can be used for training/validation/testing.\n",
        "    train_dataset = index_remover(train_dataset)\n",
        "    val_dataset = index_remover(val_dataset)\n",
        "    test_dataset = index_remover(test_dataset)\n",
        "\n",
        "    # Print the number of samples in each set.\n",
        "    print('{:>5,} training samples'.format(train_size))\n",
        "    print('{:>5,} validation samples'.format(val_size))\n",
        "    print('{:>5,} testing samples'.format(test_size))\n",
        "\n",
        "    return train_dataset, val_dataset, test_dataset\n"
      ],
      "metadata": {
        "id": "msh46uK2typz"
      },
      "execution_count": 656,
      "outputs": []
    },
    {
      "cell_type": "code",
      "source": [
        "import pandas as pd\n",
        "from torch.utils.data import TensorDataset\n",
        "from sklearn.metrics import f1_score\n",
        "import json\n",
        "\n",
        "def train_and_test():\n",
        "    wandb.init(project=\"liar-binary\", name=\"bert-base\")\n",
        "\n",
        "    # Read the data\n",
        "    train_data = pd.read_json(\"/content/drive/MyDrive/misinfo/LIAR_train_binary.jsonl\", lines=True, orient='records')\n",
        "    val_data = pd.read_json(\"/content/drive/MyDrive/misinfo/LIAR_val_binary.jsonl\", lines=True, orient='records')\n",
        "    test_data = pd.read_json(\"/content/drive/MyDrive/misinfo/LIAR_test_binary.jsonl\", lines=True, orient='records')\n",
        "\n",
        "    # Extract sentences and labels from the data\n",
        "    train_sentences = train_data['text'].tolist()\n",
        "    train_labels = train_data['label'].tolist()\n",
        "    val_sentences = val_data['text'].tolist()\n",
        "    val_labels = val_data['label'].tolist()\n",
        "    test_sentences = test_data['text'].tolist()\n",
        "    test_labels = test_data['label'].tolist()\n",
        "\n",
        "    # Load the model and tokenizer\n",
        "\n",
        "    model, tokenizer = load_model('bert-base-uncased', 'bert-base-uncased', num_labels=2, output_attentions=False, output_hidden_states=False)   \n",
        "    #model, tokenizer = load_model('microsoft/deberta-base', 'microsoft/deberta-base', num_labels=2, output_attentions=False, output_hidden_states=False)    \n",
        "    #model, tokenizer = load_model('YituTech/conv-bert-base', 'YituTech/conv-bert-base', num_labels=2, output_attentions=False, output_hidden_states=False)\n",
        "    #model, tokenizer = load_model('funnel-transformer/small-base', 'funnel-transformer/small-base', num_labels=2, output_attentions=False, output_hidden_states=False) \n",
        "    #model, tokenizer = load_model('studio-ousia/luke-base', 'studio-ousia/luke-base', num_labels=2, output_attentions=False, output_hidden_states=False)  \n",
        "    #model, tokenizer = load_model(\"funnel-transformer/small-base\", \"funnel-transformer/small-base\", num_labels=2, output_attentions=False, output_hidden_states=False)  \n",
        "    #model, tokenizer = load_model('roberta-base', 'roberta-base', num_labels=2, output_attentions=False, output_hidden_states=False)    \n",
        "    #model, tokenizer = load_model('squeezebert/squeezebert-uncased', 'squeezebert/squeezebert-uncased', num_labels=2, output_attentions=False, output_hidden_states=False)    \n",
        "    #model, tokenizer = load_model('xlm-roberta-base', 'xlm-roberta-base', num_labels=2, output_attentions=False, output_hidden_states=False)    \n",
        "    #model, tokenizer = load_model('microsoft/deberta-v3-base', 'microsoft/deberta-v3-base', num_labels=2, output_attentions=False, output_hidden_states=False) \n",
        "\n",
        "\n",
        "\n",
        "    # Get the maximum sentence length\n",
        "    max_length = get_max_length(train_sentences + val_sentences + test_sentences, tokenizer, model)\n",
        "\n",
        "    # Create datasets\n",
        "    train_dataset = create_dataset(train_sentences, tokenizer, max_length, train_labels)\n",
        "    val_dataset = create_dataset(val_sentences, tokenizer, max_length, val_labels)\n",
        "    test_dataset = create_dataset(test_sentences, tokenizer, max_length, test_labels)\n",
        "\n",
        "    # Remove sentence_ids from the datasets\n",
        "    train_dataset = index_remover(train_dataset)\n",
        "    val_dataset = index_remover(val_dataset)\n",
        "    test_dataset = index_remover(test_dataset)\n",
        "\n",
        "    # Get data loaders\n",
        "    train_dataloader, validation_dataloader, testing_dataloader = get_data_loaders(train_dataset, val_dataset, test_dataset)\n",
        "\n",
        "    # Get optimizer and scheduler\n",
        "    optimizer = get_optimizer(model)\n",
        "    scheduler = get_scheduler(train_dataloader, optimizer)\n",
        "    seed_val=42\n",
        "    random.seed(seed_val)\n",
        "    np.random.seed(seed_val)\n",
        "    torch.manual_seed(seed_val)\n",
        "    torch.cuda.manual_seed_all(seed_val)\n",
        "\n",
        "    # Measure the total training time for the whole run.\n",
        "    total_t0 = time.time()\n",
        "    epochs = wandb.config.epochs\n",
        "\n",
        "    # For each epoch...\n",
        "    for epoch_i in range(0, epochs):\n",
        "\n",
        "        # ========================================\n",
        "        #               Training\n",
        "        # ========================================\n",
        "\n",
        "        # Perform one full pass over the training set.\n",
        "        print(\"\")\n",
        "        print('======== Epoch {:} / {:} ========'.format(epoch_i + 1, epochs))\n",
        "        print('Training...')\n",
        "\n",
        "        # Measure how long the training epoch takes.\n",
        "        t0 = time.time()\n",
        "\n",
        "        # Reset the total loss for this epoch.\n",
        "        total_train_loss = 0\n",
        "\n",
        "        # Put the model into training mode. Don't be mislead--the call to \n",
        "        # `train` just changes the *mode*, it doesn't *perform* the training.\n",
        "        # `dropout` and `batchnorm` layers behave differently during training\n",
        "        # vs. test (source: https://stackoverflow.com/questions/51433378/what-does-model-train-do-in-pytorch)\n",
        "        model.train()\n",
        "\n",
        "        # For each batch of training data...\n",
        "        for step, batch in enumerate(train_dataloader):\n",
        "\n",
        "            # Progress update every 40 batches.\n",
        "            if step % 40 == 0 and not step == 0:\n",
        "                # Calculate elapsed time in minutes.\n",
        "                elapsed = format_time(time.time() - t0)\n",
        "\n",
        "                # Report progress.\n",
        "                print('  Batch {:>5,}  of  {:>5,}.    Elapsed: {:}.'.format(step, len(train_dataloader), elapsed))\n",
        "\n",
        "\n",
        "            # Unpack this training batch from our dataloader. \n",
        "            #\n",
        "            # As we unpack the batch, we'll also copy each tensor to the GPU using the \n",
        "            # `to` method.\n",
        "            #\n",
        "            # `batch` contains three pytorch tensors:\n",
        "            #   [0]: input ids \n",
        "            #   [1]: attention masks\n",
        "            #   [2]: labels \n",
        "            b_input_ids = batch[0].to(device)\n",
        "            b_input_mask = batch[1].to(device)\n",
        "            b_labels = batch[2].to(device)\n",
        "\n",
        "            # Always clear any previously calculated gradients before performing a\n",
        "            # backward pass. PyTorch doesn't do this automatically because \n",
        "            # accumulating the gradients is \"convenient while training RNNs\". \n",
        "            # (source: https://stackoverflow.com/questions/48001598/why-do-we-need-to-call-zero-grad-in-pytorch)\n",
        "            model.zero_grad()        \n",
        "\n",
        "            # Perform a forward pass (evaluate the model on this training batch).\n",
        "            # The documentation for this `model` function is here: \n",
        "            # https://huggingface.co/transformers/v2.2.0/model_doc/bert.html#transformers.BertForSequenceClassification\n",
        "            # It returns different numbers of parameters depending on what arguments\n",
        "            # arge given and what flags are set. For our useage here, it returns\n",
        "            # the loss (because we provided labels) and the \"logits\"--the model\n",
        "            # outputs prior to activation.\n",
        "            loss, logits = model(b_input_ids, \n",
        "                                token_type_ids=None, \n",
        "                                attention_mask=b_input_mask, \n",
        "                                labels=b_labels).to_tuple()\n",
        "\n",
        "            # Accumulate the training loss over all of the batches so that we can\n",
        "            # calculate the average loss at the end. `loss` is a Tensor containing a\n",
        "            # single value; the `.item()` function just returns the Python value \n",
        "            # from the tensor.\n",
        "            total_train_loss += loss.item()\n",
        "\n",
        "            # Perform a backward pass to calculate the gradients.\n",
        "            loss.backward()\n",
        "\n",
        "            # Clip the norm of the gradients to 1.0.\n",
        "            # This is to help prevent the \"exploding gradients\" problem.\n",
        "            torch.nn.utils.clip_grad_norm_(model.parameters(), 1.0)\n",
        "\n",
        "            # Update parameters and take a step using the computed gradient.\n",
        "            # The optimizer dictates the \"update rule\"--how the parameters are\n",
        "            # modified based on their gradients, the learning rate, etc.\n",
        "            optimizer.step()\n",
        "\n",
        "            # Update the learning rate.\n",
        "            scheduler.step()\n",
        "\n",
        "        # Calculate the average loss over all of the batches.\n",
        "        avg_train_loss = total_train_loss / len(train_dataloader)            \n",
        "        \n",
        "        # Measure how long this epoch took.\n",
        "        training_time = format_time(time.time() - t0)\n",
        "\n",
        "        wandb.log({'avg_train_loss':avg_train_loss, 'train_batch_loss':loss.item()})\n",
        "\n",
        "        print(\"\")\n",
        "        print(\"  average training loss: {0:.2f}\".format(avg_train_loss))\n",
        "        print(\"  training epoch took: {:}\".format(training_time))\n",
        "            \n",
        "        # ========================================\n",
        "        #               Testing\n",
        "        # ========================================\n",
        "        # After the completion of each training epoch, measure our performance on\n",
        "        # our testing set.\n",
        "\n",
        "        print(\"\")\n",
        "        print(\"Running testing...\")\n",
        "\n",
        "        t0 = time.time()\n",
        "\n",
        "        # Put the model in evaluation mode--the dropout layers behave differently\n",
        "        # during evaluation.\n",
        "        model.eval()\n",
        "\n",
        "        # Tracking variables \n",
        "        total_test_accuracy = 0\n",
        "        total_test_loss = 0\n",
        "        nb_eval_steps = 0\n",
        "        true_labels = []\n",
        "        pred_labels = []\n",
        "        all_logits = []\n",
        "        all_probs = []\n",
        "        all_labels = []\n",
        "\n",
        "        # Evaluate data for one epoch\n",
        "        for batch in testing_dataloader:\n",
        "            \n",
        "            # Unpack this training batch from our dataloader. \n",
        "            #\n",
        "            # As we unpack the batch, we'll also copy each tensor to the GPU using \n",
        "            # the `to` method.\n",
        "            #\n",
        "            # `batch` contains three pytorch tensors:\n",
        "            #   [0]: input ids \n",
        "            #   [1]: attention masks\n",
        "            #   [2]: labels \n",
        "            b_input_ids = batch[0].to(device)\n",
        "            b_input_mask = batch[1].to(device)\n",
        "            b_labels = batch[2].to(device)\n",
        "            \n",
        "            # Tell pytorch not to bother with constructing the compute graph during\n",
        "            # the forward pass, since this is only needed for backprop (training).\n",
        "            with torch.no_grad():        \n",
        "\n",
        "                # Forward pass, calculate logit predictions.\n",
        "                # token_type_ids is the same as the \"segment ids\", which \n",
        "                # differentiates sentence 1 and 2 in 2-sentence tasks.\n",
        "                # The documentation for this `model` function is here: \n",
        "                # https://huggingface.co/transformers/v2.2.0/model_doc/bert.html#transformers.BertForSequenceClassification\n",
        "                # Get the \"logits\" output by the model. The \"logits\" are the output\n",
        "                # values prior to applying an activation function like the softmax.\n",
        "                loss, logits = model(b_input_ids, \n",
        "                                      token_type_ids=None, \n",
        "                                      attention_mask=b_input_mask,\n",
        "                                      labels=b_labels).to_tuple()  \n",
        "            # Accumulate the test loss.\n",
        "                total_test_loss += loss.item()\n",
        "\n",
        "            # Move logits and labels to CPU\n",
        "            logits = logits.detach().cpu().numpy()\n",
        "            label_ids = b_labels.to('cpu').numpy()\n",
        "\n",
        "            # Calculate the accuracy for this batch of test sentences, and\n",
        "            # accumulate it over all batches.\n",
        "            total_test_accuracy += flat_accuracy(logits, label_ids)\n",
        "\n",
        "            #logits = logits.cpu().numpy()\n",
        "            probs = torch.softmax(torch.tensor(logits), dim=-1).detach().cpu().numpy()\n",
        "            predicted_labels = np.argmax(logits, axis=-1)\n",
        "            all_probs.extend(probs.tolist())\n",
        "            all_labels.extend(predicted_labels.tolist())\n",
        "\n",
        "            # Save the labels and probabilities to a JSON file\n",
        "            output_file = 'labels_bert_probs.json'\n",
        "            with open(output_file, 'w') as f:\n",
        "              json.dump({'labels': all_labels, 'probs': all_probs}, f)\n",
        "\n",
        "\n",
        "            true_labels.extend(label_ids)\n",
        "            pred_labels.extend(np.argmax(logits, axis=1))\n",
        "            \n",
        "\n",
        "        # Report the final accuracy for this testing run.\n",
        "        avg_test_accuracy = total_test_accuracy / len(testing_dataloader)\n",
        "        print(\"  accuracy: {0:.2f}\".format(avg_test_accuracy))\n",
        "\n",
        "        # Calculate the average loss over all of the batches.\n",
        "        avg_test_loss = total_test_loss / len(testing_dataloader)\n",
        "        f1 = f1_score(true_labels, pred_labels, average='weighted')\n",
        "        print(\"  f1 score: {0:.2f}\".format(f1))\n",
        "        \n",
        "        # Measure how long the testing run took.\n",
        "        testing_time = format_time(time.time() - t0)\n",
        "        wandb.log({'test_accuracy':avg_test_accuracy,'avg_test_loss':avg_test_loss, 'f1': f1})\n",
        "        print(\"  testing loss: {0:.2f}\".format(avg_test_loss))\n",
        "        print(\"  testing took: {:}\".format(testing_time))\n",
        "\n",
        "\n",
        "    print(\"\")\n",
        "    print(\"training complete!\")\n",
        "\n",
        "    print(\"total training took {:} (h:mm:ss)\".format(format_time(time.time()-total_t0)))"
      ],
      "metadata": {
        "id": "JYr8_WkeuLdS"
      },
      "execution_count": 657,
      "outputs": []
    },
    {
      "cell_type": "code",
      "source": [
        "wandb.agent(sweep_id,function=train_and_test)"
      ],
      "metadata": {
        "id": "7glU6wsSp9-P",
        "colab": {
          "base_uri": "https://localhost:8080/",
          "height": 1000,
          "referenced_widgets": [
            "464b04bec6134e8fb259b2e224bc3679",
            "33b478ce096947089c992d341c2c778d",
            "80e81fc19108477c91e8c4a2074c524a",
            "ad5c651db2814237a8aae8af68756913",
            "91451d7820c647f999871ae1c9426dd8",
            "7604ce0575dc4ef7a789cb1aad67e85a",
            "7725dcf3387d45ca9526c0fe933f0884",
            "efb7476b429b4386a29a0ebf89fcd1a5",
            "299bbd5d856548328424bf0467bd301f",
            "aaa815768c744c1e8f254e6d0db64b18",
            "27c6a59524e842df99dbaab5e5aa758a",
            "5e41832b5b2141eb9963fc91637e9553",
            "2e9fad5f235243b1a384fd293b676984",
            "2ec15fdd8ae44f06ac0cb2f478541bc9",
            "9a22b0bdd5454d2eb7948b599331da31",
            "dfd87afcfb30445c84d2656a0b62f539",
            "0e14bfc0349648399ddc536a064b43f0",
            "b5f5a1f3fd4d4bceb5b016289408982f",
            "d879d052b2584c56a74f0d03a26f4898",
            "dcbb1f82cd984f8ea408154eba39999b",
            "a7f80f524fe04318bf65f285232792ff",
            "605a2699443042958e9d834107ab1d82",
            "725e4a0a060646b1826afe3617ddd75a",
            "128dca68cb844f49bdf386bc0658d853",
            "fd257659aa234a56a1cf325c89f0ab92",
            "a9894ab958844f2a8c46bcca257cea17",
            "b6e78464c5ae407c8d40783968cd61ef",
            "182f86a3ad124d6eadcaf2ed9d22c38f",
            "893510cbe91247898a48c11921586d3c",
            "aa48269bc5694770829c46e7831dae0a",
            "e5caa101316943ad909416f8f0aa96c6",
            "81e8a94a2bed4f3cbb422724fdf3870b",
            "2882c12c1272498faec509aeb9d4b68f",
            "a4d42b4f5dac4c05a396a3e1f558b166",
            "85a8554d79194bbc925037d3cf80ac2c",
            "28df5861f9bd471fad1ae84b1a1c5710",
            "55a50ac0afc84b1e92374f51842bd887",
            "1b23e4a8a42442e190e444052f1da241",
            "cec34b2a1cd447a7ac6774ef273c3d94",
            "f1fc7280821544b0bf0b7e91ab460137",
            "bc25bb5322e043b987acbd0ee996f150",
            "90956347bbc54eb9ab0eed3b70f63328",
            "17c07a20e6b7434d80aefd0af7eb2c40",
            "e342976795bc4623bc055241ac939175"
          ]
        },
        "outputId": "ec6ce77d-8142-4cec-8101-2977e610bc53"
      },
      "execution_count": 658,
      "outputs": [
        {
          "output_type": "stream",
          "name": "stderr",
          "text": [
            "\u001b[34m\u001b[1mwandb\u001b[0m: Agent Starting Run: oua3f2pr with config:\n",
            "\u001b[34m\u001b[1mwandb\u001b[0m: \tbatch_size: 32\n",
            "\u001b[34m\u001b[1mwandb\u001b[0m: \tepochs: 2\n",
            "\u001b[34m\u001b[1mwandb\u001b[0m: \tlearning_rate: 5e-05\n",
            "\u001b[34m\u001b[1mwandb\u001b[0m: \u001b[33mWARNING\u001b[0m Ignored wandb.init() arg project when running a sweep.\n"
          ]
        },
        {
          "output_type": "display_data",
          "data": {
            "text/plain": [
              "<IPython.core.display.HTML object>"
            ],
            "text/html": [
              "Tracking run with wandb version 0.15.2"
            ]
          },
          "metadata": {}
        },
        {
          "output_type": "display_data",
          "data": {
            "text/plain": [
              "<IPython.core.display.HTML object>"
            ],
            "text/html": [
              "Run data is saved locally in <code>/content/wandb/run-20230506_085114-oua3f2pr</code>"
            ]
          },
          "metadata": {}
        },
        {
          "output_type": "display_data",
          "data": {
            "text/plain": [
              "<IPython.core.display.HTML object>"
            ],
            "text/html": [
              "Syncing run <strong><a href='https://wandb.ai/meilina/uncategorized/runs/oua3f2pr' target=\"_blank\">bert-base</a></strong> to <a href='https://wandb.ai/meilina/uncategorized' target=\"_blank\">Weights & Biases</a> (<a href='https://wandb.me/run' target=\"_blank\">docs</a>)<br/>Sweep page: <a href='https://wandb.ai/meilina/uncategorized/sweeps/v7jq2jj7' target=\"_blank\">https://wandb.ai/meilina/uncategorized/sweeps/v7jq2jj7</a>"
            ]
          },
          "metadata": {}
        },
        {
          "output_type": "display_data",
          "data": {
            "text/plain": [
              "<IPython.core.display.HTML object>"
            ],
            "text/html": [
              " View project at <a href='https://wandb.ai/meilina/uncategorized' target=\"_blank\">https://wandb.ai/meilina/uncategorized</a>"
            ]
          },
          "metadata": {}
        },
        {
          "output_type": "display_data",
          "data": {
            "text/plain": [
              "<IPython.core.display.HTML object>"
            ],
            "text/html": [
              " View sweep at <a href='https://wandb.ai/meilina/uncategorized/sweeps/v7jq2jj7' target=\"_blank\">https://wandb.ai/meilina/uncategorized/sweeps/v7jq2jj7</a>"
            ]
          },
          "metadata": {}
        },
        {
          "output_type": "display_data",
          "data": {
            "text/plain": [
              "<IPython.core.display.HTML object>"
            ],
            "text/html": [
              " View run at <a href='https://wandb.ai/meilina/uncategorized/runs/oua3f2pr' target=\"_blank\">https://wandb.ai/meilina/uncategorized/runs/oua3f2pr</a>"
            ]
          },
          "metadata": {}
        },
        {
          "output_type": "display_data",
          "data": {
            "text/plain": [
              "Downloading (…)lve/main/config.json:   0%|          | 0.00/570 [00:00<?, ?B/s]"
            ],
            "application/vnd.jupyter.widget-view+json": {
              "version_major": 2,
              "version_minor": 0,
              "model_id": "464b04bec6134e8fb259b2e224bc3679"
            }
          },
          "metadata": {}
        },
        {
          "output_type": "display_data",
          "data": {
            "text/plain": [
              "Downloading pytorch_model.bin:   0%|          | 0.00/440M [00:00<?, ?B/s]"
            ],
            "application/vnd.jupyter.widget-view+json": {
              "version_major": 2,
              "version_minor": 0,
              "model_id": "5e41832b5b2141eb9963fc91637e9553"
            }
          },
          "metadata": {}
        },
        {
          "output_type": "stream",
          "name": "stderr",
          "text": [
            "Some weights of the model checkpoint at bert-base-uncased were not used when initializing BertForSequenceClassification: ['cls.predictions.decoder.weight', 'cls.seq_relationship.weight', 'cls.predictions.transform.LayerNorm.weight', 'cls.predictions.transform.LayerNorm.bias', 'cls.predictions.transform.dense.weight', 'cls.predictions.transform.dense.bias', 'cls.seq_relationship.bias', 'cls.predictions.bias']\n",
            "- This IS expected if you are initializing BertForSequenceClassification from the checkpoint of a model trained on another task or with another architecture (e.g. initializing a BertForSequenceClassification model from a BertForPreTraining model).\n",
            "- This IS NOT expected if you are initializing BertForSequenceClassification from the checkpoint of a model that you expect to be exactly identical (initializing a BertForSequenceClassification model from a BertForSequenceClassification model).\n",
            "Some weights of BertForSequenceClassification were not initialized from the model checkpoint at bert-base-uncased and are newly initialized: ['classifier.bias', 'classifier.weight']\n",
            "You should probably TRAIN this model on a down-stream task to be able to use it for predictions and inference.\n"
          ]
        },
        {
          "output_type": "display_data",
          "data": {
            "text/plain": [
              "Downloading (…)solve/main/vocab.txt:   0%|          | 0.00/232k [00:00<?, ?B/s]"
            ],
            "application/vnd.jupyter.widget-view+json": {
              "version_major": 2,
              "version_minor": 0,
              "model_id": "725e4a0a060646b1826afe3617ddd75a"
            }
          },
          "metadata": {}
        },
        {
          "output_type": "display_data",
          "data": {
            "text/plain": [
              "Downloading (…)okenizer_config.json:   0%|          | 0.00/28.0 [00:00<?, ?B/s]"
            ],
            "application/vnd.jupyter.widget-view+json": {
              "version_major": 2,
              "version_minor": 0,
              "model_id": "a4d42b4f5dac4c05a396a3e1f558b166"
            }
          },
          "metadata": {}
        },
        {
          "output_type": "stream",
          "name": "stderr",
          "text": [
            "Token indices sequence length is longer than the specified maximum sequence length for this model (714 > 512). Running this sequence through the model will result in indexing errors\n",
            "Truncation was not explicitly activated but `max_length` is provided a specific value, please use `truncation=True` to explicitly truncate examples to max length. Defaulting to 'longest_first' truncation strategy. If you encode pairs of sequences (GLUE-style) with the tokenizer you can select this strategy more precisely by providing a specific strategy to `truncation`.\n",
            "/usr/local/lib/python3.10/dist-packages/transformers/tokenization_utils_base.py:2354: FutureWarning: The `pad_to_max_length` argument is deprecated and will be removed in a future version, use `padding=True` or `padding='longest'` to pad to the longest sequence in the batch, or use `padding='max_length'` to pad to a max length. In this case, you can give a specific length with `max_length` (e.g. `max_length=45`) or leave max_length to None to pad to the maximal input size of the model (e.g. 512 for Bert).\n",
            "  warnings.warn(\n"
          ]
        },
        {
          "output_type": "stream",
          "name": "stdout",
          "text": [
            "\n",
            "======== Epoch 1 / 2 ========\n",
            "Training...\n",
            "  Batch    40  of    320.    Elapsed: 0:00:08.\n",
            "  Batch    80  of    320.    Elapsed: 0:00:16.\n",
            "  Batch   120  of    320.    Elapsed: 0:00:23.\n",
            "  Batch   160  of    320.    Elapsed: 0:00:31.\n",
            "  Batch   200  of    320.    Elapsed: 0:00:39.\n",
            "  Batch   240  of    320.    Elapsed: 0:00:46.\n",
            "  Batch   280  of    320.    Elapsed: 0:00:54.\n",
            "\n",
            "  average training loss: 0.66\n",
            "  training epoch took: 0:01:02\n",
            "\n",
            "Running testing...\n",
            "  accuracy: 0.62\n",
            "  f1 score: 0.62\n",
            "  testing loss: 0.65\n",
            "  testing took: 0:00:03\n",
            "\n",
            "======== Epoch 2 / 2 ========\n",
            "Training...\n",
            "  Batch    40  of    320.    Elapsed: 0:00:08.\n",
            "  Batch    80  of    320.    Elapsed: 0:00:15.\n",
            "  Batch   120  of    320.    Elapsed: 0:00:23.\n",
            "  Batch   160  of    320.    Elapsed: 0:00:31.\n",
            "  Batch   200  of    320.    Elapsed: 0:00:39.\n",
            "  Batch   240  of    320.    Elapsed: 0:00:46.\n",
            "  Batch   280  of    320.    Elapsed: 0:00:54.\n",
            "\n",
            "  average training loss: 0.58\n",
            "  training epoch took: 0:01:02\n",
            "\n",
            "Running testing...\n",
            "  accuracy: 0.65\n",
            "  f1 score: 0.65\n",
            "  testing loss: 0.64\n",
            "  testing took: 0:00:03\n",
            "\n",
            "training complete!\n",
            "total training took 0:02:09 (h:mm:ss)\n"
          ]
        },
        {
          "output_type": "display_data",
          "data": {
            "text/plain": [
              "<IPython.core.display.HTML object>"
            ],
            "text/html": [
              "Waiting for W&B process to finish... <strong style=\"color:green\">(success).</strong>"
            ]
          },
          "metadata": {}
        },
        {
          "output_type": "display_data",
          "data": {
            "text/plain": [
              "<IPython.core.display.HTML object>"
            ],
            "text/html": [
              "<style>\n",
              "    table.wandb td:nth-child(1) { padding: 0 10px; text-align: left ; width: auto;} td:nth-child(2) {text-align: left ; width: 100%}\n",
              "    .wandb-row { display: flex; flex-direction: row; flex-wrap: wrap; justify-content: flex-start; width: 100% }\n",
              "    .wandb-col { display: flex; flex-direction: column; flex-basis: 100%; flex: 1; padding: 10px; }\n",
              "    </style>\n",
              "<div class=\"wandb-row\"><div class=\"wandb-col\"><h3>Run history:</h3><br/><table class=\"wandb\"><tr><td>avg_test_loss</td><td>█▁</td></tr><tr><td>avg_train_loss</td><td>█▁</td></tr><tr><td>f1</td><td>▁█</td></tr><tr><td>test_accuracy</td><td>▁█</td></tr><tr><td>train_batch_loss</td><td>█▁</td></tr></table><br/></div><div class=\"wandb-col\"><h3>Run summary:</h3><br/><table class=\"wandb\"><tr><td>avg_test_loss</td><td>0.64463</td></tr><tr><td>avg_train_loss</td><td>0.5777</td></tr><tr><td>f1</td><td>0.64522</td></tr><tr><td>test_accuracy</td><td>0.65095</td></tr><tr><td>train_batch_loss</td><td>0.52033</td></tr></table><br/></div></div>"
            ]
          },
          "metadata": {}
        },
        {
          "output_type": "display_data",
          "data": {
            "text/plain": [
              "<IPython.core.display.HTML object>"
            ],
            "text/html": [
              " View run <strong style=\"color:#cdcd00\">bert-base</strong> at: <a href='https://wandb.ai/meilina/uncategorized/runs/oua3f2pr' target=\"_blank\">https://wandb.ai/meilina/uncategorized/runs/oua3f2pr</a><br/>Synced 5 W&B file(s), 0 media file(s), 0 artifact file(s) and 0 other file(s)"
            ]
          },
          "metadata": {}
        },
        {
          "output_type": "display_data",
          "data": {
            "text/plain": [
              "<IPython.core.display.HTML object>"
            ],
            "text/html": [
              "Find logs at: <code>./wandb/run-20230506_085114-oua3f2pr/logs</code>"
            ]
          },
          "metadata": {}
        },
        {
          "output_type": "stream",
          "name": "stderr",
          "text": [
            "\u001b[34m\u001b[1mwandb\u001b[0m: Sweep Agent: Waiting for job.\n",
            "\u001b[34m\u001b[1mwandb\u001b[0m: Sweep Agent: Exiting.\n"
          ]
        }
      ]
    },
    {
      "cell_type": "markdown",
      "source": [
        "### Reliability diagrams"
      ],
      "metadata": {
        "id": "Kbr9fybtbLj6"
      }
    },
    {
      "cell_type": "code",
      "source": [
        "import json\n",
        "import pandas as pd\n",
        "\n",
        "# Load the labels and probabilities from the JSON file\n",
        "with open('labels_bert_probs.json', 'r') as f:\n",
        "    data = json.load(f)\n",
        "\n",
        "labels = data['labels']\n",
        "probs = data['probs']\n",
        "\n",
        "max_values = []\n",
        "for i in probs:\n",
        "  max_values.append(max(i))\n",
        "    \n",
        "df_test = pd.read_json('/content/drive/MyDrive/misinfo/LIAR_test_binary.jsonl', lines=True, orient='records')\n"
      ],
      "metadata": {
        "id": "Aet0W73MIWz5"
      },
      "execution_count": 659,
      "outputs": []
    },
    {
      "cell_type": "code",
      "source": [
        "second_col = []\n",
        "for item in probs:\n",
        "  second_col.append(item[1])"
      ],
      "metadata": {
        "id": "UUX7oEGa9jrj"
      },
      "execution_count": 660,
      "outputs": []
    },
    {
      "cell_type": "code",
      "source": [
        "df_new = pd.DataFrame({'label_binary': labels, 'prob': second_col})\n",
        "\n",
        "# Merge the new DataFrame with the existing one\n",
        "df_merged = pd.concat([df_test, df_new], axis=1)"
      ],
      "metadata": {
        "id": "p-uQ4IRUIcT1"
      },
      "execution_count": 661,
      "outputs": []
    },
    {
      "cell_type": "code",
      "source": [
        "df_merged"
      ],
      "metadata": {
        "colab": {
          "base_uri": "https://localhost:8080/",
          "height": 1000
        },
        "id": "Arh5rip_u3us",
        "outputId": "d6f8d6d6-b92d-472c-8a7c-d5fd4e86011b"
      },
      "execution_count": 662,
      "outputs": [
        {
          "output_type": "execute_result",
          "data": {
            "text/plain": [
              "              id  label                                               text  \\\n",
              "0     11972.json      1  Building a wall on the U.S.-Mexico border will...   \n",
              "1     11685.json      0  Wisconsin is on pace to double the number of l...   \n",
              "2     11096.json      0  Says John McCain has done nothing to help the ...   \n",
              "3      5209.json      1  Suzanne Bonamici supports a plan that will cut...   \n",
              "4      9524.json      0  When asked by a reporter whether hes at the ce...   \n",
              "...          ...    ...                                                ...   \n",
              "1262   7334.json      1  Says his budget provides the highest state fun...   \n",
              "1263   9788.json      0                    Ive been here almost every day.   \n",
              "1264  10710.json      0  In the early 1980s, Sen. Edward Kennedy secret...   \n",
              "1265   3186.json      0  Says an EPA permit languished under Strickland...   \n",
              "1266   6743.json      0  Says the governor is going around the state ta...   \n",
              "\n",
              "                                                subject  \\\n",
              "0                                           immigration   \n",
              "1                                                  jobs   \n",
              "2                       military,veterans,voting-record   \n",
              "3     medicare,message-machine-2012,campaign-adverti...   \n",
              "4     campaign-finance,legal-issues,campaign-adverti...   \n",
              "...                                                 ...   \n",
              "1262                                          education   \n",
              "1263                civil-rights,crime,criminal-justice   \n",
              "1264     bipartisanship,congress,foreign-policy,history   \n",
              "1265                  environment,government-efficiency   \n",
              "1266                  state-budget,state-finances,taxes   \n",
              "\n",
              "                               speaker  \\\n",
              "0                           rick-perry   \n",
              "1                    katrina-shankland   \n",
              "2                         donald-trump   \n",
              "3                        rob-cornilles   \n",
              "4     state-democratic-party-wisconsin   \n",
              "...                                ...   \n",
              "1262                        rick-scott   \n",
              "1263                         jay-nixon   \n",
              "1264             mackubin-thomas-owens   \n",
              "1265                       john-kasich   \n",
              "1266                  john-burzichelli   \n",
              "\n",
              "                                             job_title    state_info  \\\n",
              "0                                             Governor         Texas   \n",
              "1                                 State representative     Wisconsin   \n",
              "2                                      President-Elect      New York   \n",
              "3                                           consultant        Oregon   \n",
              "4                                                 None     Wisconsin   \n",
              "...                                                ...           ...   \n",
              "1262                                          Governor       Florida   \n",
              "1263                                          Governor      Missouri   \n",
              "1264  senior fellow, Foreign Policy Research Institute  Rhode Island   \n",
              "1265              Governor of Ohio as of Jan. 10, 2011          Ohio   \n",
              "1266                                              None          None   \n",
              "\n",
              "     party_affiliation  barely_true_counts  false_counts  half_true_counts  \\\n",
              "0           republican                  30            30                42   \n",
              "1             democrat                   2             1                 0   \n",
              "2           republican                  63           114                51   \n",
              "3           republican                   1             1                 3   \n",
              "4             democrat                   5             7                 2   \n",
              "...                ...                 ...           ...               ...   \n",
              "1262        republican                  28            23                38   \n",
              "1263          democrat                   2             0                 0   \n",
              "1264         columnist                   1             0                 0   \n",
              "1265        republican                   9             8                10   \n",
              "1266          democrat                   1             1                 0   \n",
              "\n",
              "      mostly_true_counts  pants_onfire_counts  \\\n",
              "0                     23                   18   \n",
              "1                      0                    0   \n",
              "2                     37                   61   \n",
              "3                      1                    1   \n",
              "4                      2                    7   \n",
              "...                  ...                  ...   \n",
              "1262                  34                    7   \n",
              "1263                   1                    0   \n",
              "1264                   0                    0   \n",
              "1265                  18                    3   \n",
              "1266                   0                    0   \n",
              "\n",
              "                                     context  label_binary      prob  \n",
              "0                            Radio interview             0  0.343250  \n",
              "1                          a news conference             1  0.756692  \n",
              "2               comments on ABC's This Week.             0  0.316163  \n",
              "3                               a radio show             0  0.106301  \n",
              "4                                a web video             0  0.406420  \n",
              "...                                      ...           ...       ...  \n",
              "1262                       a news conference             1  0.868678  \n",
              "1263                    on ABC's \"This Week\"             0  0.479244  \n",
              "1264  a commentary in The Providence Journal             0  0.412058  \n",
              "1265                       a news conference             0  0.429040  \n",
              "1266               an interview with NJToday             0  0.419001  \n",
              "\n",
              "[1267 rows x 16 columns]"
            ],
            "text/html": [
              "\n",
              "  <div id=\"df-4caf501c-4424-4753-b7cc-52c4dcb7afc2\">\n",
              "    <div class=\"colab-df-container\">\n",
              "      <div>\n",
              "<style scoped>\n",
              "    .dataframe tbody tr th:only-of-type {\n",
              "        vertical-align: middle;\n",
              "    }\n",
              "\n",
              "    .dataframe tbody tr th {\n",
              "        vertical-align: top;\n",
              "    }\n",
              "\n",
              "    .dataframe thead th {\n",
              "        text-align: right;\n",
              "    }\n",
              "</style>\n",
              "<table border=\"1\" class=\"dataframe\">\n",
              "  <thead>\n",
              "    <tr style=\"text-align: right;\">\n",
              "      <th></th>\n",
              "      <th>id</th>\n",
              "      <th>label</th>\n",
              "      <th>text</th>\n",
              "      <th>subject</th>\n",
              "      <th>speaker</th>\n",
              "      <th>job_title</th>\n",
              "      <th>state_info</th>\n",
              "      <th>party_affiliation</th>\n",
              "      <th>barely_true_counts</th>\n",
              "      <th>false_counts</th>\n",
              "      <th>half_true_counts</th>\n",
              "      <th>mostly_true_counts</th>\n",
              "      <th>pants_onfire_counts</th>\n",
              "      <th>context</th>\n",
              "      <th>label_binary</th>\n",
              "      <th>prob</th>\n",
              "    </tr>\n",
              "  </thead>\n",
              "  <tbody>\n",
              "    <tr>\n",
              "      <th>0</th>\n",
              "      <td>11972.json</td>\n",
              "      <td>1</td>\n",
              "      <td>Building a wall on the U.S.-Mexico border will...</td>\n",
              "      <td>immigration</td>\n",
              "      <td>rick-perry</td>\n",
              "      <td>Governor</td>\n",
              "      <td>Texas</td>\n",
              "      <td>republican</td>\n",
              "      <td>30</td>\n",
              "      <td>30</td>\n",
              "      <td>42</td>\n",
              "      <td>23</td>\n",
              "      <td>18</td>\n",
              "      <td>Radio interview</td>\n",
              "      <td>0</td>\n",
              "      <td>0.343250</td>\n",
              "    </tr>\n",
              "    <tr>\n",
              "      <th>1</th>\n",
              "      <td>11685.json</td>\n",
              "      <td>0</td>\n",
              "      <td>Wisconsin is on pace to double the number of l...</td>\n",
              "      <td>jobs</td>\n",
              "      <td>katrina-shankland</td>\n",
              "      <td>State representative</td>\n",
              "      <td>Wisconsin</td>\n",
              "      <td>democrat</td>\n",
              "      <td>2</td>\n",
              "      <td>1</td>\n",
              "      <td>0</td>\n",
              "      <td>0</td>\n",
              "      <td>0</td>\n",
              "      <td>a news conference</td>\n",
              "      <td>1</td>\n",
              "      <td>0.756692</td>\n",
              "    </tr>\n",
              "    <tr>\n",
              "      <th>2</th>\n",
              "      <td>11096.json</td>\n",
              "      <td>0</td>\n",
              "      <td>Says John McCain has done nothing to help the ...</td>\n",
              "      <td>military,veterans,voting-record</td>\n",
              "      <td>donald-trump</td>\n",
              "      <td>President-Elect</td>\n",
              "      <td>New York</td>\n",
              "      <td>republican</td>\n",
              "      <td>63</td>\n",
              "      <td>114</td>\n",
              "      <td>51</td>\n",
              "      <td>37</td>\n",
              "      <td>61</td>\n",
              "      <td>comments on ABC's This Week.</td>\n",
              "      <td>0</td>\n",
              "      <td>0.316163</td>\n",
              "    </tr>\n",
              "    <tr>\n",
              "      <th>3</th>\n",
              "      <td>5209.json</td>\n",
              "      <td>1</td>\n",
              "      <td>Suzanne Bonamici supports a plan that will cut...</td>\n",
              "      <td>medicare,message-machine-2012,campaign-adverti...</td>\n",
              "      <td>rob-cornilles</td>\n",
              "      <td>consultant</td>\n",
              "      <td>Oregon</td>\n",
              "      <td>republican</td>\n",
              "      <td>1</td>\n",
              "      <td>1</td>\n",
              "      <td>3</td>\n",
              "      <td>1</td>\n",
              "      <td>1</td>\n",
              "      <td>a radio show</td>\n",
              "      <td>0</td>\n",
              "      <td>0.106301</td>\n",
              "    </tr>\n",
              "    <tr>\n",
              "      <th>4</th>\n",
              "      <td>9524.json</td>\n",
              "      <td>0</td>\n",
              "      <td>When asked by a reporter whether hes at the ce...</td>\n",
              "      <td>campaign-finance,legal-issues,campaign-adverti...</td>\n",
              "      <td>state-democratic-party-wisconsin</td>\n",
              "      <td>None</td>\n",
              "      <td>Wisconsin</td>\n",
              "      <td>democrat</td>\n",
              "      <td>5</td>\n",
              "      <td>7</td>\n",
              "      <td>2</td>\n",
              "      <td>2</td>\n",
              "      <td>7</td>\n",
              "      <td>a web video</td>\n",
              "      <td>0</td>\n",
              "      <td>0.406420</td>\n",
              "    </tr>\n",
              "    <tr>\n",
              "      <th>...</th>\n",
              "      <td>...</td>\n",
              "      <td>...</td>\n",
              "      <td>...</td>\n",
              "      <td>...</td>\n",
              "      <td>...</td>\n",
              "      <td>...</td>\n",
              "      <td>...</td>\n",
              "      <td>...</td>\n",
              "      <td>...</td>\n",
              "      <td>...</td>\n",
              "      <td>...</td>\n",
              "      <td>...</td>\n",
              "      <td>...</td>\n",
              "      <td>...</td>\n",
              "      <td>...</td>\n",
              "      <td>...</td>\n",
              "    </tr>\n",
              "    <tr>\n",
              "      <th>1262</th>\n",
              "      <td>7334.json</td>\n",
              "      <td>1</td>\n",
              "      <td>Says his budget provides the highest state fun...</td>\n",
              "      <td>education</td>\n",
              "      <td>rick-scott</td>\n",
              "      <td>Governor</td>\n",
              "      <td>Florida</td>\n",
              "      <td>republican</td>\n",
              "      <td>28</td>\n",
              "      <td>23</td>\n",
              "      <td>38</td>\n",
              "      <td>34</td>\n",
              "      <td>7</td>\n",
              "      <td>a news conference</td>\n",
              "      <td>1</td>\n",
              "      <td>0.868678</td>\n",
              "    </tr>\n",
              "    <tr>\n",
              "      <th>1263</th>\n",
              "      <td>9788.json</td>\n",
              "      <td>0</td>\n",
              "      <td>Ive been here almost every day.</td>\n",
              "      <td>civil-rights,crime,criminal-justice</td>\n",
              "      <td>jay-nixon</td>\n",
              "      <td>Governor</td>\n",
              "      <td>Missouri</td>\n",
              "      <td>democrat</td>\n",
              "      <td>2</td>\n",
              "      <td>0</td>\n",
              "      <td>0</td>\n",
              "      <td>1</td>\n",
              "      <td>0</td>\n",
              "      <td>on ABC's \"This Week\"</td>\n",
              "      <td>0</td>\n",
              "      <td>0.479244</td>\n",
              "    </tr>\n",
              "    <tr>\n",
              "      <th>1264</th>\n",
              "      <td>10710.json</td>\n",
              "      <td>0</td>\n",
              "      <td>In the early 1980s, Sen. Edward Kennedy secret...</td>\n",
              "      <td>bipartisanship,congress,foreign-policy,history</td>\n",
              "      <td>mackubin-thomas-owens</td>\n",
              "      <td>senior fellow, Foreign Policy Research Institute</td>\n",
              "      <td>Rhode Island</td>\n",
              "      <td>columnist</td>\n",
              "      <td>1</td>\n",
              "      <td>0</td>\n",
              "      <td>0</td>\n",
              "      <td>0</td>\n",
              "      <td>0</td>\n",
              "      <td>a commentary in The Providence Journal</td>\n",
              "      <td>0</td>\n",
              "      <td>0.412058</td>\n",
              "    </tr>\n",
              "    <tr>\n",
              "      <th>1265</th>\n",
              "      <td>3186.json</td>\n",
              "      <td>0</td>\n",
              "      <td>Says an EPA permit languished under Strickland...</td>\n",
              "      <td>environment,government-efficiency</td>\n",
              "      <td>john-kasich</td>\n",
              "      <td>Governor of Ohio as of Jan. 10, 2011</td>\n",
              "      <td>Ohio</td>\n",
              "      <td>republican</td>\n",
              "      <td>9</td>\n",
              "      <td>8</td>\n",
              "      <td>10</td>\n",
              "      <td>18</td>\n",
              "      <td>3</td>\n",
              "      <td>a news conference</td>\n",
              "      <td>0</td>\n",
              "      <td>0.429040</td>\n",
              "    </tr>\n",
              "    <tr>\n",
              "      <th>1266</th>\n",
              "      <td>6743.json</td>\n",
              "      <td>0</td>\n",
              "      <td>Says the governor is going around the state ta...</td>\n",
              "      <td>state-budget,state-finances,taxes</td>\n",
              "      <td>john-burzichelli</td>\n",
              "      <td>None</td>\n",
              "      <td>None</td>\n",
              "      <td>democrat</td>\n",
              "      <td>1</td>\n",
              "      <td>1</td>\n",
              "      <td>0</td>\n",
              "      <td>0</td>\n",
              "      <td>0</td>\n",
              "      <td>an interview with NJToday</td>\n",
              "      <td>0</td>\n",
              "      <td>0.419001</td>\n",
              "    </tr>\n",
              "  </tbody>\n",
              "</table>\n",
              "<p>1267 rows × 16 columns</p>\n",
              "</div>\n",
              "      <button class=\"colab-df-convert\" onclick=\"convertToInteractive('df-4caf501c-4424-4753-b7cc-52c4dcb7afc2')\"\n",
              "              title=\"Convert this dataframe to an interactive table.\"\n",
              "              style=\"display:none;\">\n",
              "        \n",
              "  <svg xmlns=\"http://www.w3.org/2000/svg\" height=\"24px\"viewBox=\"0 0 24 24\"\n",
              "       width=\"24px\">\n",
              "    <path d=\"M0 0h24v24H0V0z\" fill=\"none\"/>\n",
              "    <path d=\"M18.56 5.44l.94 2.06.94-2.06 2.06-.94-2.06-.94-.94-2.06-.94 2.06-2.06.94zm-11 1L8.5 8.5l.94-2.06 2.06-.94-2.06-.94L8.5 2.5l-.94 2.06-2.06.94zm10 10l.94 2.06.94-2.06 2.06-.94-2.06-.94-.94-2.06-.94 2.06-2.06.94z\"/><path d=\"M17.41 7.96l-1.37-1.37c-.4-.4-.92-.59-1.43-.59-.52 0-1.04.2-1.43.59L10.3 9.45l-7.72 7.72c-.78.78-.78 2.05 0 2.83L4 21.41c.39.39.9.59 1.41.59.51 0 1.02-.2 1.41-.59l7.78-7.78 2.81-2.81c.8-.78.8-2.07 0-2.86zM5.41 20L4 18.59l7.72-7.72 1.47 1.35L5.41 20z\"/>\n",
              "  </svg>\n",
              "      </button>\n",
              "      \n",
              "  <style>\n",
              "    .colab-df-container {\n",
              "      display:flex;\n",
              "      flex-wrap:wrap;\n",
              "      gap: 12px;\n",
              "    }\n",
              "\n",
              "    .colab-df-convert {\n",
              "      background-color: #E8F0FE;\n",
              "      border: none;\n",
              "      border-radius: 50%;\n",
              "      cursor: pointer;\n",
              "      display: none;\n",
              "      fill: #1967D2;\n",
              "      height: 32px;\n",
              "      padding: 0 0 0 0;\n",
              "      width: 32px;\n",
              "    }\n",
              "\n",
              "    .colab-df-convert:hover {\n",
              "      background-color: #E2EBFA;\n",
              "      box-shadow: 0px 1px 2px rgba(60, 64, 67, 0.3), 0px 1px 3px 1px rgba(60, 64, 67, 0.15);\n",
              "      fill: #174EA6;\n",
              "    }\n",
              "\n",
              "    [theme=dark] .colab-df-convert {\n",
              "      background-color: #3B4455;\n",
              "      fill: #D2E3FC;\n",
              "    }\n",
              "\n",
              "    [theme=dark] .colab-df-convert:hover {\n",
              "      background-color: #434B5C;\n",
              "      box-shadow: 0px 1px 3px 1px rgba(0, 0, 0, 0.15);\n",
              "      filter: drop-shadow(0px 1px 2px rgba(0, 0, 0, 0.3));\n",
              "      fill: #FFFFFF;\n",
              "    }\n",
              "  </style>\n",
              "\n",
              "      <script>\n",
              "        const buttonEl =\n",
              "          document.querySelector('#df-4caf501c-4424-4753-b7cc-52c4dcb7afc2 button.colab-df-convert');\n",
              "        buttonEl.style.display =\n",
              "          google.colab.kernel.accessAllowed ? 'block' : 'none';\n",
              "\n",
              "        async function convertToInteractive(key) {\n",
              "          const element = document.querySelector('#df-4caf501c-4424-4753-b7cc-52c4dcb7afc2');\n",
              "          const dataTable =\n",
              "            await google.colab.kernel.invokeFunction('convertToInteractive',\n",
              "                                                     [key], {});\n",
              "          if (!dataTable) return;\n",
              "\n",
              "          const docLinkHtml = 'Like what you see? Visit the ' +\n",
              "            '<a target=\"_blank\" href=https://colab.research.google.com/notebooks/data_table.ipynb>data table notebook</a>'\n",
              "            + ' to learn more about interactive tables.';\n",
              "          element.innerHTML = '';\n",
              "          dataTable['output_type'] = 'display_data';\n",
              "          await google.colab.output.renderOutput(dataTable, element);\n",
              "          const docLink = document.createElement('div');\n",
              "          docLink.innerHTML = docLinkHtml;\n",
              "          element.appendChild(docLink);\n",
              "        }\n",
              "      </script>\n",
              "    </div>\n",
              "  </div>\n",
              "  "
            ]
          },
          "metadata": {},
          "execution_count": 662
        }
      ]
    },
    {
      "cell_type": "code",
      "source": [
        "# plot base reliability diagram\n",
        "\n",
        "from sklearn.calibration import calibration_curve\n",
        "import matplotlib.pyplot as plt\n",
        "\n",
        "reliability = calibration_curve(df_merged.label, df_merged.prob, n_bins=10, pos_label=1)\n",
        "\n",
        "plt.xlabel('Predicted Probability', size=12)\n",
        "plt.ylabel('Actual Probability', size=12)\n",
        "\n",
        "line1, = plt.plot([0, 1], [0, 1], linestyle='--', linewidth=2)\n",
        "line2, = plt.plot(reliability[1], reliability[0], linewidth=2)\n",
        "legend = plt.legend(handles = [line1, line2], labels = ['Perfect Prediction', 'BERT'],fontsize='x-large')\n",
        "\n",
        "plt.savefig('bert-oob-platt.svg', bbox_inches=\"tight\")"
      ],
      "metadata": {
        "id": "siNBLU2ebLQ5",
        "colab": {
          "base_uri": "https://localhost:8080/",
          "height": 453
        },
        "outputId": "bd427f0c-877e-4855-d6e5-1d5287b459fa"
      },
      "execution_count": 663,
      "outputs": [
        {
          "output_type": "display_data",
          "data": {
            "text/plain": [
              "<Figure size 640x480 with 1 Axes>"
            ],
            "image/png": "[encoded data removed]"
          },
          "metadata": {}
        }
      ]
    },
    {
      "cell_type": "code",
      "source": [
        "print('Expected Calibration Error (ECE)', np.mean(np.abs(reliability[0] - reliability[1])))"
      ],
      "metadata": {
        "colab": {
          "base_uri": "https://localhost:8080/"
        },
        "id": "b9xJfDHRJXIz",
        "outputId": "1b72a236-af96-4839-a0b7-b654e77d26ff"
      },
      "execution_count": 664,
      "outputs": [
        {
          "output_type": "stream",
          "name": "stdout",
          "text": [
            "Expected Calibration Error (ECE) 0.06943635316127139\n"
          ]
        }
      ]
    },
    {
      "cell_type": "code",
      "source": [
        "df_merged['label'].value_counts()"
      ],
      "metadata": {
        "id": "FBXqxGnRFXh4",
        "colab": {
          "base_uri": "https://localhost:8080/"
        },
        "outputId": "cf3d3c2a-f4ea-414c-932a-8fe1aa3f0749"
      },
      "execution_count": 665,
      "outputs": [
        {
          "output_type": "execute_result",
          "data": {
            "text/plain": [
              "1    714\n",
              "0    553\n",
              "Name: label, dtype: int64"
            ]
          },
          "metadata": {},
          "execution_count": 665
        }
      ]
    },
    {
      "cell_type": "code",
      "source": [
        "df_merged['label_binary'].value_counts()"
      ],
      "metadata": {
        "colab": {
          "base_uri": "https://localhost:8080/"
        },
        "id": "eWQM-Ds5tPMF",
        "outputId": "2332d83d-ad31-47e7-d389-97868bcb529f"
      },
      "execution_count": 666,
      "outputs": [
        {
          "output_type": "execute_result",
          "data": {
            "text/plain": [
              "1    814\n",
              "0    453\n",
              "Name: label_binary, dtype: int64"
            ]
          },
          "metadata": {},
          "execution_count": 666
        }
      ]
    },
    {
      "cell_type": "code",
      "source": [
        "df_merged['match'] = df_merged['label'] == df_merged['label_binary']"
      ],
      "metadata": {
        "id": "Pu4DKk11FYib"
      },
      "execution_count": 667,
      "outputs": []
    },
    {
      "cell_type": "code",
      "source": [
        "df_merged['match'].value_counts()"
      ],
      "metadata": {
        "id": "32006s5-FZxv",
        "colab": {
          "base_uri": "https://localhost:8080/"
        },
        "outputId": "3d5b9bf2-0627-49bb-c0e7-55ea06090a4b"
      },
      "execution_count": 668,
      "outputs": [
        {
          "output_type": "execute_result",
          "data": {
            "text/plain": [
              "True     825\n",
              "False    442\n",
              "Name: match, dtype: int64"
            ]
          },
          "metadata": {},
          "execution_count": 668
        }
      ]
    },
    {
      "cell_type": "code",
      "source": [
        "# calibrate\n",
        "\n",
        "from sklearn.calibration import CalibratedClassifierCV\n",
        "import numpy as np\n",
        "\n",
        "class dummy_classifier():\n",
        "  def __init__(self):\n",
        "    self.classes_ = [0,1]\n",
        "  def predict_proba(self, X):\n",
        "    print(np.vstack([X, 1 - X]).T.shape)\n",
        "    return np.vstack([X, 1 - X]).T\n",
        "  def fit(self, X_probs):\n",
        "    return self\n",
        "\n",
        "passthrough_classifier = dummy_classifier()\n",
        "\n",
        "calibrated_clf = CalibratedClassifierCV(passthrough_classifier, method='sigmoid', cv='prefit')\n",
        "calibrated_clf.fit(df_merged.prob, df_merged.label)\n",
        "\n",
        "calibrated_preds = calibrated_clf.predict_proba(df_merged.prob)"
      ],
      "metadata": {
        "id": "jF50LKXaFegV",
        "colab": {
          "base_uri": "https://localhost:8080/"
        },
        "outputId": "c51d9430-77c0-46e9-d047-c437592441ef"
      },
      "execution_count": 669,
      "outputs": [
        {
          "output_type": "stream",
          "name": "stdout",
          "text": [
            "(1267, 2)\n",
            "(1267, 2)\n"
          ]
        }
      ]
    },
    {
      "cell_type": "code",
      "source": [
        "reliability = calibration_curve(df_merged.label, calibrated_preds[:,1], n_bins=10, pos_label=1)\n",
        "\n",
        "plt.xlabel('Predicted Probability', size=12)\n",
        "plt.ylabel('Actual Probability', size=12)\n",
        "\n",
        "line1, = plt.plot([0, 1], [0, 1], linestyle='--', linewidth=2)\n",
        "line2, = plt.plot(reliability[1], reliability[0], linewidth=2)\n",
        "legend = plt.legend(handles = [line1, line2], labels = ['Perfect Prediction', 'BERT'],fontsize='x-large')\n",
        "\n",
        "plt.savefig('bert-calibration-platt.svg', bbox_inches=\"tight\")"
      ],
      "metadata": {
        "id": "ibexy9icFfo_",
        "colab": {
          "base_uri": "https://localhost:8080/",
          "height": 453
        },
        "outputId": "4a529d16-51e1-4c64-889b-b380b224577f"
      },
      "execution_count": 670,
      "outputs": [
        {
          "output_type": "display_data",
          "data": {
            "text/plain": [
              "<Figure size 640x480 with 1 Axes>"
            ],
            "image/png": "[encoded data removed]"
          },
          "metadata": {}
        }
      ]
    },
    {
      "cell_type": "code",
      "source": [
        "print('Expected Calibration Error (ECE)', np.mean(np.abs(reliability[0] - reliability[1])))"
      ],
      "metadata": {
        "colab": {
          "base_uri": "https://localhost:8080/"
        },
        "id": "XrFi5yoaNEx8",
        "outputId": "0ef1b05d-d7cf-4bd4-ba39-4f72048ccd9e"
      },
      "execution_count": 671,
      "outputs": [
        {
          "output_type": "stream",
          "name": "stdout",
          "text": [
            "Expected Calibration Error (ECE) 0.0401166757167059\n"
          ]
        }
      ]
    },
    {
      "cell_type": "code",
      "source": [
        "# calibrate another way\n",
        "\n",
        "import torch\n",
        "from torch import nn, optim\n",
        "from torch.nn import functional as F\n",
        "\n",
        "\n",
        "class ModelWithTemperature(nn.Module):\n",
        "    \"\"\"\n",
        "    A thin decorator, which wraps a model with temperature scaling\n",
        "    model (nn.Module):\n",
        "        A classification neural network\n",
        "        NB: Output of the neural network should be the classification logits,\n",
        "            NOT the softmax (or log softmax)!\n",
        "    \"\"\"\n",
        "    def __init__(self, model):\n",
        "        super(ModelWithTemperature, self).__init__()\n",
        "        self.model = model\n",
        "        self.temperature = nn.Parameter(torch.ones(1) * 1.5)\n",
        "\n",
        "    def forward(self, input):\n",
        "        logits = self.model(input)\n",
        "        return self.temperature_scale(logits)\n",
        "\n",
        "    def temperature_scale(self, logits):\n",
        "        \"\"\"\n",
        "        Perform temperature scaling on logits\n",
        "        \"\"\"\n",
        "        # Expand temperature to match the size of logits\n",
        "        temperature = self.temperature.unsqueeze(1).expand(logits.size(0), logits.size(1))\n",
        "        return logits / temperature\n",
        "\n",
        "    # This function probably should live outside of this class, but whatever\n",
        "    def set_temperature(self, valid_loader):\n",
        "        \"\"\"\n",
        "        Tune the tempearature of the model (using the validation set).\n",
        "        We're going to set it to optimize NLL.\n",
        "        valid_loader (DataLoader): validation set loader\n",
        "        \"\"\"\n",
        "        self.cuda()\n",
        "        nll_criterion = nn.CrossEntropyLoss().cuda()\n",
        "        ece_criterion = _ECELoss().cuda()\n",
        "\n",
        "        # First: collect all the logits and labels for the validation set\n",
        "        logits_list = []\n",
        "        labels_list = []\n",
        "        with torch.no_grad():\n",
        "            for input, label in valid_loader:\n",
        "                input = input.cuda()\n",
        "                logits = self.model(input)\n",
        "                logits_list.append(logits)\n",
        "                labels_list.append(label)\n",
        "            logits = torch.cat(logits_list).cuda()\n",
        "            labels = torch.cat(labels_list).cuda()\n",
        "\n",
        "        # Calculate NLL and ECE before temperature scaling\n",
        "        before_temperature_nll = nll_criterion(logits, labels).item()\n",
        "        before_temperature_ece = ece_criterion(logits, labels).item()\n",
        "        print('Before temperature - NLL: %.3f, ECE: %.3f' % (before_temperature_nll, before_temperature_ece))\n",
        "\n",
        "        # Next: optimize the temperature w.r.t. NLL\n",
        "        optimizer = optim.LBFGS([self.temperature], lr=0.01, max_iter=50)\n",
        "\n",
        "        def eval():\n",
        "            optimizer.zero_grad()\n",
        "            loss = nll_criterion(self.temperature_scale(logits), labels)\n",
        "            loss.backward()\n",
        "            return loss\n",
        "        optimizer.step(eval)\n",
        "\n",
        "        # Calculate NLL and ECE after temperature scaling\n",
        "        after_temperature_nll = nll_criterion(self.temperature_scale(logits), labels).item()\n",
        "        after_temperature_ece = ece_criterion(self.temperature_scale(logits), labels).item()\n",
        "        print('Optimal temperature: %.3f' % self.temperature.item())\n",
        "        print('After temperature - NLL: %.3f, ECE: %.3f' % (after_temperature_nll, after_temperature_ece))\n",
        "\n",
        "        return self\n",
        "\n",
        "\n",
        "class _ECELoss(nn.Module):\n",
        "    \"\"\"\n",
        "    Calculates the Expected Calibration Error of a model.\n",
        "    (This isn't necessary for temperature scaling, just a cool metric).\n",
        "    The input to this loss is the logits of a model, NOT the softmax scores.\n",
        "    This divides the confidence outputs into equally-sized interval bins.\n",
        "    In each bin, we compute the confidence gap:\n",
        "    bin_gap = | avg_confidence_in_bin - accuracy_in_bin |\n",
        "    We then return a weighted average of the gaps, based on the number\n",
        "    of samples in each bin\n",
        "    See: Naeini, Mahdi Pakdaman, Gregory F. Cooper, and Milos Hauskrecht.\n",
        "    \"Obtaining Well Calibrated Probabilities Using Bayesian Binning.\" AAAI.\n",
        "    2015.\n",
        "    \"\"\"\n",
        "    def __init__(self, n_bins=15):\n",
        "        \"\"\"\n",
        "        n_bins (int): number of confidence interval bins\n",
        "        \"\"\"\n",
        "        super(_ECELoss, self).__init__()\n",
        "        bin_boundaries = torch.linspace(0, 1, n_bins + 1)\n",
        "        self.bin_lowers = bin_boundaries[:-1]\n",
        "        self.bin_uppers = bin_boundaries[1:]\n",
        "\n",
        "    def forward(self, logits, labels):\n",
        "        softmaxes = F.softmax(logits, dim=1)\n",
        "        confidences, predictions = torch.max(softmaxes, 1)\n",
        "        accuracies = predictions.eq(labels)\n",
        "\n",
        "        ece = torch.zeros(1, device=logits.device)\n",
        "        for bin_lower, bin_upper in zip(self.bin_lowers, self.bin_uppers):\n",
        "            # Calculated |confidence - accuracy| in each bin\n",
        "            in_bin = confidences.gt(bin_lower.item()) * confidences.le(bin_upper.item())\n",
        "            prop_in_bin = in_bin.float().mean()\n",
        "            if prop_in_bin.item() > 0:\n",
        "                accuracy_in_bin = accuracies[in_bin].float().mean()\n",
        "                avg_confidence_in_bin = confidences[in_bin].mean()\n",
        "                ece += torch.abs(avg_confidence_in_bin - accuracy_in_bin) * prop_in_bin\n",
        "\n",
        "        return ece\n",
        "\n",
        "\n",
        "class dummy_classifier(nn.Module):\n",
        "  def __init__(self):\n",
        "    super(dummy_classifier, self).__init__()\n",
        "    self.classes_ = [0,1]\n",
        "  def forward(self, X):\n",
        "    print(torch.stack([X, 1-X], dim=1).size())\n",
        "    return torch.stack([X, 1-X], dim=1)\n",
        "\n",
        "train_data = []\n",
        "for i in range(len(df_merged.prob)):\n",
        "   train_data.append([df_merged.prob[i], df_merged.label[i]])\n",
        "\n",
        "trainloader = torch.utils.data.DataLoader(train_data, shuffle=True, batch_size=100)\n",
        "\n",
        "passthrough_classifier = dummy_classifier()\n",
        "\n",
        "scaled_model = ModelWithTemperature(passthrough_classifier)\n",
        "scaled_model.set_temperature(trainloader)"
      ],
      "metadata": {
        "id": "gVLpOO0MFhcG",
        "colab": {
          "base_uri": "https://localhost:8080/"
        },
        "outputId": "512577a4-f8f9-4055-cbe9-51ef0e53aebd"
      },
      "execution_count": 672,
      "outputs": [
        {
          "output_type": "stream",
          "name": "stdout",
          "text": [
            "torch.Size([100, 2])\n",
            "torch.Size([100, 2])\n",
            "torch.Size([100, 2])\n",
            "torch.Size([100, 2])\n",
            "torch.Size([100, 2])\n",
            "torch.Size([100, 2])\n",
            "torch.Size([100, 2])\n",
            "torch.Size([100, 2])\n",
            "torch.Size([100, 2])\n",
            "torch.Size([100, 2])\n",
            "torch.Size([100, 2])\n",
            "torch.Size([100, 2])\n",
            "torch.Size([67, 2])\n",
            "Before temperature - NLL: 0.808, ECE: 0.254\n",
            "Optimal temperature: 1.856\n",
            "After temperature - NLL: 0.748, ECE: 0.208\n"
          ]
        },
        {
          "output_type": "execute_result",
          "data": {
            "text/plain": [
              "ModelWithTemperature(\n",
              "  (model): dummy_classifier()\n",
              ")"
            ]
          },
          "metadata": {},
          "execution_count": 672
        }
      ]
    },
    {
      "cell_type": "code",
      "source": [
        "calibrated_preds = []\n",
        "for batch in trainloader:\n",
        "  data = batch[0].to('cuda:0')\n",
        "  logits = scaled_model(data).detach().cpu()\n",
        "  softmaxes = F.softmax(logits, dim=1)\n",
        "  confidences, predictions = torch.max(softmaxes, 1)\n",
        "  calibrated_preds += confidences.tolist()"
      ],
      "metadata": {
        "id": "uddWUs5pFjgb",
        "colab": {
          "base_uri": "https://localhost:8080/"
        },
        "outputId": "8ba5da24-712a-49d9-db91-aefc2c59727d"
      },
      "execution_count": 673,
      "outputs": [
        {
          "output_type": "stream",
          "name": "stdout",
          "text": [
            "torch.Size([100, 2])\n",
            "torch.Size([100, 2])\n",
            "torch.Size([100, 2])\n",
            "torch.Size([100, 2])\n",
            "torch.Size([100, 2])\n",
            "torch.Size([100, 2])\n",
            "torch.Size([100, 2])\n",
            "torch.Size([100, 2])\n",
            "torch.Size([100, 2])\n",
            "torch.Size([100, 2])\n",
            "torch.Size([100, 2])\n",
            "torch.Size([100, 2])\n",
            "torch.Size([67, 2])\n"
          ]
        }
      ]
    }
  ],
  "metadata": {
    "colab": {
      "provenance": [],
      "gpuType": "A100"
    },
    "gpuClass": "standard",
    "kernelspec": {
      "display_name": "Python 3",
      "name": "python3"
    },
    "language_info": {
      "name": "python"
    },
    "accelerator": "GPU",
    "widgets": {
      "application/vnd.jupyter.widget-state+json": {
        "464b04bec6134e8fb259b2e224bc3679": {
          "model_module": "@jupyter-widgets/controls",
          "model_name": "HBoxModel",
          "model_module_version": "1.5.0",
          "state": {
            "_dom_classes": [],
            "_model_module": "@jupyter-widgets/controls",
            "_model_module_version": "1.5.0",
            "_model_name": "HBoxModel",
            "_view_count": null,
            "_view_module": "@jupyter-widgets/controls",
            "_view_module_version": "1.5.0",
            "_view_name": "HBoxView",
            "box_style": "",
            "children": [
              "IPY_MODEL_33b478ce096947089c992d341c2c778d",
              "IPY_MODEL_80e81fc19108477c91e8c4a2074c524a",
              "IPY_MODEL_ad5c651db2814237a8aae8af68756913"
            ],
            "layout": "IPY_MODEL_91451d7820c647f999871ae1c9426dd8"
          }
        },
        "33b478ce096947089c992d341c2c778d": {
          "model_module": "@jupyter-widgets/controls",
          "model_name": "HTMLModel",
          "model_module_version": "1.5.0",
          "state": {
            "_dom_classes": [],
            "_model_module": "@jupyter-widgets/controls",
            "_model_module_version": "1.5.0",
            "_model_name": "HTMLModel",
            "_view_count": null,
            "_view_module": "@jupyter-widgets/controls",
            "_view_module_version": "1.5.0",
            "_view_name": "HTMLView",
            "description": "",
            "description_tooltip": null,
            "layout": "IPY_MODEL_7604ce0575dc4ef7a789cb1aad67e85a",
            "placeholder": "​",
            "style": "IPY_MODEL_7725dcf3387d45ca9526c0fe933f0884",
            "value": "Downloading (…)lve/main/config.json: 100%"
          }
        },
        "80e81fc19108477c91e8c4a2074c524a": {
          "model_module": "@jupyter-widgets/controls",
          "model_name": "FloatProgressModel",
          "model_module_version": "1.5.0",
          "state": {
            "_dom_classes": [],
            "_model_module": "@jupyter-widgets/controls",
            "_model_module_version": "1.5.0",
            "_model_name": "FloatProgressModel",
            "_view_count": null,
            "_view_module": "@jupyter-widgets/controls",
            "_view_module_version": "1.5.0",
            "_view_name": "ProgressView",
            "bar_style": "success",
            "description": "",
            "description_tooltip": null,
            "layout": "IPY_MODEL_efb7476b429b4386a29a0ebf89fcd1a5",
            "max": 570,
            "min": 0,
            "orientation": "horizontal",
            "style": "IPY_MODEL_299bbd5d856548328424bf0467bd301f",
            "value": 570
          }
        },
        "ad5c651db2814237a8aae8af68756913": {
          "model_module": "@jupyter-widgets/controls",
          "model_name": "HTMLModel",
          "model_module_version": "1.5.0",
          "state": {
            "_dom_classes": [],
            "_model_module": "@jupyter-widgets/controls",
            "_model_module_version": "1.5.0",
            "_model_name": "HTMLModel",
            "_view_count": null,
            "_view_module": "@jupyter-widgets/controls",
            "_view_module_version": "1.5.0",
            "_view_name": "HTMLView",
            "description": "",
            "description_tooltip": null,
            "layout": "IPY_MODEL_aaa815768c744c1e8f254e6d0db64b18",
            "placeholder": "​",
            "style": "IPY_MODEL_27c6a59524e842df99dbaab5e5aa758a",
            "value": " 570/570 [00:00&lt;00:00, 50.6kB/s]"
          }
        },
        "91451d7820c647f999871ae1c9426dd8": {
          "model_module": "@jupyter-widgets/base",
          "model_name": "LayoutModel",
          "model_module_version": "1.2.0",
          "state": {
            "_model_module": "@jupyter-widgets/base",
            "_model_module_version": "1.2.0",
            "_model_name": "LayoutModel",
            "_view_count": null,
            "_view_module": "@jupyter-widgets/base",
            "_view_module_version": "1.2.0",
            "_view_name": "LayoutView",
            "align_content": null,
            "align_items": null,
            "align_self": null,
            "border": null,
            "bottom": null,
            "display": null,
            "flex": null,
            "flex_flow": null,
            "grid_area": null,
            "grid_auto_columns": null,
            "grid_auto_flow": null,
            "grid_auto_rows": null,
            "grid_column": null,
            "grid_gap": null,
            "grid_row": null,
            "grid_template_areas": null,
            "grid_template_columns": null,
            "grid_template_rows": null,
            "height": null,
            "justify_content": null,
            "justify_items": null,
            "left": null,
            "margin": null,
            "max_height": null,
            "max_width": null,
            "min_height": null,
            "min_width": null,
            "object_fit": null,
            "object_position": null,
            "order": null,
            "overflow": null,
            "overflow_x": null,
            "overflow_y": null,
            "padding": null,
            "right": null,
            "top": null,
            "visibility": null,
            "width": null
          }
        },
        "7604ce0575dc4ef7a789cb1aad67e85a": {
          "model_module": "@jupyter-widgets/base",
          "model_name": "LayoutModel",
          "model_module_version": "1.2.0",
          "state": {
            "_model_module": "@jupyter-widgets/base",
            "_model_module_version": "1.2.0",
            "_model_name": "LayoutModel",
            "_view_count": null,
            "_view_module": "@jupyter-widgets/base",
            "_view_module_version": "1.2.0",
            "_view_name": "LayoutView",
            "align_content": null,
            "align_items": null,
            "align_self": null,
            "border": null,
            "bottom": null,
            "display": null,
            "flex": null,
            "flex_flow": null,
            "grid_area": null,
            "grid_auto_columns": null,
            "grid_auto_flow": null,
            "grid_auto_rows": null,
            "grid_column": null,
            "grid_gap": null,
            "grid_row": null,
            "grid_template_areas": null,
            "grid_template_columns": null,
            "grid_template_rows": null,
            "height": null,
            "justify_content": null,
            "justify_items": null,
            "left": null,
            "margin": null,
            "max_height": null,
            "max_width": null,
            "min_height": null,
            "min_width": null,
            "object_fit": null,
            "object_position": null,
            "order": null,
            "overflow": null,
            "overflow_x": null,
            "overflow_y": null,
            "padding": null,
            "right": null,
            "top": null,
            "visibility": null,
            "width": null
          }
        },
        "7725dcf3387d45ca9526c0fe933f0884": {
          "model_module": "@jupyter-widgets/controls",
          "model_name": "DescriptionStyleModel",
          "model_module_version": "1.5.0",
          "state": {
            "_model_module": "@jupyter-widgets/controls",
            "_model_module_version": "1.5.0",
            "_model_name": "DescriptionStyleModel",
            "_view_count": null,
            "_view_module": "@jupyter-widgets/base",
            "_view_module_version": "1.2.0",
            "_view_name": "StyleView",
            "description_width": ""
          }
        },
        "efb7476b429b4386a29a0ebf89fcd1a5": {
          "model_module": "@jupyter-widgets/base",
          "model_name": "LayoutModel",
          "model_module_version": "1.2.0",
          "state": {
            "_model_module": "@jupyter-widgets/base",
            "_model_module_version": "1.2.0",
            "_model_name": "LayoutModel",
            "_view_count": null,
            "_view_module": "@jupyter-widgets/base",
            "_view_module_version": "1.2.0",
            "_view_name": "LayoutView",
            "align_content": null,
            "align_items": null,
            "align_self": null,
            "border": null,
            "bottom": null,
            "display": null,
            "flex": null,
            "flex_flow": null,
            "grid_area": null,
            "grid_auto_columns": null,
            "grid_auto_flow": null,
            "grid_auto_rows": null,
            "grid_column": null,
            "grid_gap": null,
            "grid_row": null,
            "grid_template_areas": null,
            "grid_template_columns": null,
            "grid_template_rows": null,
            "height": null,
            "justify_content": null,
            "justify_items": null,
            "left": null,
            "margin": null,
            "max_height": null,
            "max_width": null,
            "min_height": null,
            "min_width": null,
            "object_fit": null,
            "object_position": null,
            "order": null,
            "overflow": null,
            "overflow_x": null,
            "overflow_y": null,
            "padding": null,
            "right": null,
            "top": null,
            "visibility": null,
            "width": null
          }
        },
        "299bbd5d856548328424bf0467bd301f": {
          "model_module": "@jupyter-widgets/controls",
          "model_name": "ProgressStyleModel",
          "model_module_version": "1.5.0",
          "state": {
            "_model_module": "@jupyter-widgets/controls",
            "_model_module_version": "1.5.0",
            "_model_name": "ProgressStyleModel",
            "_view_count": null,
            "_view_module": "@jupyter-widgets/base",
            "_view_module_version": "1.2.0",
            "_view_name": "StyleView",
            "bar_color": null,
            "description_width": ""
          }
        },
        "aaa815768c744c1e8f254e6d0db64b18": {
          "model_module": "@jupyter-widgets/base",
          "model_name": "LayoutModel",
          "model_module_version": "1.2.0",
          "state": {
            "_model_module": "@jupyter-widgets/base",
            "_model_module_version": "1.2.0",
            "_model_name": "LayoutModel",
            "_view_count": null,
            "_view_module": "@jupyter-widgets/base",
            "_view_module_version": "1.2.0",
            "_view_name": "LayoutView",
            "align_content": null,
            "align_items": null,
            "align_self": null,
            "border": null,
            "bottom": null,
            "display": null,
            "flex": null,
            "flex_flow": null,
            "grid_area": null,
            "grid_auto_columns": null,
            "grid_auto_flow": null,
            "grid_auto_rows": null,
            "grid_column": null,
            "grid_gap": null,
            "grid_row": null,
            "grid_template_areas": null,
            "grid_template_columns": null,
            "grid_template_rows": null,
            "height": null,
            "justify_content": null,
            "justify_items": null,
            "left": null,
            "margin": null,
            "max_height": null,
            "max_width": null,
            "min_height": null,
            "min_width": null,
            "object_fit": null,
            "object_position": null,
            "order": null,
            "overflow": null,
            "overflow_x": null,
            "overflow_y": null,
            "padding": null,
            "right": null,
            "top": null,
            "visibility": null,
            "width": null
          }
        },
        "27c6a59524e842df99dbaab5e5aa758a": {
          "model_module": "@jupyter-widgets/controls",
          "model_name": "DescriptionStyleModel",
          "model_module_version": "1.5.0",
          "state": {
            "_model_module": "@jupyter-widgets/controls",
            "_model_module_version": "1.5.0",
            "_model_name": "DescriptionStyleModel",
            "_view_count": null,
            "_view_module": "@jupyter-widgets/base",
            "_view_module_version": "1.2.0",
            "_view_name": "StyleView",
            "description_width": ""
          }
        },
        "5e41832b5b2141eb9963fc91637e9553": {
          "model_module": "@jupyter-widgets/controls",
          "model_name": "HBoxModel",
          "model_module_version": "1.5.0",
          "state": {
            "_dom_classes": [],
            "_model_module": "@jupyter-widgets/controls",
            "_model_module_version": "1.5.0",
            "_model_name": "HBoxModel",
            "_view_count": null,
            "_view_module": "@jupyter-widgets/controls",
            "_view_module_version": "1.5.0",
            "_view_name": "HBoxView",
            "box_style": "",
            "children": [
              "IPY_MODEL_2e9fad5f235243b1a384fd293b676984",
              "IPY_MODEL_2ec15fdd8ae44f06ac0cb2f478541bc9",
              "IPY_MODEL_9a22b0bdd5454d2eb7948b599331da31"
            ],
            "layout": "IPY_MODEL_dfd87afcfb30445c84d2656a0b62f539"
          }
        },
        "2e9fad5f235243b1a384fd293b676984": {
          "model_module": "@jupyter-widgets/controls",
          "model_name": "HTMLModel",
          "model_module_version": "1.5.0",
          "state": {
            "_dom_classes": [],
            "_model_module": "@jupyter-widgets/controls",
            "_model_module_version": "1.5.0",
            "_model_name": "HTMLModel",
            "_view_count": null,
            "_view_module": "@jupyter-widgets/controls",
            "_view_module_version": "1.5.0",
            "_view_name": "HTMLView",
            "description": "",
            "description_tooltip": null,
            "layout": "IPY_MODEL_0e14bfc0349648399ddc536a064b43f0",
            "placeholder": "​",
            "style": "IPY_MODEL_b5f5a1f3fd4d4bceb5b016289408982f",
            "value": "Downloading pytorch_model.bin: 100%"
          }
        },
        "2ec15fdd8ae44f06ac0cb2f478541bc9": {
          "model_module": "@jupyter-widgets/controls",
          "model_name": "FloatProgressModel",
          "model_module_version": "1.5.0",
          "state": {
            "_dom_classes": [],
            "_model_module": "@jupyter-widgets/controls",
            "_model_module_version": "1.5.0",
            "_model_name": "FloatProgressModel",
            "_view_count": null,
            "_view_module": "@jupyter-widgets/controls",
            "_view_module_version": "1.5.0",
            "_view_name": "ProgressView",
            "bar_style": "success",
            "description": "",
            "description_tooltip": null,
            "layout": "IPY_MODEL_d879d052b2584c56a74f0d03a26f4898",
            "max": 440473133,
            "min": 0,
            "orientation": "horizontal",
            "style": "IPY_MODEL_dcbb1f82cd984f8ea408154eba39999b",
            "value": 440473133
          }
        },
        "9a22b0bdd5454d2eb7948b599331da31": {
          "model_module": "@jupyter-widgets/controls",
          "model_name": "HTMLModel",
          "model_module_version": "1.5.0",
          "state": {
            "_dom_classes": [],
            "_model_module": "@jupyter-widgets/controls",
            "_model_module_version": "1.5.0",
            "_model_name": "HTMLModel",
            "_view_count": null,
            "_view_module": "@jupyter-widgets/controls",
            "_view_module_version": "1.5.0",
            "_view_name": "HTMLView",
            "description": "",
            "description_tooltip": null,
            "layout": "IPY_MODEL_a7f80f524fe04318bf65f285232792ff",
            "placeholder": "​",
            "style": "IPY_MODEL_605a2699443042958e9d834107ab1d82",
            "value": " 440M/440M [00:00&lt;00:00, 557MB/s]"
          }
        },
        "dfd87afcfb30445c84d2656a0b62f539": {
          "model_module": "@jupyter-widgets/base",
          "model_name": "LayoutModel",
          "model_module_version": "1.2.0",
          "state": {
            "_model_module": "@jupyter-widgets/base",
            "_model_module_version": "1.2.0",
            "_model_name": "LayoutModel",
            "_view_count": null,
            "_view_module": "@jupyter-widgets/base",
            "_view_module_version": "1.2.0",
            "_view_name": "LayoutView",
            "align_content": null,
            "align_items": null,
            "align_self": null,
            "border": null,
            "bottom": null,
            "display": null,
            "flex": null,
            "flex_flow": null,
            "grid_area": null,
            "grid_auto_columns": null,
            "grid_auto_flow": null,
            "grid_auto_rows": null,
            "grid_column": null,
            "grid_gap": null,
            "grid_row": null,
            "grid_template_areas": null,
            "grid_template_columns": null,
            "grid_template_rows": null,
            "height": null,
            "justify_content": null,
            "justify_items": null,
            "left": null,
            "margin": null,
            "max_height": null,
            "max_width": null,
            "min_height": null,
            "min_width": null,
            "object_fit": null,
            "object_position": null,
            "order": null,
            "overflow": null,
            "overflow_x": null,
            "overflow_y": null,
            "padding": null,
            "right": null,
            "top": null,
            "visibility": null,
            "width": null
          }
        },
        "0e14bfc0349648399ddc536a064b43f0": {
          "model_module": "@jupyter-widgets/base",
          "model_name": "LayoutModel",
          "model_module_version": "1.2.0",
          "state": {
            "_model_module": "@jupyter-widgets/base",
            "_model_module_version": "1.2.0",
            "_model_name": "LayoutModel",
            "_view_count": null,
            "_view_module": "@jupyter-widgets/base",
            "_view_module_version": "1.2.0",
            "_view_name": "LayoutView",
            "align_content": null,
            "align_items": null,
            "align_self": null,
            "border": null,
            "bottom": null,
            "display": null,
            "flex": null,
            "flex_flow": null,
            "grid_area": null,
            "grid_auto_columns": null,
            "grid_auto_flow": null,
            "grid_auto_rows": null,
            "grid_column": null,
            "grid_gap": null,
            "grid_row": null,
            "grid_template_areas": null,
            "grid_template_columns": null,
            "grid_template_rows": null,
            "height": null,
            "justify_content": null,
            "justify_items": null,
            "left": null,
            "margin": null,
            "max_height": null,
            "max_width": null,
            "min_height": null,
            "min_width": null,
            "object_fit": null,
            "object_position": null,
            "order": null,
            "overflow": null,
            "overflow_x": null,
            "overflow_y": null,
            "padding": null,
            "right": null,
            "top": null,
            "visibility": null,
            "width": null
          }
        },
        "b5f5a1f3fd4d4bceb5b016289408982f": {
          "model_module": "@jupyter-widgets/controls",
          "model_name": "DescriptionStyleModel",
          "model_module_version": "1.5.0",
          "state": {
            "_model_module": "@jupyter-widgets/controls",
            "_model_module_version": "1.5.0",
            "_model_name": "DescriptionStyleModel",
            "_view_count": null,
            "_view_module": "@jupyter-widgets/base",
            "_view_module_version": "1.2.0",
            "_view_name": "StyleView",
            "description_width": ""
          }
        },
        "d879d052b2584c56a74f0d03a26f4898": {
          "model_module": "@jupyter-widgets/base",
          "model_name": "LayoutModel",
          "model_module_version": "1.2.0",
          "state": {
            "_model_module": "@jupyter-widgets/base",
            "_model_module_version": "1.2.0",
            "_model_name": "LayoutModel",
            "_view_count": null,
            "_view_module": "@jupyter-widgets/base",
            "_view_module_version": "1.2.0",
            "_view_name": "LayoutView",
            "align_content": null,
            "align_items": null,
            "align_self": null,
            "border": null,
            "bottom": null,
            "display": null,
            "flex": null,
            "flex_flow": null,
            "grid_area": null,
            "grid_auto_columns": null,
            "grid_auto_flow": null,
            "grid_auto_rows": null,
            "grid_column": null,
            "grid_gap": null,
            "grid_row": null,
            "grid_template_areas": null,
            "grid_template_columns": null,
            "grid_template_rows": null,
            "height": null,
            "justify_content": null,
            "justify_items": null,
            "left": null,
            "margin": null,
            "max_height": null,
            "max_width": null,
            "min_height": null,
            "min_width": null,
            "object_fit": null,
            "object_position": null,
            "order": null,
            "overflow": null,
            "overflow_x": null,
            "overflow_y": null,
            "padding": null,
            "right": null,
            "top": null,
            "visibility": null,
            "width": null
          }
        },
        "dcbb1f82cd984f8ea408154eba39999b": {
          "model_module": "@jupyter-widgets/controls",
          "model_name": "ProgressStyleModel",
          "model_module_version": "1.5.0",
          "state": {
            "_model_module": "@jupyter-widgets/controls",
            "_model_module_version": "1.5.0",
            "_model_name": "ProgressStyleModel",
            "_view_count": null,
            "_view_module": "@jupyter-widgets/base",
            "_view_module_version": "1.2.0",
            "_view_name": "StyleView",
            "bar_color": null,
            "description_width": ""
          }
        },
        "a7f80f524fe04318bf65f285232792ff": {
          "model_module": "@jupyter-widgets/base",
          "model_name": "LayoutModel",
          "model_module_version": "1.2.0",
          "state": {
            "_model_module": "@jupyter-widgets/base",
            "_model_module_version": "1.2.0",
            "_model_name": "LayoutModel",
            "_view_count": null,
            "_view_module": "@jupyter-widgets/base",
            "_view_module_version": "1.2.0",
            "_view_name": "LayoutView",
            "align_content": null,
            "align_items": null,
            "align_self": null,
            "border": null,
            "bottom": null,
            "display": null,
            "flex": null,
            "flex_flow": null,
            "grid_area": null,
            "grid_auto_columns": null,
            "grid_auto_flow": null,
            "grid_auto_rows": null,
            "grid_column": null,
            "grid_gap": null,
            "grid_row": null,
            "grid_template_areas": null,
            "grid_template_columns": null,
            "grid_template_rows": null,
            "height": null,
            "justify_content": null,
            "justify_items": null,
            "left": null,
            "margin": null,
            "max_height": null,
            "max_width": null,
            "min_height": null,
            "min_width": null,
            "object_fit": null,
            "object_position": null,
            "order": null,
            "overflow": null,
            "overflow_x": null,
            "overflow_y": null,
            "padding": null,
            "right": null,
            "top": null,
            "visibility": null,
            "width": null
          }
        },
        "605a2699443042958e9d834107ab1d82": {
          "model_module": "@jupyter-widgets/controls",
          "model_name": "DescriptionStyleModel",
          "model_module_version": "1.5.0",
          "state": {
            "_model_module": "@jupyter-widgets/controls",
            "_model_module_version": "1.5.0",
            "_model_name": "DescriptionStyleModel",
            "_view_count": null,
            "_view_module": "@jupyter-widgets/base",
            "_view_module_version": "1.2.0",
            "_view_name": "StyleView",
            "description_width": ""
          }
        },
        "725e4a0a060646b1826afe3617ddd75a": {
          "model_module": "@jupyter-widgets/controls",
          "model_name": "HBoxModel",
          "model_module_version": "1.5.0",
          "state": {
            "_dom_classes": [],
            "_model_module": "@jupyter-widgets/controls",
            "_model_module_version": "1.5.0",
            "_model_name": "HBoxModel",
            "_view_count": null,
            "_view_module": "@jupyter-widgets/controls",
            "_view_module_version": "1.5.0",
            "_view_name": "HBoxView",
            "box_style": "",
            "children": [
              "IPY_MODEL_128dca68cb844f49bdf386bc0658d853",
              "IPY_MODEL_fd257659aa234a56a1cf325c89f0ab92",
              "IPY_MODEL_a9894ab958844f2a8c46bcca257cea17"
            ],
            "layout": "IPY_MODEL_b6e78464c5ae407c8d40783968cd61ef"
          }
        },
        "128dca68cb844f49bdf386bc0658d853": {
          "model_module": "@jupyter-widgets/controls",
          "model_name": "HTMLModel",
          "model_module_version": "1.5.0",
          "state": {
            "_dom_classes": [],
            "_model_module": "@jupyter-widgets/controls",
            "_model_module_version": "1.5.0",
            "_model_name": "HTMLModel",
            "_view_count": null,
            "_view_module": "@jupyter-widgets/controls",
            "_view_module_version": "1.5.0",
            "_view_name": "HTMLView",
            "description": "",
            "description_tooltip": null,
            "layout": "IPY_MODEL_182f86a3ad124d6eadcaf2ed9d22c38f",
            "placeholder": "​",
            "style": "IPY_MODEL_893510cbe91247898a48c11921586d3c",
            "value": "Downloading (…)solve/main/vocab.txt: 100%"
          }
        },
        "fd257659aa234a56a1cf325c89f0ab92": {
          "model_module": "@jupyter-widgets/controls",
          "model_name": "FloatProgressModel",
          "model_module_version": "1.5.0",
          "state": {
            "_dom_classes": [],
            "_model_module": "@jupyter-widgets/controls",
            "_model_module_version": "1.5.0",
            "_model_name": "FloatProgressModel",
            "_view_count": null,
            "_view_module": "@jupyter-widgets/controls",
            "_view_module_version": "1.5.0",
            "_view_name": "ProgressView",
            "bar_style": "success",
            "description": "",
            "description_tooltip": null,
            "layout": "IPY_MODEL_aa48269bc5694770829c46e7831dae0a",
            "max": 231508,
            "min": 0,
            "orientation": "horizontal",
            "style": "IPY_MODEL_e5caa101316943ad909416f8f0aa96c6",
            "value": 231508
          }
        },
        "a9894ab958844f2a8c46bcca257cea17": {
          "model_module": "@jupyter-widgets/controls",
          "model_name": "HTMLModel",
          "model_module_version": "1.5.0",
          "state": {
            "_dom_classes": [],
            "_model_module": "@jupyter-widgets/controls",
            "_model_module_version": "1.5.0",
            "_model_name": "HTMLModel",
            "_view_count": null,
            "_view_module": "@jupyter-widgets/controls",
            "_view_module_version": "1.5.0",
            "_view_name": "HTMLView",
            "description": "",
            "description_tooltip": null,
            "layout": "IPY_MODEL_81e8a94a2bed4f3cbb422724fdf3870b",
            "placeholder": "​",
            "style": "IPY_MODEL_2882c12c1272498faec509aeb9d4b68f",
            "value": " 232k/232k [00:00&lt;00:00, 6.96MB/s]"
          }
        },
        "b6e78464c5ae407c8d40783968cd61ef": {
          "model_module": "@jupyter-widgets/base",
          "model_name": "LayoutModel",
          "model_module_version": "1.2.0",
          "state": {
            "_model_module": "@jupyter-widgets/base",
            "_model_module_version": "1.2.0",
            "_model_name": "LayoutModel",
            "_view_count": null,
            "_view_module": "@jupyter-widgets/base",
            "_view_module_version": "1.2.0",
            "_view_name": "LayoutView",
            "align_content": null,
            "align_items": null,
            "align_self": null,
            "border": null,
            "bottom": null,
            "display": null,
            "flex": null,
            "flex_flow": null,
            "grid_area": null,
            "grid_auto_columns": null,
            "grid_auto_flow": null,
            "grid_auto_rows": null,
            "grid_column": null,
            "grid_gap": null,
            "grid_row": null,
            "grid_template_areas": null,
            "grid_template_columns": null,
            "grid_template_rows": null,
            "height": null,
            "justify_content": null,
            "justify_items": null,
            "left": null,
            "margin": null,
            "max_height": null,
            "max_width": null,
            "min_height": null,
            "min_width": null,
            "object_fit": null,
            "object_position": null,
            "order": null,
            "overflow": null,
            "overflow_x": null,
            "overflow_y": null,
            "padding": null,
            "right": null,
            "top": null,
            "visibility": null,
            "width": null
          }
        },
        "182f86a3ad124d6eadcaf2ed9d22c38f": {
          "model_module": "@jupyter-widgets/base",
          "model_name": "LayoutModel",
          "model_module_version": "1.2.0",
          "state": {
            "_model_module": "@jupyter-widgets/base",
            "_model_module_version": "1.2.0",
            "_model_name": "LayoutModel",
            "_view_count": null,
            "_view_module": "@jupyter-widgets/base",
            "_view_module_version": "1.2.0",
            "_view_name": "LayoutView",
            "align_content": null,
            "align_items": null,
            "align_self": null,
            "border": null,
            "bottom": null,
            "display": null,
            "flex": null,
            "flex_flow": null,
            "grid_area": null,
            "grid_auto_columns": null,
            "grid_auto_flow": null,
            "grid_auto_rows": null,
            "grid_column": null,
            "grid_gap": null,
            "grid_row": null,
            "grid_template_areas": null,
            "grid_template_columns": null,
            "grid_template_rows": null,
            "height": null,
            "justify_content": null,
            "justify_items": null,
            "left": null,
            "margin": null,
            "max_height": null,
            "max_width": null,
            "min_height": null,
            "min_width": null,
            "object_fit": null,
            "object_position": null,
            "order": null,
            "overflow": null,
            "overflow_x": null,
            "overflow_y": null,
            "padding": null,
            "right": null,
            "top": null,
            "visibility": null,
            "width": null
          }
        },
        "893510cbe91247898a48c11921586d3c": {
          "model_module": "@jupyter-widgets/controls",
          "model_name": "DescriptionStyleModel",
          "model_module_version": "1.5.0",
          "state": {
            "_model_module": "@jupyter-widgets/controls",
            "_model_module_version": "1.5.0",
            "_model_name": "DescriptionStyleModel",
            "_view_count": null,
            "_view_module": "@jupyter-widgets/base",
            "_view_module_version": "1.2.0",
            "_view_name": "StyleView",
            "description_width": ""
          }
        },
        "aa48269bc5694770829c46e7831dae0a": {
          "model_module": "@jupyter-widgets/base",
          "model_name": "LayoutModel",
          "model_module_version": "1.2.0",
          "state": {
            "_model_module": "@jupyter-widgets/base",
            "_model_module_version": "1.2.0",
            "_model_name": "LayoutModel",
            "_view_count": null,
            "_view_module": "@jupyter-widgets/base",
            "_view_module_version": "1.2.0",
            "_view_name": "LayoutView",
            "align_content": null,
            "align_items": null,
            "align_self": null,
            "border": null,
            "bottom": null,
            "display": null,
            "flex": null,
            "flex_flow": null,
            "grid_area": null,
            "grid_auto_columns": null,
            "grid_auto_flow": null,
            "grid_auto_rows": null,
            "grid_column": null,
            "grid_gap": null,
            "grid_row": null,
            "grid_template_areas": null,
            "grid_template_columns": null,
            "grid_template_rows": null,
            "height": null,
            "justify_content": null,
            "justify_items": null,
            "left": null,
            "margin": null,
            "max_height": null,
            "max_width": null,
            "min_height": null,
            "min_width": null,
            "object_fit": null,
            "object_position": null,
            "order": null,
            "overflow": null,
            "overflow_x": null,
            "overflow_y": null,
            "padding": null,
            "right": null,
            "top": null,
            "visibility": null,
            "width": null
          }
        },
        "e5caa101316943ad909416f8f0aa96c6": {
          "model_module": "@jupyter-widgets/controls",
          "model_name": "ProgressStyleModel",
          "model_module_version": "1.5.0",
          "state": {
            "_model_module": "@jupyter-widgets/controls",
            "_model_module_version": "1.5.0",
            "_model_name": "ProgressStyleModel",
            "_view_count": null,
            "_view_module": "@jupyter-widgets/base",
            "_view_module_version": "1.2.0",
            "_view_name": "StyleView",
            "bar_color": null,
            "description_width": ""
          }
        },
        "81e8a94a2bed4f3cbb422724fdf3870b": {
          "model_module": "@jupyter-widgets/base",
          "model_name": "LayoutModel",
          "model_module_version": "1.2.0",
          "state": {
            "_model_module": "@jupyter-widgets/base",
            "_model_module_version": "1.2.0",
            "_model_name": "LayoutModel",
            "_view_count": null,
            "_view_module": "@jupyter-widgets/base",
            "_view_module_version": "1.2.0",
            "_view_name": "LayoutView",
            "align_content": null,
            "align_items": null,
            "align_self": null,
            "border": null,
            "bottom": null,
            "display": null,
            "flex": null,
            "flex_flow": null,
            "grid_area": null,
            "grid_auto_columns": null,
            "grid_auto_flow": null,
            "grid_auto_rows": null,
            "grid_column": null,
            "grid_gap": null,
            "grid_row": null,
            "grid_template_areas": null,
            "grid_template_columns": null,
            "grid_template_rows": null,
            "height": null,
            "justify_content": null,
            "justify_items": null,
            "left": null,
            "margin": null,
            "max_height": null,
            "max_width": null,
            "min_height": null,
            "min_width": null,
            "object_fit": null,
            "object_position": null,
            "order": null,
            "overflow": null,
            "overflow_x": null,
            "overflow_y": null,
            "padding": null,
            "right": null,
            "top": null,
            "visibility": null,
            "width": null
          }
        },
        "2882c12c1272498faec509aeb9d4b68f": {
          "model_module": "@jupyter-widgets/controls",
          "model_name": "DescriptionStyleModel",
          "model_module_version": "1.5.0",
          "state": {
            "_model_module": "@jupyter-widgets/controls",
            "_model_module_version": "1.5.0",
            "_model_name": "DescriptionStyleModel",
            "_view_count": null,
            "_view_module": "@jupyter-widgets/base",
            "_view_module_version": "1.2.0",
            "_view_name": "StyleView",
            "description_width": ""
          }
        },
        "a4d42b4f5dac4c05a396a3e1f558b166": {
          "model_module": "@jupyter-widgets/controls",
          "model_name": "HBoxModel",
          "model_module_version": "1.5.0",
          "state": {
            "_dom_classes": [],
            "_model_module": "@jupyter-widgets/controls",
            "_model_module_version": "1.5.0",
            "_model_name": "HBoxModel",
            "_view_count": null,
            "_view_module": "@jupyter-widgets/controls",
            "_view_module_version": "1.5.0",
            "_view_name": "HBoxView",
            "box_style": "",
            "children": [
              "IPY_MODEL_85a8554d79194bbc925037d3cf80ac2c",
              "IPY_MODEL_28df5861f9bd471fad1ae84b1a1c5710",
              "IPY_MODEL_55a50ac0afc84b1e92374f51842bd887"
            ],
            "layout": "IPY_MODEL_1b23e4a8a42442e190e444052f1da241"
          }
        },
        "85a8554d79194bbc925037d3cf80ac2c": {
          "model_module": "@jupyter-widgets/controls",
          "model_name": "HTMLModel",
          "model_module_version": "1.5.0",
          "state": {
            "_dom_classes": [],
            "_model_module": "@jupyter-widgets/controls",
            "_model_module_version": "1.5.0",
            "_model_name": "HTMLModel",
            "_view_count": null,
            "_view_module": "@jupyter-widgets/controls",
            "_view_module_version": "1.5.0",
            "_view_name": "HTMLView",
            "description": "",
            "description_tooltip": null,
            "layout": "IPY_MODEL_cec34b2a1cd447a7ac6774ef273c3d94",
            "placeholder": "​",
            "style": "IPY_MODEL_f1fc7280821544b0bf0b7e91ab460137",
            "value": "Downloading (…)okenizer_config.json: 100%"
          }
        },
        "28df5861f9bd471fad1ae84b1a1c5710": {
          "model_module": "@jupyter-widgets/controls",
          "model_name": "FloatProgressModel",
          "model_module_version": "1.5.0",
          "state": {
            "_dom_classes": [],
            "_model_module": "@jupyter-widgets/controls",
            "_model_module_version": "1.5.0",
            "_model_name": "FloatProgressModel",
            "_view_count": null,
            "_view_module": "@jupyter-widgets/controls",
            "_view_module_version": "1.5.0",
            "_view_name": "ProgressView",
            "bar_style": "success",
            "description": "",
            "description_tooltip": null,
            "layout": "IPY_MODEL_bc25bb5322e043b987acbd0ee996f150",
            "max": 28,
            "min": 0,
            "orientation": "horizontal",
            "style": "IPY_MODEL_90956347bbc54eb9ab0eed3b70f63328",
            "value": 28
          }
        },
        "55a50ac0afc84b1e92374f51842bd887": {
          "model_module": "@jupyter-widgets/controls",
          "model_name": "HTMLModel",
          "model_module_version": "1.5.0",
          "state": {
            "_dom_classes": [],
            "_model_module": "@jupyter-widgets/controls",
            "_model_module_version": "1.5.0",
            "_model_name": "HTMLModel",
            "_view_count": null,
            "_view_module": "@jupyter-widgets/controls",
            "_view_module_version": "1.5.0",
            "_view_name": "HTMLView",
            "description": "",
            "description_tooltip": null,
            "layout": "IPY_MODEL_17c07a20e6b7434d80aefd0af7eb2c40",
            "placeholder": "​",
            "style": "IPY_MODEL_e342976795bc4623bc055241ac939175",
            "value": " 28.0/28.0 [00:00&lt;00:00, 1.84kB/s]"
          }
        },
        "1b23e4a8a42442e190e444052f1da241": {
          "model_module": "@jupyter-widgets/base",
          "model_name": "LayoutModel",
          "model_module_version": "1.2.0",
          "state": {
            "_model_module": "@jupyter-widgets/base",
            "_model_module_version": "1.2.0",
            "_model_name": "LayoutModel",
            "_view_count": null,
            "_view_module": "@jupyter-widgets/base",
            "_view_module_version": "1.2.0",
            "_view_name": "LayoutView",
            "align_content": null,
            "align_items": null,
            "align_self": null,
            "border": null,
            "bottom": null,
            "display": null,
            "flex": null,
            "flex_flow": null,
            "grid_area": null,
            "grid_auto_columns": null,
            "grid_auto_flow": null,
            "grid_auto_rows": null,
            "grid_column": null,
            "grid_gap": null,
            "grid_row": null,
            "grid_template_areas": null,
            "grid_template_columns": null,
            "grid_template_rows": null,
            "height": null,
            "justify_content": null,
            "justify_items": null,
            "left": null,
            "margin": null,
            "max_height": null,
            "max_width": null,
            "min_height": null,
            "min_width": null,
            "object_fit": null,
            "object_position": null,
            "order": null,
            "overflow": null,
            "overflow_x": null,
            "overflow_y": null,
            "padding": null,
            "right": null,
            "top": null,
            "visibility": null,
            "width": null
          }
        },
        "cec34b2a1cd447a7ac6774ef273c3d94": {
          "model_module": "@jupyter-widgets/base",
          "model_name": "LayoutModel",
          "model_module_version": "1.2.0",
          "state": {
            "_model_module": "@jupyter-widgets/base",
            "_model_module_version": "1.2.0",
            "_model_name": "LayoutModel",
            "_view_count": null,
            "_view_module": "@jupyter-widgets/base",
            "_view_module_version": "1.2.0",
            "_view_name": "LayoutView",
            "align_content": null,
            "align_items": null,
            "align_self": null,
            "border": null,
            "bottom": null,
            "display": null,
            "flex": null,
            "flex_flow": null,
            "grid_area": null,
            "grid_auto_columns": null,
            "grid_auto_flow": null,
            "grid_auto_rows": null,
            "grid_column": null,
            "grid_gap": null,
            "grid_row": null,
            "grid_template_areas": null,
            "grid_template_columns": null,
            "grid_template_rows": null,
            "height": null,
            "justify_content": null,
            "justify_items": null,
            "left": null,
            "margin": null,
            "max_height": null,
            "max_width": null,
            "min_height": null,
            "min_width": null,
            "object_fit": null,
            "object_position": null,
            "order": null,
            "overflow": null,
            "overflow_x": null,
            "overflow_y": null,
            "padding": null,
            "right": null,
            "top": null,
            "visibility": null,
            "width": null
          }
        },
        "f1fc7280821544b0bf0b7e91ab460137": {
          "model_module": "@jupyter-widgets/controls",
          "model_name": "DescriptionStyleModel",
          "model_module_version": "1.5.0",
          "state": {
            "_model_module": "@jupyter-widgets/controls",
            "_model_module_version": "1.5.0",
            "_model_name": "DescriptionStyleModel",
            "_view_count": null,
            "_view_module": "@jupyter-widgets/base",
            "_view_module_version": "1.2.0",
            "_view_name": "StyleView",
            "description_width": ""
          }
        },
        "bc25bb5322e043b987acbd0ee996f150": {
          "model_module": "@jupyter-widgets/base",
          "model_name": "LayoutModel",
          "model_module_version": "1.2.0",
          "state": {
            "_model_module": "@jupyter-widgets/base",
            "_model_module_version": "1.2.0",
            "_model_name": "LayoutModel",
            "_view_count": null,
            "_view_module": "@jupyter-widgets/base",
            "_view_module_version": "1.2.0",
            "_view_name": "LayoutView",
            "align_content": null,
            "align_items": null,
            "align_self": null,
            "border": null,
            "bottom": null,
            "display": null,
            "flex": null,
            "flex_flow": null,
            "grid_area": null,
            "grid_auto_columns": null,
            "grid_auto_flow": null,
            "grid_auto_rows": null,
            "grid_column": null,
            "grid_gap": null,
            "grid_row": null,
            "grid_template_areas": null,
            "grid_template_columns": null,
            "grid_template_rows": null,
            "height": null,
            "justify_content": null,
            "justify_items": null,
            "left": null,
            "margin": null,
            "max_height": null,
            "max_width": null,
            "min_height": null,
            "min_width": null,
            "object_fit": null,
            "object_position": null,
            "order": null,
            "overflow": null,
            "overflow_x": null,
            "overflow_y": null,
            "padding": null,
            "right": null,
            "top": null,
            "visibility": null,
            "width": null
          }
        },
        "90956347bbc54eb9ab0eed3b70f63328": {
          "model_module": "@jupyter-widgets/controls",
          "model_name": "ProgressStyleModel",
          "model_module_version": "1.5.0",
          "state": {
            "_model_module": "@jupyter-widgets/controls",
            "_model_module_version": "1.5.0",
            "_model_name": "ProgressStyleModel",
            "_view_count": null,
            "_view_module": "@jupyter-widgets/base",
            "_view_module_version": "1.2.0",
            "_view_name": "StyleView",
            "bar_color": null,
            "description_width": ""
          }
        },
        "17c07a20e6b7434d80aefd0af7eb2c40": {
          "model_module": "@jupyter-widgets/base",
          "model_name": "LayoutModel",
          "model_module_version": "1.2.0",
          "state": {
            "_model_module": "@jupyter-widgets/base",
            "_model_module_version": "1.2.0",
            "_model_name": "LayoutModel",
            "_view_count": null,
            "_view_module": "@jupyter-widgets/base",
            "_view_module_version": "1.2.0",
            "_view_name": "LayoutView",
            "align_content": null,
            "align_items": null,
            "align_self": null,
            "border": null,
            "bottom": null,
            "display": null,
            "flex": null,
            "flex_flow": null,
            "grid_area": null,
            "grid_auto_columns": null,
            "grid_auto_flow": null,
            "grid_auto_rows": null,
            "grid_column": null,
            "grid_gap": null,
            "grid_row": null,
            "grid_template_areas": null,
            "grid_template_columns": null,
            "grid_template_rows": null,
            "height": null,
            "justify_content": null,
            "justify_items": null,
            "left": null,
            "margin": null,
            "max_height": null,
            "max_width": null,
            "min_height": null,
            "min_width": null,
            "object_fit": null,
            "object_position": null,
            "order": null,
            "overflow": null,
            "overflow_x": null,
            "overflow_y": null,
            "padding": null,
            "right": null,
            "top": null,
            "visibility": null,
            "width": null
          }
        },
        "e342976795bc4623bc055241ac939175": {
          "model_module": "@jupyter-widgets/controls",
          "model_name": "DescriptionStyleModel",
          "model_module_version": "1.5.0",
          "state": {
            "_model_module": "@jupyter-widgets/controls",
            "_model_module_version": "1.5.0",
            "_model_name": "DescriptionStyleModel",
            "_view_count": null,
            "_view_module": "@jupyter-widgets/base",
            "_view_module_version": "1.2.0",
            "_view_name": "StyleView",
            "description_width": ""
          }
        }
      }
    }
  },
  "nbformat": 4,
  "nbformat_minor": 0
}