{
  "cells": [
    {
      "cell_type": "markdown",
      "metadata": {
        "id": "obAFl3XSx0Vx"
      },
      "source": [
        "## LIAR multiclass pipeline"
      ]
    },
    {
      "cell_type": "code",
      "execution_count": null,
      "metadata": {
        "colab": {
          "base_uri": "https://localhost:8080/"
        },
        "id": "Zk-JDpLWfB8D",
        "outputId": "b8d8a0f9-5a4e-4e13-e7a4-5143333768c6"
      },
      "outputs": [
        {
          "output_type": "stream",
          "name": "stdout",
          "text": [
            "Looking in indexes: https://pypi.org/simple, https://us-python.pkg.dev/colab-wheels/public/simple/\n",
            "Requirement already satisfied: transformers in /usr/local/lib/python3.10/dist-packages (4.28.1)\n",
            "Requirement already satisfied: tokenizers!=0.11.3,<0.14,>=0.11.1 in /usr/local/lib/python3.10/dist-packages (from transformers) (0.13.3)\n",
            "Requirement already satisfied: pyyaml>=5.1 in /usr/local/lib/python3.10/dist-packages (from transformers) (6.0)\n",
            "Requirement already satisfied: filelock in /usr/local/lib/python3.10/dist-packages (from transformers) (3.12.0)\n",
            "Requirement already satisfied: huggingface-hub<1.0,>=0.11.0 in /usr/local/lib/python3.10/dist-packages (from transformers) (0.14.1)\n",
            "Requirement already satisfied: packaging>=20.0 in /usr/local/lib/python3.10/dist-packages (from transformers) (23.1)\n",
            "Requirement already satisfied: regex!=2019.12.17 in /usr/local/lib/python3.10/dist-packages (from transformers) (2022.10.31)\n",
            "Requirement already satisfied: requests in /usr/local/lib/python3.10/dist-packages (from transformers) (2.27.1)\n",
            "Requirement already satisfied: tqdm>=4.27 in /usr/local/lib/python3.10/dist-packages (from transformers) (4.65.0)\n",
            "Requirement already satisfied: numpy>=1.17 in /usr/local/lib/python3.10/dist-packages (from transformers) (1.22.4)\n",
            "Requirement already satisfied: fsspec in /usr/local/lib/python3.10/dist-packages (from huggingface-hub<1.0,>=0.11.0->transformers) (2023.4.0)\n",
            "Requirement already satisfied: typing-extensions>=3.7.4.3 in /usr/local/lib/python3.10/dist-packages (from huggingface-hub<1.0,>=0.11.0->transformers) (4.5.0)\n",
            "Requirement already satisfied: idna<4,>=2.5 in /usr/local/lib/python3.10/dist-packages (from requests->transformers) (3.4)\n",
            "Requirement already satisfied: urllib3<1.27,>=1.21.1 in /usr/local/lib/python3.10/dist-packages (from requests->transformers) (1.26.15)\n",
            "Requirement already satisfied: charset-normalizer~=2.0.0 in /usr/local/lib/python3.10/dist-packages (from requests->transformers) (2.0.12)\n",
            "Requirement already satisfied: certifi>=2017.4.17 in /usr/local/lib/python3.10/dist-packages (from requests->transformers) (2022.12.7)\n",
            "Looking in indexes: https://pypi.org/simple, https://us-python.pkg.dev/colab-wheels/public/simple/\n",
            "Requirement already satisfied: sentencepiece in /usr/local/lib/python3.10/dist-packages (0.1.99)\n",
            "Looking in indexes: https://pypi.org/simple, https://us-python.pkg.dev/colab-wheels/public/simple/\n",
            "Requirement already satisfied: wandb in /usr/local/lib/python3.10/dist-packages (0.15.1)\n",
            "Requirement already satisfied: setuptools in /usr/local/lib/python3.10/dist-packages (from wandb) (67.7.2)\n",
            "Requirement already satisfied: protobuf!=4.21.0,<5,>=3.19.0 in /usr/local/lib/python3.10/dist-packages (from wandb) (3.20.3)\n",
            "Requirement already satisfied: pathtools in /usr/local/lib/python3.10/dist-packages (from wandb) (0.1.2)\n",
            "Requirement already satisfied: Click!=8.0.0,>=7.0 in /usr/local/lib/python3.10/dist-packages (from wandb) (8.1.3)\n",
            "Requirement already satisfied: docker-pycreds>=0.4.0 in /usr/local/lib/python3.10/dist-packages (from wandb) (0.4.0)\n",
            "Requirement already satisfied: GitPython!=3.1.29,>=1.0.0 in /usr/local/lib/python3.10/dist-packages (from wandb) (3.1.31)\n",
            "Requirement already satisfied: requests<3,>=2.0.0 in /usr/local/lib/python3.10/dist-packages (from wandb) (2.27.1)\n",
            "Requirement already satisfied: appdirs>=1.4.3 in /usr/local/lib/python3.10/dist-packages (from wandb) (1.4.4)\n",
            "Requirement already satisfied: psutil>=5.0.0 in /usr/local/lib/python3.10/dist-packages (from wandb) (5.9.5)\n",
            "Requirement already satisfied: sentry-sdk>=1.0.0 in /usr/local/lib/python3.10/dist-packages (from wandb) (1.22.1)\n",
            "Requirement already satisfied: PyYAML in /usr/local/lib/python3.10/dist-packages (from wandb) (6.0)\n",
            "Requirement already satisfied: setproctitle in /usr/local/lib/python3.10/dist-packages (from wandb) (1.3.2)\n",
            "Requirement already satisfied: six>=1.4.0 in /usr/local/lib/python3.10/dist-packages (from docker-pycreds>=0.4.0->wandb) (1.16.0)\n",
            "Requirement already satisfied: gitdb<5,>=4.0.1 in /usr/local/lib/python3.10/dist-packages (from GitPython!=3.1.29,>=1.0.0->wandb) (4.0.10)\n",
            "Requirement already satisfied: idna<4,>=2.5 in /usr/local/lib/python3.10/dist-packages (from requests<3,>=2.0.0->wandb) (3.4)\n",
            "Requirement already satisfied: urllib3<1.27,>=1.21.1 in /usr/local/lib/python3.10/dist-packages (from requests<3,>=2.0.0->wandb) (1.26.15)\n",
            "Requirement already satisfied: charset-normalizer~=2.0.0 in /usr/local/lib/python3.10/dist-packages (from requests<3,>=2.0.0->wandb) (2.0.12)\n",
            "Requirement already satisfied: certifi>=2017.4.17 in /usr/local/lib/python3.10/dist-packages (from requests<3,>=2.0.0->wandb) (2022.12.7)\n",
            "Requirement already satisfied: smmap<6,>=3.0.1 in /usr/local/lib/python3.10/dist-packages (from gitdb<5,>=4.0.1->GitPython!=3.1.29,>=1.0.0->wandb) (5.0.0)\n"
          ]
        }
      ],
      "source": [
        "!pip3 install transformers\n",
        "!pip3 install sentencepiece\n",
        "!pip3 install wandb"
      ]
    },
    {
      "cell_type": "markdown",
      "metadata": {
        "id": "6Mk5caTAx6Qz"
      },
      "source": [
        "### Importing packages"
      ]
    },
    {
      "cell_type": "code",
      "execution_count": null,
      "metadata": {
        "id": "Y6TDWxavXlw0"
      },
      "outputs": [],
      "source": [
        "from google.colab import drive\n",
        "import os\n",
        "import torch\n",
        "from torch.utils.data import Dataset, TensorDataset\n",
        "import numpy as np\n",
        "import random\n",
        "import transformers\n",
        "import pandas as pd\n",
        "import time\n",
        "import datetime\n",
        "import torch\n",
        "from transformers import (\n",
        "    AutoTokenizer,\n",
        "    BartForSequenceClassification,\n",
        "    BartTokenizer,\n",
        "    BertForSequenceClassification,\n",
        "    BertTokenizer,\n",
        "    BigBirdForSequenceClassification,\n",
        "    BigBirdTokenizer,\n",
        "    ConvBertForSequenceClassification,\n",
        "    ConvBertTokenizer,\n",
        "    CTRLForSequenceClassification,\n",
        "    CTRLTokenizer,\n",
        "    DebertaForSequenceClassification,\n",
        "    DebertaTokenizer,\n",
        "    DebertaV2ForSequenceClassification,\n",
        "    DebertaV2Tokenizer,\n",
        "    DistilBertForSequenceClassification,\n",
        "    DistilBertTokenizer,\n",
        "    ElectraForSequenceClassification,\n",
        "    ElectraTokenizer,\n",
        "    FNetForSequenceClassification,\n",
        "    FNetTokenizer,\n",
        "    FunnelForSequenceClassification,\n",
        "    FunnelTokenizer,\n",
        "    GPT2ForSequenceClassification,\n",
        "    GPT2Tokenizer,\n",
        "    LongformerForSequenceClassification,\n",
        "    LongformerTokenizer,\n",
        "    LukeForSequenceClassification,\n",
        "    LukeTokenizer,\n",
        "    MobileBertForSequenceClassification,\n",
        "    MobileBertTokenizer,\n",
        "    MPNetForSequenceClassification,\n",
        "    MPNetTokenizer,\n",
        "    OpenAIGPTForSequenceClassification,\n",
        "    OpenAIGPTTokenizer,\n",
        "    RobertaForSequenceClassification,\n",
        "    RobertaTokenizer,\n",
        "    SqueezeBertForSequenceClassification,\n",
        "    SqueezeBertTokenizer,\n",
        "    XLMForSequenceClassification,\n",
        "    XLMRobertaForSequenceClassification,\n",
        "    XLMRobertaTokenizer,\n",
        "    XLMTokenizer,\n",
        "    XLNetForSequenceClassification,\n",
        "    XLNetTokenizer\n",
        ")\n",
        "import wandb\n",
        "from torch.utils.data import DataLoader, RandomSampler, SequentialSampler\n",
        "from torch.utils.data import random_split\n",
        "from torch.optim import AdamW\n",
        "from transformers import get_linear_schedule_with_warmup\n",
        "from torch.utils.data import TensorDataset"
      ]
    },
    {
      "cell_type": "code",
      "execution_count": null,
      "metadata": {
        "colab": {
          "base_uri": "https://localhost:8080/"
        },
        "id": "bl0uCl69iOv7",
        "outputId": "28543656-7783-4987-c061-ecf668f7d463"
      },
      "outputs": [
        {
          "output_type": "stream",
          "name": "stdout",
          "text": [
            "Drive already mounted at /content/drive; to attempt to forcibly remount, call drive.mount(\"/content/drive\", force_remount=True).\n"
          ]
        }
      ],
      "source": [
        "drive.mount('/content/drive')"
      ]
    },
    {
      "cell_type": "code",
      "source": [
        "os.environ['CUDA_LAUNCH_BLOCKING'] = \"1\""
      ],
      "metadata": {
        "id": "iQtDG95RHwMG"
      },
      "execution_count": null,
      "outputs": []
    },
    {
      "cell_type": "code",
      "execution_count": null,
      "metadata": {
        "colab": {
          "base_uri": "https://localhost:8080/"
        },
        "id": "ehePmD9fg8Iy",
        "outputId": "3039a4ed-986f-4d1a-c0d2-a2c1b76c4974"
      },
      "outputs": [
        {
          "output_type": "stream",
          "name": "stdout",
          "text": [
            "There are 1 GPU(s) available.\n",
            "We will use the GPU: NVIDIA A100-SXM4-40GB\n"
          ]
        }
      ],
      "source": [
        "# If there's a GPU available...\n",
        "if torch.cuda.is_available():    \n",
        "\n",
        "    # Tell PyTorch to use the GPU.    \n",
        "    device = torch.device(\"cuda\")\n",
        "\n",
        "    print('There are %d GPU(s) available.' % torch.cuda.device_count())\n",
        "\n",
        "    print('We will use the GPU:', torch.cuda.get_device_name(0))\n",
        "\n",
        "# If not...\n",
        "else:\n",
        "    print('No GPU available, using the CPU instead.')\n",
        "    device = torch.device(\"cpu\")"
      ]
    },
    {
      "cell_type": "markdown",
      "metadata": {
        "id": "8i7dieVGy7Vo"
      },
      "source": [
        "#### Initializing Weights and Biases for experiment tracking later on"
      ]
    },
    {
      "cell_type": "code",
      "execution_count": null,
      "metadata": {
        "colab": {
          "base_uri": "https://localhost:8080/"
        },
        "id": "a-XdVIy1wSi9",
        "outputId": "01b66df6-faef-4cc0-80b1-bff364cd55b7"
      },
      "outputs": [
        {
          "output_type": "execute_result",
          "data": {
            "text/plain": [
              "True"
            ]
          },
          "metadata": {},
          "execution_count": 94
        }
      ],
      "source": [
        "wandb.login()"
      ]
    },
    {
      "cell_type": "code",
      "execution_count": null,
      "metadata": {
        "colab": {
          "base_uri": "https://localhost:8080/"
        },
        "id": "O-k0ZbaIzz1d",
        "outputId": "3f4fc7b3-f041-4ce7-964f-17289befacfe"
      },
      "outputs": [
        {
          "output_type": "stream",
          "name": "stdout",
          "text": [
            "Create sweep with ID: awmdo9rh\n",
            "Sweep URL: https://wandb.ai/meilina/uncategorized/sweeps/awmdo9rh\n"
          ]
        }
      ],
      "source": [
        "sweep_config = {\n",
        "    'method': 'grid', #grid, random\n",
        "    'metric': {\n",
        "      'name': 'test_accuracy',\n",
        "      'goal': 'maximize'   \n",
        "    },\n",
        "    'parameters': {\n",
        "        'learning_rate': {\n",
        "            'values': [ 5e-5, 3e-5, 2e-5]\n",
        "        },\n",
        "        'batch_size': {\n",
        "            'values': [8, 16, 32]\n",
        "        },\n",
        "        'epochs':{\n",
        "            'values':[2, 3, 4]\n",
        "        }\n",
        "    }\n",
        "}\n",
        "\n",
        "sweep_defaults = {\n",
        "    'method': 'grid', #grid, random\n",
        "    'metric': {\n",
        "      'name': 'test_accuracy',\n",
        "      'goal': 'maximize'   \n",
        "    },\n",
        "    'parameters': {\n",
        "        'learning_rate': {\n",
        "            'values': [5e-5]\n",
        "        },\n",
        "        'batch_size': {\n",
        "            'values': [32]\n",
        "        },\n",
        "        'epochs':{\n",
        "            'values':[2]\n",
        "        }\n",
        "    }\n",
        "}\n",
        "\n",
        "\n",
        "\n",
        "sweep_id = wandb.sweep(sweep_defaults)"
      ]
    },
    {
      "cell_type": "markdown",
      "metadata": {
        "id": "F22MF_4iyBGk"
      },
      "source": [
        "### Exploratory data analysis "
      ]
    },
    {
      "cell_type": "code",
      "execution_count": null,
      "metadata": {
        "id": "S257MY7AyH2v"
      },
      "outputs": [],
      "source": [
        "# TO DO"
      ]
    },
    {
      "cell_type": "markdown",
      "metadata": {
        "id": "DMscHuPSyKp-"
      },
      "source": [
        "### Dataset preparation"
      ]
    },
    {
      "cell_type": "markdown",
      "source": [
        "Run the following cells if you want to create your own dataset, and prepare your own train/test/val splits."
      ],
      "metadata": {
        "id": "9VWJs1x4DHgF"
      }
    },
    {
      "cell_type": "code",
      "source": [
        "def create_dataset(sentences, tokenizer, max_length, labels):\n",
        "    # Tokenize the sentences\n",
        "    input_ids = []\n",
        "    attention_masks = []\n",
        "    for sent in sentences:\n",
        "        encoded_dict = tokenizer.encode_plus(\n",
        "                            sent,\n",
        "                            add_special_tokens = True,\n",
        "                            max_length = max_length,\n",
        "                            pad_to_max_length = True,\n",
        "                            return_attention_mask = True,\n",
        "                            return_tensors = 'pt'\n",
        "                       )\n",
        "        \n",
        "        input_ids.append(encoded_dict['input_ids'])\n",
        "        attention_masks.append(encoded_dict['attention_mask'])\n",
        "    \n",
        "    # Convert the lists into tensors\n",
        "    input_ids = torch.cat(input_ids, dim=0)\n",
        "    attention_masks = torch.cat(attention_masks, dim=0)\n",
        "    labels = torch.tensor(labels)\n",
        "    \n",
        "    # Create a TensorDataset with the input_ids, attention_masks, and labels\n",
        "    dataset = TensorDataset(input_ids, attention_masks, labels)\n",
        "    \n",
        "    return dataset\n"
      ],
      "metadata": {
        "id": "U6gK8oXJkjfs"
      },
      "execution_count": null,
      "outputs": []
    },
    {
      "cell_type": "code",
      "execution_count": null,
      "metadata": {
        "id": "0jgweBfUPdbJ"
      },
      "outputs": [],
      "source": [
        "MODELS = {\n",
        "    'bert': (BertForSequenceClassification, BertTokenizer),\n",
        "    'ctrl': (CTRLForSequenceClassification, CTRLTokenizer),\n",
        "    'distilbert': (DistilBertForSequenceClassification, DistilBertTokenizer),\n",
        "    'gpt2': (GPT2ForSequenceClassification, GPT2Tokenizer),\n",
        "    'longformer': (LongformerForSequenceClassification, LongformerTokenizer),\n",
        "    'roberta': (RobertaForSequenceClassification, RobertaTokenizer),\n",
        "}\n",
        "\n",
        "\n",
        "def load_model(model_name, tokenizer_name, num_labels, output_attentions=False, output_hidden_states=False):\n",
        "    device = torch.device('cuda' if torch.cuda.is_available() else 'cpu')\n",
        "\n",
        "    model_type = model_name.split('-')[0].lower()\n",
        "   \n",
        "    # Edge cases \n",
        "    if 'conv' in model_name:\n",
        "      model_class = ConvBertForSequenceClassification\n",
        "      tokenizer_class = ConvBertTokenizer \n",
        "    elif 'bigbird' in model_name:\n",
        "      model_class = BigBirdForSequenceClassification\n",
        "      tokenizer_class = BigBirdTokenizer\n",
        "    elif 'luke' in model_name: #studio-ousia/luke-base\"\n",
        "      model_class = LukeForSequenceClassification\n",
        "      tokenizer_class = LukeTokenizer\n",
        "    # elif 'deberta' in model_name:\n",
        "    #   model_class = DebertaForSequenceClassification\n",
        "    #   tokenizer_class = DebertaTokenizer\n",
        "    elif 'deberta' in model_name:\n",
        "      model_class = DebertaV2ForSequenceClassification\n",
        "      tokenizer_class = DebertaV2Tokenizer\n",
        "    elif 'xlm' in model_name: #xlm-roberta-base\n",
        "      model_class = XLMRobertaForSequenceClassification\n",
        "      tokenizer_class = XLMRobertaTokenizer\n",
        "    elif 'xlnet' in model_name: #xlnet-base-cased\n",
        "      model_class = XLNetForSequenceClassification\n",
        "      tokenizer_class = XLNetTokenizer\n",
        "    elif 'squeezebert' in model_name: #squeezebert-uncased\n",
        "      model_class = SqueezeBertForSequenceClassification\n",
        "      tokenizer_class = SqueezeBertTokenizer\n",
        "    elif 'open' in model_name:\n",
        "      model_class = OpenAIGPTForSequenceClassification\n",
        "      tokenizer_class = OpenAIGPTTokenizer\n",
        "    elif 'mpnet' in model_name:\n",
        "      model_class = MPNetForSequenceClassification\n",
        "      tokenizer_class = MPNetTokenizer\n",
        "    elif 'mobile' in model_name:\n",
        "      model_class = MobileBertForSequenceClassification\n",
        "      tokenizer_class = MobileBertTokenizer\n",
        "    elif 'electra' in model_name: #electra-base-uncased\n",
        "      model_class = ElectraForSequenceClassification\n",
        "      tokenizer_class = ElectraTokenizer\n",
        "    elif 'small' in model_name: #funnel-transformer/small-base\n",
        "      model_class = FunnelForSequenceClassification\n",
        "      tokenizer_class = FunnelTokenizer \n",
        "    elif 'fnet' in model_name: #fnet-base\n",
        "      model_class = FNetForSequenceClassification\n",
        "      tokenizer_class = FNetTokenizer\n",
        "    else:\n",
        "      model_class, tokenizer_class = MODELS[model_type]\n",
        "    model = model_class.from_pretrained(model_name,num_labels=num_labels,output_attentions=output_attentions,output_hidden_states=output_hidden_states).to(device)\n",
        "    tokenizer = tokenizer_class.from_pretrained(tokenizer_name)\n",
        "    return model, tokenizer"
      ]
    },
    {
      "cell_type": "code",
      "execution_count": null,
      "metadata": {
        "id": "XKeFmWsPdZyp"
      },
      "outputs": [],
      "source": [
        "def get_max_length(sentences, tokenizer, model):\n",
        "    max_length = 0\n",
        "    for sent in sentences:\n",
        "        encoded_sent = tokenizer.encode(sent, add_special_tokens=True)\n",
        "        max_length = max(max_length, len(encoded_sent))\n",
        "    return max_length"
      ]
    },
    {
      "cell_type": "code",
      "execution_count": null,
      "metadata": {
        "id": "M5kvjpTGZ7wK"
      },
      "outputs": [],
      "source": [
        "import torch\n",
        "\n",
        "def tokenize_sentences(sentences, tokenizer, max_length, labels):\n",
        "    # Initialize empty lists to hold the tokenized input and attention masks.\n",
        "    input_ids = []\n",
        "    attention_masks = []\n",
        "    sentence_ids = []\n",
        "    counter = 0\n",
        "\n",
        "    # For every sentence...\n",
        "    for sent in sentences:\n",
        "        # Encode the sentence using the tokenizer.\n",
        "        encoded_dict = tokenizer.encode_plus(\n",
        "                        sent,                      # Sentence to encode.\n",
        "                        add_special_tokens = True, # Add '[CLS]' and '[SEP]'\n",
        "                        max_length = 120,   # Pad & truncate all sentences.\n",
        "                        pad_to_max_length = True,\n",
        "                        return_attention_mask = True,   # Construct attn. masks.\n",
        "                        return_tensors = 'pt',     # Return pytorch tensors.\n",
        "                   )\n",
        "\n",
        "        # Add the encoded sentence to the list.    \n",
        "        input_ids.append(encoded_dict['input_ids'])\n",
        "\n",
        "        # And its attention mask (simply differentiates padding from non-padding).\n",
        "        attention_masks.append(encoded_dict['attention_mask'])\n",
        "        sentence_ids.append(counter)\n",
        "        counter  = counter + 1\n",
        "\n",
        "    # Convert the lists into tensors.\n",
        "    input_ids = torch.cat(input_ids, dim=0)\n",
        "    attention_masks = torch.cat(attention_masks, dim=0)\n",
        "    sentence_ids = torch.tensor(sentence_ids)\n",
        "    labels = torch.tensor(labels)\n",
        "\n",
        "    # Return a dictionary containing the input_ids, attention_masks, and sentence_ids.\n",
        "    return {'input_ids': input_ids, 'attention_masks': attention_masks, 'sentence_ids': sentence_ids, 'labels': labels}\n"
      ]
    },
    {
      "cell_type": "code",
      "execution_count": null,
      "metadata": {
        "id": "5-a5FoM5cPv7"
      },
      "outputs": [],
      "source": [
        "def create_dataset(sentences, tokenizer, max_length, labels):\n",
        "    # Tokenize the sentences.\n",
        "    tokenized = tokenize_sentences(sentences, tokenizer, max_length, labels)\n",
        "\n",
        "    # Combine the inputs and labels into a TensorDataset.\n",
        "    dataset = TensorDataset(\n",
        "        tokenized['sentence_ids'],\n",
        "        tokenized['input_ids'],\n",
        "        tokenized['attention_masks'],\n",
        "        tokenized['labels']\n",
        "    )\n",
        "\n",
        "    return dataset\n"
      ]
    },
    {
      "cell_type": "code",
      "execution_count": null,
      "metadata": {
        "id": "C3RkT-GUdv4p"
      },
      "outputs": [],
      "source": [
        "def index_remover(tensordata):\n",
        "    input_ids = []\n",
        "    attention_masks = []\n",
        "    labels = []\n",
        "   \n",
        "    for a,b,c,d in tensordata:\n",
        "        input_ids.append(b.tolist())\n",
        "        attention_masks.append(c.tolist())\n",
        "        labels.append(d.tolist())\n",
        "        \n",
        "    input_ids = torch.tensor(input_ids)\n",
        "    attention_masks = torch.tensor(attention_masks)\n",
        "    labels = torch.tensor(labels)\n",
        "    \n",
        "    final_dataset =  TensorDataset(input_ids, attention_masks, labels)\n",
        "    return final_dataset"
      ]
    },
    {
      "cell_type": "code",
      "source": [
        "def create_train_val_test_datasets(dataset, split_ratio=(0.8, 0.1, 0.1)):\n",
        "    # Calculate the number of samples to include in each set.\n",
        "    num_samples = len(dataset)\n",
        "    train_size = int(split_ratio[0] * num_samples)\n",
        "    val_size = int(split_ratio[1] * num_samples)\n",
        "    test_size = num_samples - train_size - val_size\n",
        "\n",
        "    # Divide the dataset by randomly selecting samples.\n",
        "    train_dataset, val_dataset, test_dataset = random_split(dataset, [train_size, val_size, test_size])\n",
        "\n",
        "    # Remove sentence IDs from tensor dataset so that it can be used for training/validation/testing.\n",
        "    train_dataset = index_remover(train_dataset)\n",
        "    val_dataset = index_remover(val_dataset)\n",
        "    test_dataset = index_remover(test_dataset)\n",
        "\n",
        "    # Print the number of samples in each set.\n",
        "    print('{:>5,} training samples'.format(train_size))\n",
        "    print('{:>5,} validation samples'.format(val_size))\n",
        "    print('{:>5,} testing samples'.format(test_size))\n",
        "\n",
        "    return train_dataset, val_dataset, test_dataset\n"
      ],
      "metadata": {
        "id": "Ql1RLk9DDam5"
      },
      "execution_count": null,
      "outputs": []
    },
    {
      "cell_type": "markdown",
      "metadata": {
        "id": "YEkywdp-xq64"
      },
      "source": [
        "### Hyperparameter setting"
      ]
    },
    {
      "cell_type": "code",
      "execution_count": null,
      "metadata": {
        "id": "fqHqSc6EkHfN"
      },
      "outputs": [],
      "source": [
        "def get_data_loaders(train_dataset, val_dataset, test_dataset):\n",
        "    # Create the training dataloader.\n",
        "    batch_size = wandb.config.batch_size\n",
        "    train_dataloader = DataLoader(\n",
        "        train_dataset,  # The training samples.\n",
        "        sampler=RandomSampler(train_dataset), # Select batches randomly\n",
        "        batch_size=batch_size # Trains with this batch size.\n",
        "    )\n",
        "\n",
        "    # Create the validation dataloader.\n",
        "    val_dataloader = DataLoader(\n",
        "        val_dataset, # The validation samples.\n",
        "        sampler=SequentialSampler(val_dataset), # Pull out batches sequentially.\n",
        "        batch_size=batch_size # Evaluate with this batch size.\n",
        "    )\n",
        "\n",
        "    # Create the validation dataloader.\n",
        "    test_dataloader = DataLoader(\n",
        "        test_dataset, # The testing samples.\n",
        "        sampler=SequentialSampler(test_dataset), # Pull out batches sequentially.\n",
        "        batch_size=batch_size # Evaluate with this batch size.\n",
        "    )\n",
        "    return train_dataloader, val_dataloader, test_dataloader"
      ]
    },
    {
      "cell_type": "code",
      "execution_count": null,
      "metadata": {
        "id": "a8AOfmX0eJeF"
      },
      "outputs": [],
      "source": [
        "def get_optimizer(model):\n",
        "    optimizer = AdamW(model.parameters(),\n",
        "                      lr=wandb.config.learning_rate, \n",
        "                      eps=1e-8)\n",
        "    return optimizer"
      ]
    },
    {
      "cell_type": "code",
      "execution_count": null,
      "metadata": {
        "id": "MwcozfhYeM49"
      },
      "outputs": [],
      "source": [
        "def get_scheduler(dataloader, optimizer):\n",
        "    # Total number of training steps is [number of batches] x [number of epochs]. \n",
        "    # (Note that this is not the same as the number of training samples).\n",
        "    epochs = wandb.config.epochs\n",
        "    total_steps = len(dataloader) * epochs\n",
        "\n",
        "    # Create the learning rate scheduler.\n",
        "    scheduler = get_linear_schedule_with_warmup(optimizer, \n",
        "                                                num_warmup_steps = 0, # Default value in run_glue.py\n",
        "                                                num_training_steps = total_steps)\n",
        "    return scheduler"
      ]
    },
    {
      "cell_type": "code",
      "execution_count": null,
      "metadata": {
        "id": "sxwQN2iH5jV6"
      },
      "outputs": [],
      "source": [
        "import numpy as np\n",
        "\n",
        "# Function to calculate the accuracy of our predictions vs labels\n",
        "def flat_accuracy(preds, labels):\n",
        "    pred_flat = np.argmax(preds, axis=1).flatten()\n",
        "    labels_flat = labels.flatten()\n",
        "    return np.sum(pred_flat == labels_flat) / len(labels_flat)\n",
        "    \n",
        "import time\n",
        "import datetime\n",
        "\n",
        "def format_time(elapsed):\n",
        "    '''\n",
        "    Takes a time in seconds and returns a string hh:mm:ss\n",
        "    '''\n",
        "    # Round to the nearest second.\n",
        "    elapsed_rounded = int(round((elapsed)))\n",
        "    \n",
        "    # Format as hh:mm:ss\n",
        "    return str(datetime.timedelta(seconds=elapsed_rounded))"
      ]
    },
    {
      "cell_type": "code",
      "source": [
        "from torch.utils.data import random_split\n",
        "\n",
        "def create_train_val_test_datasets2(dataset, split_ratio=(0.8, 0.1, 0.1)):\n",
        "    # Calculate the number of samples to include in each set.\n",
        "    num_samples = len(dataset)\n",
        "    train_size = int(split_ratio[0] * num_samples)\n",
        "    val_size = int(split_ratio[1] * num_samples)\n",
        "    test_size = num_samples - train_size - val_size\n",
        "\n",
        "    # Divide the dataset by randomly selecting samples.\n",
        "    train_dataset, val_dataset, test_dataset = random_split(dataset, [train_size, val_size, test_size])\n",
        "\n",
        "    # Remove sentence IDs from tensor dataset so that it can be used for training/validation/testing.\n",
        "    train_dataset = index_remover(train_dataset)\n",
        "    val_dataset = index_remover(val_dataset)\n",
        "    test_dataset = index_remover(test_dataset)\n",
        "\n",
        "    # Print the number of samples in each set.\n",
        "    print('{:>5,} training samples'.format(train_size))\n",
        "    print('{:>5,} validation samples'.format(val_size))\n",
        "    print('{:>5,} testing samples'.format(test_size))\n",
        "\n",
        "    return train_dataset, val_dataset, test_dataset\n"
      ],
      "metadata": {
        "id": "msh46uK2typz"
      },
      "execution_count": null,
      "outputs": []
    },
    {
      "cell_type": "code",
      "source": [
        "import pandas as pd\n",
        "from torch.utils.data import TensorDataset\n",
        "from sklearn.metrics import f1_score\n",
        "import json\n",
        "\n",
        "def train_train():\n",
        "    wandb.init(project=\"liar-multiclass\", name=\"xlmroberta-base\")\n",
        "\n",
        "    # Read the data\n",
        "    train_data = pd.read_json(\"/content/drive/MyDrive/misinfo/LIAR_train.jsonl\", lines=True, orient='records')\n",
        "    val_data = pd.read_json(\"/content/drive/MyDrive/misinfo/LIAR_val.jsonl\", lines=True, orient='records')\n",
        "    test_data = pd.read_json(\"/content/drive/MyDrive/misinfo/LIAR_test.jsonl\", lines=True, orient='records')\n",
        "\n",
        "    # Extract sentences and labels from the data\n",
        "    train_sentences = train_data['text'].tolist()\n",
        "    train_labels = train_data['label'].tolist()\n",
        "    val_sentences = val_data['text'].tolist()\n",
        "    val_labels = val_data['label'].tolist()\n",
        "    test_sentences = test_data['text'].tolist()\n",
        "    test_labels = test_data['label'].tolist()\n",
        "\n",
        "    # Load the model and tokenizer\n",
        "    #model, tokenizer = load_model('bert-base-uncased', 'bert-base-uncased', num_labels=6, output_attentions=False, output_hidden_states=False)\n",
        "    #model, tokenizer = load_model('bert-base-uncased', 'bert-base-uncased', num_labels=6, output_attentions=False, output_hidden_states=False)\n",
        "    #model, tokenizer = load_model('microsoft/deberta-base', 'microsoft/deberta-base', num_labels=6, output_attentions=False, output_hidden_states=False)    \n",
        "    #model, tokenizer = load_model('YituTech/conv-bert-base', 'YituTech/conv-bert-base', num_labels=6, output_attentions=False, output_hidden_states=False)\n",
        "    #model, tokenizer = load_model('funnel-transformer/small-base', 'funnel-transformer/small-base', num_labels=6, output_attentions=False, output_hidden_states=False) \n",
        "    #model, tokenizer = load_model('studio-ousia/luke-base', 'studio-ousia/luke-base', num_labels=6, output_attentions=False, output_hidden_states=False)  \n",
        "    #model, tokenizer = load_model(\"funnel-transformer/small-base\", \"funnel-transformer/small-base\", num_labels=6, output_attentions=False, output_hidden_states=False)  \n",
        "    #model, tokenizer = load_model('roberta-base', 'roberta-base', num_labels=6, output_attentions=False, output_hidden_states=False)    \n",
        "    #model, tokenizer = load_model('squeezebert/squeezebert-uncased', 'squeezebert/squeezebert-uncased', num_labels=6, output_attentions=False, output_hidden_states=False)    \n",
        "    model, tokenizer = load_model('xlm-roberta-base', 'xlm-roberta-base', num_labels=6, output_attentions=False, output_hidden_states=False)    \n",
        "    #model, tokenizer = load_model('microsoft/deberta-v3-base', 'microsoft/deberta-v3-base', num_labels=6, output_attentions=False,  output_hidden_states=False)  \n",
        "    # Get the maximum sentence length\n",
        "    max_length = get_max_length(train_sentences + val_sentences + test_sentences, tokenizer, model)\n",
        "\n",
        "    # Create datasets\n",
        "    train_dataset = create_dataset(train_sentences, tokenizer, max_length, train_labels)\n",
        "    val_dataset = create_dataset(val_sentences, tokenizer, max_length, val_labels)\n",
        "    test_dataset = create_dataset(test_sentences, tokenizer, max_length, test_labels)\n",
        "\n",
        "    # Remove sentence_ids from the datasets\n",
        "    train_dataset = index_remover(train_dataset)\n",
        "    val_dataset = index_remover(val_dataset)\n",
        "    test_dataset = index_remover(test_dataset)\n",
        "\n",
        "    # Get data loaders\n",
        "    train_dataloader, validation_dataloader, testing_dataloader = get_data_loaders(train_dataset, val_dataset, test_dataset)\n",
        "\n",
        "    # Get optimizer and scheduler\n",
        "    optimizer = get_optimizer(model)\n",
        "    scheduler = get_scheduler(train_dataloader, optimizer)\n",
        "    seed_val=42\n",
        "    random.seed(seed_val)\n",
        "    np.random.seed(seed_val)\n",
        "    torch.manual_seed(seed_val)\n",
        "    torch.cuda.manual_seed_all(seed_val)\n",
        "\n",
        "    # Measure the total training time for the whole run.\n",
        "    total_t0 = time.time()\n",
        "    epochs = wandb.config.epochs\n",
        "\n",
        "    # For each epoch...\n",
        "    for epoch_i in range(0, epochs):\n",
        "\n",
        "        # ========================================\n",
        "        #               Training\n",
        "        # ========================================\n",
        "\n",
        "        # Perform one full pass over the training set.\n",
        "        print(\"\")\n",
        "        print('======== Epoch {:} / {:} ========'.format(epoch_i + 1, epochs))\n",
        "        print('Training...')\n",
        "\n",
        "        # Measure how long the training epoch takes.\n",
        "        t0 = time.time()\n",
        "\n",
        "        # Reset the total loss for this epoch.\n",
        "        total_train_loss = 0\n",
        "\n",
        "        # Put the model into training mode. Don't be mislead--the call to \n",
        "        # `train` just changes the *mode*, it doesn't *perform* the training.\n",
        "        # `dropout` and `batchnorm` layers behave differently during training\n",
        "        # vs. test (source: https://stackoverflow.com/questions/51433378/what-does-model-train-do-in-pytorch)\n",
        "        model.train()\n",
        "\n",
        "        # For each batch of training data...\n",
        "        for step, batch in enumerate(train_dataloader):\n",
        "\n",
        "            # Progress update every 40 batches.\n",
        "            if step % 40 == 0 and not step == 0:\n",
        "                # Calculate elapsed time in minutes.\n",
        "                elapsed = format_time(time.time() - t0)\n",
        "\n",
        "                # Report progress.\n",
        "                print('  Batch {:>5,}  of  {:>5,}.    Elapsed: {:}.'.format(step, len(train_dataloader), elapsed))\n",
        "\n",
        "\n",
        "            # Unpack this training batch from our dataloader. \n",
        "            #\n",
        "            # As we unpack the batch, we'll also copy each tensor to the GPU using the \n",
        "            # `to` method.\n",
        "            #\n",
        "            # `batch` contains three pytorch tensors:\n",
        "            #   [0]: input ids \n",
        "            #   [1]: attention masks\n",
        "            #   [2]: labels \n",
        "            b_input_ids = batch[0].to(device)\n",
        "            b_input_mask = batch[1].to(device)\n",
        "            b_labels = batch[2].to(device)\n",
        "\n",
        "            # Always clear any previously calculated gradients before performing a\n",
        "            # backward pass. PyTorch doesn't do this automatically because \n",
        "            # accumulating the gradients is \"convenient while training RNNs\". \n",
        "            # (source: https://stackoverflow.com/questions/48001598/why-do-we-need-to-call-zero-grad-in-pytorch)\n",
        "            model.zero_grad()        \n",
        "\n",
        "            # Perform a forward pass (evaluate the model on this training batch).\n",
        "            # The documentation for this `model` function is here: \n",
        "            # https://huggingface.co/transformers/v2.2.0/model_doc/bert.html#transformers.BertForSequenceClassification\n",
        "            # It returns different numbers of parameters depending on what arguments\n",
        "            # arge given and what flags are set. For our useage here, it returns\n",
        "            # the loss (because we provided labels) and the \"logits\"--the model\n",
        "            # outputs prior to activation.\n",
        "            loss, logits = model(b_input_ids, \n",
        "                                token_type_ids=None, \n",
        "                                attention_mask=b_input_mask, \n",
        "                                labels=b_labels).to_tuple()\n",
        "\n",
        "            # Accumulate the training loss over all of the batches so that we can\n",
        "            # calculate the average loss at the end. `loss` is a Tensor containing a\n",
        "            # single value; the `.item()` function just returns the Python value \n",
        "            # from the tensor.\n",
        "            total_train_loss += loss.item()\n",
        "\n",
        "            # Perform a backward pass to calculate the gradients.\n",
        "            loss.backward()\n",
        "\n",
        "            # Clip the norm of the gradients to 1.0.\n",
        "            # This is to help prevent the \"exploding gradients\" problem.\n",
        "            torch.nn.utils.clip_grad_norm_(model.parameters(), 1.0)\n",
        "\n",
        "            # Update parameters and take a step using the computed gradient.\n",
        "            # The optimizer dictates the \"update rule\"--how the parameters are\n",
        "            # modified based on their gradients, the learning rate, etc.\n",
        "            optimizer.step()\n",
        "\n",
        "            # Update the learning rate.\n",
        "            scheduler.step()\n",
        "\n",
        "        # Calculate the average loss over all of the batches.\n",
        "        avg_train_loss = total_train_loss / len(train_dataloader)            \n",
        "        \n",
        "        # Measure how long this epoch took.\n",
        "        training_time = format_time(time.time() - t0)\n",
        "\n",
        "        wandb.log({'avg_train_loss':avg_train_loss, 'train_batch_loss':loss.item()})\n",
        "\n",
        "        print(\"\")\n",
        "        print(\"  average training loss: {0:.2f}\".format(avg_train_loss))\n",
        "        print(\"  training epoch took: {:}\".format(training_time))\n",
        "            \n",
        "        # ========================================\n",
        "        #               Testing\n",
        "        # ========================================\n",
        "        # After the completion of each training epoch, measure our performance on\n",
        "        # our testing set.\n",
        "\n",
        "        print(\"\")\n",
        "        print(\"Running testing...\")\n",
        "\n",
        "        t0 = time.time()\n",
        "\n",
        "        # Put the model in evaluation mode--the dropout layers behave differently\n",
        "        # during evaluation.\n",
        "        model.eval()\n",
        "\n",
        "        # Tracking variables \n",
        "        total_test_accuracy = 0\n",
        "        total_test_loss = 0\n",
        "        nb_eval_steps = 0\n",
        "        true_labels = []\n",
        "        pred_labels = []\n",
        "        all_logits = []\n",
        "        all_probs = []\n",
        "        all_labels = []\n",
        "\n",
        "        # Evaluate data for one epoch\n",
        "        for batch in testing_dataloader:\n",
        "            \n",
        "            # Unpack this training batch from our dataloader. \n",
        "            #\n",
        "            # As we unpack the batch, we'll also copy each tensor to the GPU using \n",
        "            # the `to` method.\n",
        "            #\n",
        "            # `batch` contains three pytorch tensors:\n",
        "            #   [0]: input ids \n",
        "            #   [1]: attention masks\n",
        "            #   [2]: labels \n",
        "            b_input_ids = batch[0].to(device)\n",
        "            b_input_mask = batch[1].to(device)\n",
        "            b_labels = batch[2].to(device)\n",
        "            \n",
        "            # Tell pytorch not to bother with constructing the compute graph during\n",
        "            # the forward pass, since this is only needed for backprop (training).\n",
        "            with torch.no_grad():        \n",
        "\n",
        "                # Forward pass, calculate logit predictions.\n",
        "                # token_type_ids is the same as the \"segment ids\", which \n",
        "                # differentiates sentence 1 and 2 in 2-sentence tasks.\n",
        "                # The documentation for this `model` function is here: \n",
        "                # https://huggingface.co/transformers/v2.2.0/model_doc/bert.html#transformers.BertForSequenceClassification\n",
        "                # Get the \"logits\" output by the model. The \"logits\" are the output\n",
        "                # values prior to applying an activation function like the softmax.\n",
        "                loss, logits = model(b_input_ids, \n",
        "                                      token_type_ids=None, \n",
        "                                      attention_mask=b_input_mask,\n",
        "                                      labels=b_labels).to_tuple()  \n",
        "            # Accumulate the test loss.\n",
        "                total_test_loss += loss.item()\n",
        "\n",
        "            # Move logits and labels to CPU\n",
        "            logits = logits.detach().cpu().numpy()\n",
        "            #probs = torch.softmax(logits, dim=-1).detach().cpu()\n",
        "            label_ids = b_labels.to('cpu').numpy()\n",
        "\n",
        "            # Calculate the accuracy for this batch of test sentences, and\n",
        "            # accumulate it over all batches.\n",
        "            total_test_accuracy += flat_accuracy(logits, label_ids)\n",
        "\n",
        "            #logits = logits.cpu().numpy()\n",
        "            probs = torch.softmax(torch.tensor(logits), dim=-1).detach().cpu().numpy()\n",
        "            predicted_labels = np.argmax(logits, axis=1)\n",
        "            all_probs.extend(probs.tolist())\n",
        "            all_labels.extend(predicted_labels.tolist())\n",
        "\n",
        "            # Save the labels and probabilities to a JSON file\n",
        "            output_file = 'labels_probs.json'\n",
        "            with open(output_file, 'w') as f:\n",
        "              json.dump({'labels': all_labels, 'probs': all_probs}, f)\n",
        "\n",
        "\n",
        "            true_labels.extend(label_ids)\n",
        "            pred_labels.extend(np.argmax(logits, axis=1))\n",
        "            \n",
        "\n",
        "        # Report the final accuracy for this testing run.\n",
        "        avg_test_accuracy = total_test_accuracy / len(testing_dataloader)\n",
        "        print(\"  accuracy: {0:.2f}\".format(avg_test_accuracy))\n",
        "\n",
        "        # Calculate the average loss over all of the batches.\n",
        "        avg_test_loss = total_test_loss / len(testing_dataloader)\n",
        "        f1 = f1_score(true_labels, pred_labels, average='weighted')\n",
        "        print(\"  f1 score: {0:.2f}\".format(f1))\n",
        "        \n",
        "        # Measure how long the testing run took.\n",
        "        testing_time = format_time(time.time() - t0)\n",
        "        wandb.log({'test_accuracy':avg_test_accuracy,'avg_test_loss':avg_test_loss, 'f1': f1})\n",
        "        print(\"  testing loss: {0:.2f}\".format(avg_test_loss))\n",
        "        print(\"  testing took: {:}\".format(testing_time))\n",
        "\n",
        "\n",
        "    print(\"\")\n",
        "    print(\"training complete!\")\n",
        "\n",
        "    print(\"total training took {:} (h:mm:ss)\".format(format_time(time.time()-total_t0)))\n",
        "\n",
        "\n"
      ],
      "metadata": {
        "id": "JYr8_WkeuLdS"
      },
      "execution_count": null,
      "outputs": []
    },
    {
      "cell_type": "code",
      "source": [
        "wandb.agent(sweep_id,function=train_train)"
      ],
      "metadata": {
        "id": "7glU6wsSp9-P",
        "colab": {
          "base_uri": "https://localhost:8080/",
          "height": 1000,
          "referenced_widgets": [
            "169990356e154b088948010d617cfbae",
            "09d5d6f1d83e416581e101e6e90504ed",
            "ae349d25c61c4a73b261a3f0e85a01f2",
            "2c8c3d2819784de68350ff1421b744fe",
            "8b4f62a3e8dd4b10a3c57e53a9f9e9b9",
            "c9eb06dd26284fb898fa69d1a892acb1",
            "0d49d66745814671983787d0fbebad2b",
            "4f8a2f6d46354613a0302c1bed50d8ae",
            "3362d7901971497186525dcfc440b8a9",
            "cb588cb9f1b449f9b35671383b38e273",
            "4c3f0076846943f4ae149c9c63c86d35",
            "138fbc86ea0d4fe58cedead7516df902",
            "70eb08d8961b49749f0db643eec6239b",
            "078238f77c884ab7946385428401ea6a",
            "6b3610d7f1f64eb0ab2734b51b49d47f",
            "a5d0814db93343eda9c016bd0e74d082",
            "e907a0f0cf034447b1d362da483feac0",
            "2257e7cdeb3a457ea783b066b9c28b69",
            "d60d7f6f089a421ba75f993ba40118aa",
            "41a6ebad7f564b2196bbf4372698674d",
            "735ca1888d6748f499b40d9f15ecfc24",
            "56f9f23b1b6f4cbb9860717248e4980e",
            "1eadf8c16e7945c192a7de631e856055",
            "8f296522223b4ba19b5d07326312a9a5",
            "b0d53c3db67a4532b8cf07500b726feb",
            "86dc1c9e3d064e8c9b71bfa4a7b93c26",
            "91967f1f6686471494fa2483bd1c4cab",
            "dc18d215d20b4440aa17557487c50a46",
            "05622cffcbf64bfeb2af5c40bb5869a0",
            "bdb2efb9600842b68283bd5b795125f6",
            "14c36ce1368b427c97bf264b9b19eacc",
            "4811aa9322294863826b7ec3683529fa",
            "231ffab89fad47d69f310c6c101d727b",
            "fdbe5f7b49b247ec9ac041b9b6162b66",
            "976f2688fe0d4014b24452e7ab167d7b",
            "b28a99928061448bafb4e4da099e5383",
            "29ce94d67f294078b5b59e5ae9f6b6ea",
            "6b61fbcbd3c146a488599e94acdfcaaa",
            "979b30e8fa714193b9aa7849fa259876",
            "12d0a52dc74f44f78cf2b2b976207ad1",
            "3dd696fc30ba4abcbb5998e0928132b7"
          ]
        },
        "outputId": "175d5922-5b93-4625-ad9e-a1afa1d50be2"
      },
      "execution_count": null,
      "outputs": [
        {
          "output_type": "stream",
          "name": "stderr",
          "text": [
            "\u001b[34m\u001b[1mwandb\u001b[0m: Agent Starting Run: zn1yrxln with config:\n",
            "\u001b[34m\u001b[1mwandb\u001b[0m: \tbatch_size: 32\n",
            "\u001b[34m\u001b[1mwandb\u001b[0m: \tepochs: 2\n",
            "\u001b[34m\u001b[1mwandb\u001b[0m: \tlearning_rate: 5e-05\n",
            "\u001b[34m\u001b[1mwandb\u001b[0m: \u001b[33mWARNING\u001b[0m Ignored wandb.init() arg project when running a sweep.\n"
          ]
        },
        {
          "output_type": "display_data",
          "data": {
            "text/plain": [
              "<IPython.core.display.HTML object>"
            ],
            "text/html": [
              "Tracking run with wandb version 0.15.1"
            ]
          },
          "metadata": {}
        },
        {
          "output_type": "display_data",
          "data": {
            "text/plain": [
              "<IPython.core.display.HTML object>"
            ],
            "text/html": [
              "Run data is saved locally in <code>/content/wandb/run-20230505_200655-zn1yrxln</code>"
            ]
          },
          "metadata": {}
        },
        {
          "output_type": "display_data",
          "data": {
            "text/plain": [
              "<IPython.core.display.HTML object>"
            ],
            "text/html": [
              "Syncing run <strong><a href='https://wandb.ai/meilina/uncategorized/runs/zn1yrxln' target=\"_blank\">xlmroberta-base</a></strong> to <a href='https://wandb.ai/meilina/uncategorized' target=\"_blank\">Weights & Biases</a> (<a href='https://wandb.me/run' target=\"_blank\">docs</a>)<br/>Sweep page: <a href='https://wandb.ai/meilina/uncategorized/sweeps/awmdo9rh' target=\"_blank\">https://wandb.ai/meilina/uncategorized/sweeps/awmdo9rh</a>"
            ]
          },
          "metadata": {}
        },
        {
          "output_type": "display_data",
          "data": {
            "text/plain": [
              "<IPython.core.display.HTML object>"
            ],
            "text/html": [
              " View project at <a href='https://wandb.ai/meilina/uncategorized' target=\"_blank\">https://wandb.ai/meilina/uncategorized</a>"
            ]
          },
          "metadata": {}
        },
        {
          "output_type": "display_data",
          "data": {
            "text/plain": [
              "<IPython.core.display.HTML object>"
            ],
            "text/html": [
              " View sweep at <a href='https://wandb.ai/meilina/uncategorized/sweeps/awmdo9rh' target=\"_blank\">https://wandb.ai/meilina/uncategorized/sweeps/awmdo9rh</a>"
            ]
          },
          "metadata": {}
        },
        {
          "output_type": "display_data",
          "data": {
            "text/plain": [
              "<IPython.core.display.HTML object>"
            ],
            "text/html": [
              " View run at <a href='https://wandb.ai/meilina/uncategorized/runs/zn1yrxln' target=\"_blank\">https://wandb.ai/meilina/uncategorized/runs/zn1yrxln</a>"
            ]
          },
          "metadata": {}
        },
        {
          "output_type": "display_data",
          "data": {
            "text/plain": [
              "Downloading (…)lve/main/config.json:   0%|          | 0.00/615 [00:00<?, ?B/s]"
            ],
            "application/vnd.jupyter.widget-view+json": {
              "version_major": 2,
              "version_minor": 0,
              "model_id": "169990356e154b088948010d617cfbae"
            }
          },
          "metadata": {}
        },
        {
          "output_type": "display_data",
          "data": {
            "text/plain": [
              "Downloading pytorch_model.bin:   0%|          | 0.00/1.12G [00:00<?, ?B/s]"
            ],
            "application/vnd.jupyter.widget-view+json": {
              "version_major": 2,
              "version_minor": 0,
              "model_id": "138fbc86ea0d4fe58cedead7516df902"
            }
          },
          "metadata": {}
        },
        {
          "output_type": "stream",
          "name": "stderr",
          "text": [
            "Some weights of the model checkpoint at xlm-roberta-base were not used when initializing XLMRobertaForSequenceClassification: ['lm_head.layer_norm.weight', 'lm_head.bias', 'lm_head.dense.bias', 'lm_head.decoder.weight', 'lm_head.dense.weight', 'roberta.pooler.dense.weight', 'lm_head.layer_norm.bias', 'roberta.pooler.dense.bias']\n",
            "- This IS expected if you are initializing XLMRobertaForSequenceClassification from the checkpoint of a model trained on another task or with another architecture (e.g. initializing a BertForSequenceClassification model from a BertForPreTraining model).\n",
            "- This IS NOT expected if you are initializing XLMRobertaForSequenceClassification from the checkpoint of a model that you expect to be exactly identical (initializing a BertForSequenceClassification model from a BertForSequenceClassification model).\n",
            "Some weights of XLMRobertaForSequenceClassification were not initialized from the model checkpoint at xlm-roberta-base and are newly initialized: ['classifier.dense.bias', 'classifier.dense.weight', 'classifier.out_proj.weight', 'classifier.out_proj.bias']\n",
            "You should probably TRAIN this model on a down-stream task to be able to use it for predictions and inference.\n"
          ]
        },
        {
          "output_type": "display_data",
          "data": {
            "text/plain": [
              "Downloading (…)tencepiece.bpe.model:   0%|          | 0.00/5.07M [00:00<?, ?B/s]"
            ],
            "application/vnd.jupyter.widget-view+json": {
              "version_major": 2,
              "version_minor": 0,
              "model_id": "1eadf8c16e7945c192a7de631e856055"
            }
          },
          "metadata": {}
        },
        {
          "output_type": "stream",
          "name": "stderr",
          "text": [
            "Token indices sequence length is longer than the specified maximum sequence length for this model (839 > 512). Running this sequence through the model will result in indexing errors\n",
            "Truncation was not explicitly activated but `max_length` is provided a specific value, please use `truncation=True` to explicitly truncate examples to max length. Defaulting to 'longest_first' truncation strategy. If you encode pairs of sequences (GLUE-style) with the tokenizer you can select this strategy more precisely by providing a specific strategy to `truncation`.\n",
            "/usr/local/lib/python3.10/dist-packages/transformers/tokenization_utils_base.py:2354: FutureWarning: The `pad_to_max_length` argument is deprecated and will be removed in a future version, use `padding=True` or `padding='longest'` to pad to the longest sequence in the batch, or use `padding='max_length'` to pad to a max length. In this case, you can give a specific length with `max_length` (e.g. `max_length=45`) or leave max_length to None to pad to the maximal input size of the model (e.g. 512 for Bert).\n",
            "  warnings.warn(\n"
          ]
        },
        {
          "output_type": "stream",
          "name": "stdout",
          "text": [
            "\n",
            "======== Epoch 1 / 2 ========\n",
            "Training...\n",
            "  Batch    40  of    320.    Elapsed: 0:00:08.\n",
            "  Batch    80  of    320.    Elapsed: 0:00:17.\n",
            "  Batch   120  of    320.    Elapsed: 0:00:25.\n",
            "  Batch   160  of    320.    Elapsed: 0:00:33.\n",
            "  Batch   200  of    320.    Elapsed: 0:00:42.\n",
            "  Batch   240  of    320.    Elapsed: 0:00:50.\n",
            "  Batch   280  of    320.    Elapsed: 0:00:58.\n",
            "\n",
            "  average training loss: 1.77\n",
            "  training epoch took: 0:01:06\n",
            "\n",
            "Running testing...\n",
            "  accuracy: 0.21\n",
            "  f1 score: 0.07\n",
            "  testing loss: 1.75\n",
            "  testing took: 0:00:03\n",
            "\n",
            "======== Epoch 2 / 2 ========\n",
            "Training...\n",
            "  Batch    40  of    320.    Elapsed: 0:00:08.\n",
            "  Batch    80  of    320.    Elapsed: 0:00:17.\n",
            "  Batch   120  of    320.    Elapsed: 0:00:25.\n",
            "  Batch   160  of    320.    Elapsed: 0:00:33.\n",
            "  Batch   200  of    320.    Elapsed: 0:00:41.\n",
            "  Batch   240  of    320.    Elapsed: 0:00:50.\n",
            "  Batch   280  of    320.    Elapsed: 0:00:58.\n",
            "\n",
            "  average training loss: 1.76\n",
            "  training epoch took: 0:01:06\n",
            "\n",
            "Running testing...\n",
            "  accuracy: 0.21\n",
            "  f1 score: 0.07\n",
            "  testing loss: 1.75\n",
            "  testing took: 0:00:03\n",
            "\n",
            "training complete!\n",
            "total training took 0:02:18 (h:mm:ss)\n"
          ]
        },
        {
          "output_type": "display_data",
          "data": {
            "text/plain": [
              "<IPython.core.display.HTML object>"
            ],
            "text/html": [
              "Waiting for W&B process to finish... <strong style=\"color:green\">(success).</strong>"
            ]
          },
          "metadata": {}
        },
        {
          "output_type": "display_data",
          "data": {
            "text/plain": [
              "VBox(children=(Label(value='0.002 MB of 0.002 MB uploaded (0.000 MB deduped)\\r'), FloatProgress(value=1.0, max…"
            ],
            "application/vnd.jupyter.widget-view+json": {
              "version_major": 2,
              "version_minor": 0,
              "model_id": "fdbe5f7b49b247ec9ac041b9b6162b66"
            }
          },
          "metadata": {}
        },
        {
          "output_type": "display_data",
          "data": {
            "text/plain": [
              "<IPython.core.display.HTML object>"
            ],
            "text/html": [
              "<style>\n",
              "    table.wandb td:nth-child(1) { padding: 0 10px; text-align: left ; width: auto;} td:nth-child(2) {text-align: left ; width: 100%}\n",
              "    .wandb-row { display: flex; flex-direction: row; flex-wrap: wrap; justify-content: flex-start; width: 100% }\n",
              "    .wandb-col { display: flex; flex-direction: column; flex-basis: 100%; flex: 1; padding: 10px; }\n",
              "    </style>\n",
              "<div class=\"wandb-row\"><div class=\"wandb-col\"><h3>Run history:</h3><br/><table class=\"wandb\"><tr><td>avg_test_loss</td><td>█▁</td></tr><tr><td>avg_train_loss</td><td>█▁</td></tr><tr><td>f1</td><td>▁▁</td></tr><tr><td>test_accuracy</td><td>▁▁</td></tr><tr><td>train_batch_loss</td><td>▁█</td></tr></table><br/></div><div class=\"wandb-col\"><h3>Run summary:</h3><br/><table class=\"wandb\"><tr><td>avg_test_loss</td><td>1.751</td></tr><tr><td>avg_train_loss</td><td>1.76274</td></tr><tr><td>f1</td><td>0.07236</td></tr><tr><td>test_accuracy</td><td>0.20863</td></tr><tr><td>train_batch_loss</td><td>1.7822</td></tr></table><br/></div></div>"
            ]
          },
          "metadata": {}
        },
        {
          "output_type": "display_data",
          "data": {
            "text/plain": [
              "<IPython.core.display.HTML object>"
            ],
            "text/html": [
              " View run <strong style=\"color:#cdcd00\">xlmroberta-base</strong> at: <a href='https://wandb.ai/meilina/uncategorized/runs/zn1yrxln' target=\"_blank\">https://wandb.ai/meilina/uncategorized/runs/zn1yrxln</a><br/>Synced 5 W&B file(s), 0 media file(s), 0 artifact file(s) and 0 other file(s)"
            ]
          },
          "metadata": {}
        },
        {
          "output_type": "display_data",
          "data": {
            "text/plain": [
              "<IPython.core.display.HTML object>"
            ],
            "text/html": [
              "Find logs at: <code>./wandb/run-20230505_200655-zn1yrxln/logs</code>"
            ]
          },
          "metadata": {}
        },
        {
          "output_type": "stream",
          "name": "stderr",
          "text": [
            "\u001b[34m\u001b[1mwandb\u001b[0m: Sweep Agent: Waiting for job.\n",
            "\u001b[34m\u001b[1mwandb\u001b[0m: Sweep Agent: Exiting.\n"
          ]
        }
      ]
    }
  ],
  "metadata": {
    "colab": {
      "provenance": [],
      "gpuType": "A100"
    },
    "gpuClass": "standard",
    "kernelspec": {
      "display_name": "Python 3",
      "name": "python3"
    },
    "language_info": {
      "name": "python"
    },
    "widgets": {
      "application/vnd.jupyter.widget-state+json": {
        "169990356e154b088948010d617cfbae": {
          "model_module": "@jupyter-widgets/controls",
          "model_name": "HBoxModel",
          "model_module_version": "1.5.0",
          "state": {
            "_dom_classes": [],
            "_model_module": "@jupyter-widgets/controls",
            "_model_module_version": "1.5.0",
            "_model_name": "HBoxModel",
            "_view_count": null,
            "_view_module": "@jupyter-widgets/controls",
            "_view_module_version": "1.5.0",
            "_view_name": "HBoxView",
            "box_style": "",
            "children": [
              "IPY_MODEL_09d5d6f1d83e416581e101e6e90504ed",
              "IPY_MODEL_ae349d25c61c4a73b261a3f0e85a01f2",
              "IPY_MODEL_2c8c3d2819784de68350ff1421b744fe"
            ],
            "layout": "IPY_MODEL_8b4f62a3e8dd4b10a3c57e53a9f9e9b9"
          }
        },
        "09d5d6f1d83e416581e101e6e90504ed": {
          "model_module": "@jupyter-widgets/controls",
          "model_name": "HTMLModel",
          "model_module_version": "1.5.0",
          "state": {
            "_dom_classes": [],
            "_model_module": "@jupyter-widgets/controls",
            "_model_module_version": "1.5.0",
            "_model_name": "HTMLModel",
            "_view_count": null,
            "_view_module": "@jupyter-widgets/controls",
            "_view_module_version": "1.5.0",
            "_view_name": "HTMLView",
            "description": "",
            "description_tooltip": null,
            "layout": "IPY_MODEL_c9eb06dd26284fb898fa69d1a892acb1",
            "placeholder": "​",
            "style": "IPY_MODEL_0d49d66745814671983787d0fbebad2b",
            "value": "Downloading (…)lve/main/config.json: 100%"
          }
        },
        "ae349d25c61c4a73b261a3f0e85a01f2": {
          "model_module": "@jupyter-widgets/controls",
          "model_name": "FloatProgressModel",
          "model_module_version": "1.5.0",
          "state": {
            "_dom_classes": [],
            "_model_module": "@jupyter-widgets/controls",
            "_model_module_version": "1.5.0",
            "_model_name": "FloatProgressModel",
            "_view_count": null,
            "_view_module": "@jupyter-widgets/controls",
            "_view_module_version": "1.5.0",
            "_view_name": "ProgressView",
            "bar_style": "success",
            "description": "",
            "description_tooltip": null,
            "layout": "IPY_MODEL_4f8a2f6d46354613a0302c1bed50d8ae",
            "max": 615,
            "min": 0,
            "orientation": "horizontal",
            "style": "IPY_MODEL_3362d7901971497186525dcfc440b8a9",
            "value": 615
          }
        },
        "2c8c3d2819784de68350ff1421b744fe": {
          "model_module": "@jupyter-widgets/controls",
          "model_name": "HTMLModel",
          "model_module_version": "1.5.0",
          "state": {
            "_dom_classes": [],
            "_model_module": "@jupyter-widgets/controls",
            "_model_module_version": "1.5.0",
            "_model_name": "HTMLModel",
            "_view_count": null,
            "_view_module": "@jupyter-widgets/controls",
            "_view_module_version": "1.5.0",
            "_view_name": "HTMLView",
            "description": "",
            "description_tooltip": null,
            "layout": "IPY_MODEL_cb588cb9f1b449f9b35671383b38e273",
            "placeholder": "​",
            "style": "IPY_MODEL_4c3f0076846943f4ae149c9c63c86d35",
            "value": " 615/615 [00:00&lt;00:00, 42.5kB/s]"
          }
        },
        "8b4f62a3e8dd4b10a3c57e53a9f9e9b9": {
          "model_module": "@jupyter-widgets/base",
          "model_name": "LayoutModel",
          "model_module_version": "1.2.0",
          "state": {
            "_model_module": "@jupyter-widgets/base",
            "_model_module_version": "1.2.0",
            "_model_name": "LayoutModel",
            "_view_count": null,
            "_view_module": "@jupyter-widgets/base",
            "_view_module_version": "1.2.0",
            "_view_name": "LayoutView",
            "align_content": null,
            "align_items": null,
            "align_self": null,
            "border": null,
            "bottom": null,
            "display": null,
            "flex": null,
            "flex_flow": null,
            "grid_area": null,
            "grid_auto_columns": null,
            "grid_auto_flow": null,
            "grid_auto_rows": null,
            "grid_column": null,
            "grid_gap": null,
            "grid_row": null,
            "grid_template_areas": null,
            "grid_template_columns": null,
            "grid_template_rows": null,
            "height": null,
            "justify_content": null,
            "justify_items": null,
            "left": null,
            "margin": null,
            "max_height": null,
            "max_width": null,
            "min_height": null,
            "min_width": null,
            "object_fit": null,
            "object_position": null,
            "order": null,
            "overflow": null,
            "overflow_x": null,
            "overflow_y": null,
            "padding": null,
            "right": null,
            "top": null,
            "visibility": null,
            "width": null
          }
        },
        "c9eb06dd26284fb898fa69d1a892acb1": {
          "model_module": "@jupyter-widgets/base",
          "model_name": "LayoutModel",
          "model_module_version": "1.2.0",
          "state": {
            "_model_module": "@jupyter-widgets/base",
            "_model_module_version": "1.2.0",
            "_model_name": "LayoutModel",
            "_view_count": null,
            "_view_module": "@jupyter-widgets/base",
            "_view_module_version": "1.2.0",
            "_view_name": "LayoutView",
            "align_content": null,
            "align_items": null,
            "align_self": null,
            "border": null,
            "bottom": null,
            "display": null,
            "flex": null,
            "flex_flow": null,
            "grid_area": null,
            "grid_auto_columns": null,
            "grid_auto_flow": null,
            "grid_auto_rows": null,
            "grid_column": null,
            "grid_gap": null,
            "grid_row": null,
            "grid_template_areas": null,
            "grid_template_columns": null,
            "grid_template_rows": null,
            "height": null,
            "justify_content": null,
            "justify_items": null,
            "left": null,
            "margin": null,
            "max_height": null,
            "max_width": null,
            "min_height": null,
            "min_width": null,
            "object_fit": null,
            "object_position": null,
            "order": null,
            "overflow": null,
            "overflow_x": null,
            "overflow_y": null,
            "padding": null,
            "right": null,
            "top": null,
            "visibility": null,
            "width": null
          }
        },
        "0d49d66745814671983787d0fbebad2b": {
          "model_module": "@jupyter-widgets/controls",
          "model_name": "DescriptionStyleModel",
          "model_module_version": "1.5.0",
          "state": {
            "_model_module": "@jupyter-widgets/controls",
            "_model_module_version": "1.5.0",
            "_model_name": "DescriptionStyleModel",
            "_view_count": null,
            "_view_module": "@jupyter-widgets/base",
            "_view_module_version": "1.2.0",
            "_view_name": "StyleView",
            "description_width": ""
          }
        },
        "4f8a2f6d46354613a0302c1bed50d8ae": {
          "model_module": "@jupyter-widgets/base",
          "model_name": "LayoutModel",
          "model_module_version": "1.2.0",
          "state": {
            "_model_module": "@jupyter-widgets/base",
            "_model_module_version": "1.2.0",
            "_model_name": "LayoutModel",
            "_view_count": null,
            "_view_module": "@jupyter-widgets/base",
            "_view_module_version": "1.2.0",
            "_view_name": "LayoutView",
            "align_content": null,
            "align_items": null,
            "align_self": null,
            "border": null,
            "bottom": null,
            "display": null,
            "flex": null,
            "flex_flow": null,
            "grid_area": null,
            "grid_auto_columns": null,
            "grid_auto_flow": null,
            "grid_auto_rows": null,
            "grid_column": null,
            "grid_gap": null,
            "grid_row": null,
            "grid_template_areas": null,
            "grid_template_columns": null,
            "grid_template_rows": null,
            "height": null,
            "justify_content": null,
            "justify_items": null,
            "left": null,
            "margin": null,
            "max_height": null,
            "max_width": null,
            "min_height": null,
            "min_width": null,
            "object_fit": null,
            "object_position": null,
            "order": null,
            "overflow": null,
            "overflow_x": null,
            "overflow_y": null,
            "padding": null,
            "right": null,
            "top": null,
            "visibility": null,
            "width": null
          }
        },
        "3362d7901971497186525dcfc440b8a9": {
          "model_module": "@jupyter-widgets/controls",
          "model_name": "ProgressStyleModel",
          "model_module_version": "1.5.0",
          "state": {
            "_model_module": "@jupyter-widgets/controls",
            "_model_module_version": "1.5.0",
            "_model_name": "ProgressStyleModel",
            "_view_count": null,
            "_view_module": "@jupyter-widgets/base",
            "_view_module_version": "1.2.0",
            "_view_name": "StyleView",
            "bar_color": null,
            "description_width": ""
          }
        },
        "cb588cb9f1b449f9b35671383b38e273": {
          "model_module": "@jupyter-widgets/base",
          "model_name": "LayoutModel",
          "model_module_version": "1.2.0",
          "state": {
            "_model_module": "@jupyter-widgets/base",
            "_model_module_version": "1.2.0",
            "_model_name": "LayoutModel",
            "_view_count": null,
            "_view_module": "@jupyter-widgets/base",
            "_view_module_version": "1.2.0",
            "_view_name": "LayoutView",
            "align_content": null,
            "align_items": null,
            "align_self": null,
            "border": null,
            "bottom": null,
            "display": null,
            "flex": null,
            "flex_flow": null,
            "grid_area": null,
            "grid_auto_columns": null,
            "grid_auto_flow": null,
            "grid_auto_rows": null,
            "grid_column": null,
            "grid_gap": null,
            "grid_row": null,
            "grid_template_areas": null,
            "grid_template_columns": null,
            "grid_template_rows": null,
            "height": null,
            "justify_content": null,
            "justify_items": null,
            "left": null,
            "margin": null,
            "max_height": null,
            "max_width": null,
            "min_height": null,
            "min_width": null,
            "object_fit": null,
            "object_position": null,
            "order": null,
            "overflow": null,
            "overflow_x": null,
            "overflow_y": null,
            "padding": null,
            "right": null,
            "top": null,
            "visibility": null,
            "width": null
          }
        },
        "4c3f0076846943f4ae149c9c63c86d35": {
          "model_module": "@jupyter-widgets/controls",
          "model_name": "DescriptionStyleModel",
          "model_module_version": "1.5.0",
          "state": {
            "_model_module": "@jupyter-widgets/controls",
            "_model_module_version": "1.5.0",
            "_model_name": "DescriptionStyleModel",
            "_view_count": null,
            "_view_module": "@jupyter-widgets/base",
            "_view_module_version": "1.2.0",
            "_view_name": "StyleView",
            "description_width": ""
          }
        },
        "138fbc86ea0d4fe58cedead7516df902": {
          "model_module": "@jupyter-widgets/controls",
          "model_name": "HBoxModel",
          "model_module_version": "1.5.0",
          "state": {
            "_dom_classes": [],
            "_model_module": "@jupyter-widgets/controls",
            "_model_module_version": "1.5.0",
            "_model_name": "HBoxModel",
            "_view_count": null,
            "_view_module": "@jupyter-widgets/controls",
            "_view_module_version": "1.5.0",
            "_view_name": "HBoxView",
            "box_style": "",
            "children": [
              "IPY_MODEL_70eb08d8961b49749f0db643eec6239b",
              "IPY_MODEL_078238f77c884ab7946385428401ea6a",
              "IPY_MODEL_6b3610d7f1f64eb0ab2734b51b49d47f"
            ],
            "layout": "IPY_MODEL_a5d0814db93343eda9c016bd0e74d082"
          }
        },
        "70eb08d8961b49749f0db643eec6239b": {
          "model_module": "@jupyter-widgets/controls",
          "model_name": "HTMLModel",
          "model_module_version": "1.5.0",
          "state": {
            "_dom_classes": [],
            "_model_module": "@jupyter-widgets/controls",
            "_model_module_version": "1.5.0",
            "_model_name": "HTMLModel",
            "_view_count": null,
            "_view_module": "@jupyter-widgets/controls",
            "_view_module_version": "1.5.0",
            "_view_name": "HTMLView",
            "description": "",
            "description_tooltip": null,
            "layout": "IPY_MODEL_e907a0f0cf034447b1d362da483feac0",
            "placeholder": "​",
            "style": "IPY_MODEL_2257e7cdeb3a457ea783b066b9c28b69",
            "value": "Downloading pytorch_model.bin: 100%"
          }
        },
        "078238f77c884ab7946385428401ea6a": {
          "model_module": "@jupyter-widgets/controls",
          "model_name": "FloatProgressModel",
          "model_module_version": "1.5.0",
          "state": {
            "_dom_classes": [],
            "_model_module": "@jupyter-widgets/controls",
            "_model_module_version": "1.5.0",
            "_model_name": "FloatProgressModel",
            "_view_count": null,
            "_view_module": "@jupyter-widgets/controls",
            "_view_module_version": "1.5.0",
            "_view_name": "ProgressView",
            "bar_style": "success",
            "description": "",
            "description_tooltip": null,
            "layout": "IPY_MODEL_d60d7f6f089a421ba75f993ba40118aa",
            "max": 1115590446,
            "min": 0,
            "orientation": "horizontal",
            "style": "IPY_MODEL_41a6ebad7f564b2196bbf4372698674d",
            "value": 1115590446
          }
        },
        "6b3610d7f1f64eb0ab2734b51b49d47f": {
          "model_module": "@jupyter-widgets/controls",
          "model_name": "HTMLModel",
          "model_module_version": "1.5.0",
          "state": {
            "_dom_classes": [],
            "_model_module": "@jupyter-widgets/controls",
            "_model_module_version": "1.5.0",
            "_model_name": "HTMLModel",
            "_view_count": null,
            "_view_module": "@jupyter-widgets/controls",
            "_view_module_version": "1.5.0",
            "_view_name": "HTMLView",
            "description": "",
            "description_tooltip": null,
            "layout": "IPY_MODEL_735ca1888d6748f499b40d9f15ecfc24",
            "placeholder": "​",
            "style": "IPY_MODEL_56f9f23b1b6f4cbb9860717248e4980e",
            "value": " 1.12G/1.12G [00:13&lt;00:00, 85.2MB/s]"
          }
        },
        "a5d0814db93343eda9c016bd0e74d082": {
          "model_module": "@jupyter-widgets/base",
          "model_name": "LayoutModel",
          "model_module_version": "1.2.0",
          "state": {
            "_model_module": "@jupyter-widgets/base",
            "_model_module_version": "1.2.0",
            "_model_name": "LayoutModel",
            "_view_count": null,
            "_view_module": "@jupyter-widgets/base",
            "_view_module_version": "1.2.0",
            "_view_name": "LayoutView",
            "align_content": null,
            "align_items": null,
            "align_self": null,
            "border": null,
            "bottom": null,
            "display": null,
            "flex": null,
            "flex_flow": null,
            "grid_area": null,
            "grid_auto_columns": null,
            "grid_auto_flow": null,
            "grid_auto_rows": null,
            "grid_column": null,
            "grid_gap": null,
            "grid_row": null,
            "grid_template_areas": null,
            "grid_template_columns": null,
            "grid_template_rows": null,
            "height": null,
            "justify_content": null,
            "justify_items": null,
            "left": null,
            "margin": null,
            "max_height": null,
            "max_width": null,
            "min_height": null,
            "min_width": null,
            "object_fit": null,
            "object_position": null,
            "order": null,
            "overflow": null,
            "overflow_x": null,
            "overflow_y": null,
            "padding": null,
            "right": null,
            "top": null,
            "visibility": null,
            "width": null
          }
        },
        "e907a0f0cf034447b1d362da483feac0": {
          "model_module": "@jupyter-widgets/base",
          "model_name": "LayoutModel",
          "model_module_version": "1.2.0",
          "state": {
            "_model_module": "@jupyter-widgets/base",
            "_model_module_version": "1.2.0",
            "_model_name": "LayoutModel",
            "_view_count": null,
            "_view_module": "@jupyter-widgets/base",
            "_view_module_version": "1.2.0",
            "_view_name": "LayoutView",
            "align_content": null,
            "align_items": null,
            "align_self": null,
            "border": null,
            "bottom": null,
            "display": null,
            "flex": null,
            "flex_flow": null,
            "grid_area": null,
            "grid_auto_columns": null,
            "grid_auto_flow": null,
            "grid_auto_rows": null,
            "grid_column": null,
            "grid_gap": null,
            "grid_row": null,
            "grid_template_areas": null,
            "grid_template_columns": null,
            "grid_template_rows": null,
            "height": null,
            "justify_content": null,
            "justify_items": null,
            "left": null,
            "margin": null,
            "max_height": null,
            "max_width": null,
            "min_height": null,
            "min_width": null,
            "object_fit": null,
            "object_position": null,
            "order": null,
            "overflow": null,
            "overflow_x": null,
            "overflow_y": null,
            "padding": null,
            "right": null,
            "top": null,
            "visibility": null,
            "width": null
          }
        },
        "2257e7cdeb3a457ea783b066b9c28b69": {
          "model_module": "@jupyter-widgets/controls",
          "model_name": "DescriptionStyleModel",
          "model_module_version": "1.5.0",
          "state": {
            "_model_module": "@jupyter-widgets/controls",
            "_model_module_version": "1.5.0",
            "_model_name": "DescriptionStyleModel",
            "_view_count": null,
            "_view_module": "@jupyter-widgets/base",
            "_view_module_version": "1.2.0",
            "_view_name": "StyleView",
            "description_width": ""
          }
        },
        "d60d7f6f089a421ba75f993ba40118aa": {
          "model_module": "@jupyter-widgets/base",
          "model_name": "LayoutModel",
          "model_module_version": "1.2.0",
          "state": {
            "_model_module": "@jupyter-widgets/base",
            "_model_module_version": "1.2.0",
            "_model_name": "LayoutModel",
            "_view_count": null,
            "_view_module": "@jupyter-widgets/base",
            "_view_module_version": "1.2.0",
            "_view_name": "LayoutView",
            "align_content": null,
            "align_items": null,
            "align_self": null,
            "border": null,
            "bottom": null,
            "display": null,
            "flex": null,
            "flex_flow": null,
            "grid_area": null,
            "grid_auto_columns": null,
            "grid_auto_flow": null,
            "grid_auto_rows": null,
            "grid_column": null,
            "grid_gap": null,
            "grid_row": null,
            "grid_template_areas": null,
            "grid_template_columns": null,
            "grid_template_rows": null,
            "height": null,
            "justify_content": null,
            "justify_items": null,
            "left": null,
            "margin": null,
            "max_height": null,
            "max_width": null,
            "min_height": null,
            "min_width": null,
            "object_fit": null,
            "object_position": null,
            "order": null,
            "overflow": null,
            "overflow_x": null,
            "overflow_y": null,
            "padding": null,
            "right": null,
            "top": null,
            "visibility": null,
            "width": null
          }
        },
        "41a6ebad7f564b2196bbf4372698674d": {
          "model_module": "@jupyter-widgets/controls",
          "model_name": "ProgressStyleModel",
          "model_module_version": "1.5.0",
          "state": {
            "_model_module": "@jupyter-widgets/controls",
            "_model_module_version": "1.5.0",
            "_model_name": "ProgressStyleModel",
            "_view_count": null,
            "_view_module": "@jupyter-widgets/base",
            "_view_module_version": "1.2.0",
            "_view_name": "StyleView",
            "bar_color": null,
            "description_width": ""
          }
        },
        "735ca1888d6748f499b40d9f15ecfc24": {
          "model_module": "@jupyter-widgets/base",
          "model_name": "LayoutModel",
          "model_module_version": "1.2.0",
          "state": {
            "_model_module": "@jupyter-widgets/base",
            "_model_module_version": "1.2.0",
            "_model_name": "LayoutModel",
            "_view_count": null,
            "_view_module": "@jupyter-widgets/base",
            "_view_module_version": "1.2.0",
            "_view_name": "LayoutView",
            "align_content": null,
            "align_items": null,
            "align_self": null,
            "border": null,
            "bottom": null,
            "display": null,
            "flex": null,
            "flex_flow": null,
            "grid_area": null,
            "grid_auto_columns": null,
            "grid_auto_flow": null,
            "grid_auto_rows": null,
            "grid_column": null,
            "grid_gap": null,
            "grid_row": null,
            "grid_template_areas": null,
            "grid_template_columns": null,
            "grid_template_rows": null,
            "height": null,
            "justify_content": null,
            "justify_items": null,
            "left": null,
            "margin": null,
            "max_height": null,
            "max_width": null,
            "min_height": null,
            "min_width": null,
            "object_fit": null,
            "object_position": null,
            "order": null,
            "overflow": null,
            "overflow_x": null,
            "overflow_y": null,
            "padding": null,
            "right": null,
            "top": null,
            "visibility": null,
            "width": null
          }
        },
        "56f9f23b1b6f4cbb9860717248e4980e": {
          "model_module": "@jupyter-widgets/controls",
          "model_name": "DescriptionStyleModel",
          "model_module_version": "1.5.0",
          "state": {
            "_model_module": "@jupyter-widgets/controls",
            "_model_module_version": "1.5.0",
            "_model_name": "DescriptionStyleModel",
            "_view_count": null,
            "_view_module": "@jupyter-widgets/base",
            "_view_module_version": "1.2.0",
            "_view_name": "StyleView",
            "description_width": ""
          }
        },
        "1eadf8c16e7945c192a7de631e856055": {
          "model_module": "@jupyter-widgets/controls",
          "model_name": "HBoxModel",
          "model_module_version": "1.5.0",
          "state": {
            "_dom_classes": [],
            "_model_module": "@jupyter-widgets/controls",
            "_model_module_version": "1.5.0",
            "_model_name": "HBoxModel",
            "_view_count": null,
            "_view_module": "@jupyter-widgets/controls",
            "_view_module_version": "1.5.0",
            "_view_name": "HBoxView",
            "box_style": "",
            "children": [
              "IPY_MODEL_8f296522223b4ba19b5d07326312a9a5",
              "IPY_MODEL_b0d53c3db67a4532b8cf07500b726feb",
              "IPY_MODEL_86dc1c9e3d064e8c9b71bfa4a7b93c26"
            ],
            "layout": "IPY_MODEL_91967f1f6686471494fa2483bd1c4cab"
          }
        },
        "8f296522223b4ba19b5d07326312a9a5": {
          "model_module": "@jupyter-widgets/controls",
          "model_name": "HTMLModel",
          "model_module_version": "1.5.0",
          "state": {
            "_dom_classes": [],
            "_model_module": "@jupyter-widgets/controls",
            "_model_module_version": "1.5.0",
            "_model_name": "HTMLModel",
            "_view_count": null,
            "_view_module": "@jupyter-widgets/controls",
            "_view_module_version": "1.5.0",
            "_view_name": "HTMLView",
            "description": "",
            "description_tooltip": null,
            "layout": "IPY_MODEL_dc18d215d20b4440aa17557487c50a46",
            "placeholder": "​",
            "style": "IPY_MODEL_05622cffcbf64bfeb2af5c40bb5869a0",
            "value": "Downloading (…)tencepiece.bpe.model: 100%"
          }
        },
        "b0d53c3db67a4532b8cf07500b726feb": {
          "model_module": "@jupyter-widgets/controls",
          "model_name": "FloatProgressModel",
          "model_module_version": "1.5.0",
          "state": {
            "_dom_classes": [],
            "_model_module": "@jupyter-widgets/controls",
            "_model_module_version": "1.5.0",
            "_model_name": "FloatProgressModel",
            "_view_count": null,
            "_view_module": "@jupyter-widgets/controls",
            "_view_module_version": "1.5.0",
            "_view_name": "ProgressView",
            "bar_style": "success",
            "description": "",
            "description_tooltip": null,
            "layout": "IPY_MODEL_bdb2efb9600842b68283bd5b795125f6",
            "max": 5069051,
            "min": 0,
            "orientation": "horizontal",
            "style": "IPY_MODEL_14c36ce1368b427c97bf264b9b19eacc",
            "value": 5069051
          }
        },
        "86dc1c9e3d064e8c9b71bfa4a7b93c26": {
          "model_module": "@jupyter-widgets/controls",
          "model_name": "HTMLModel",
          "model_module_version": "1.5.0",
          "state": {
            "_dom_classes": [],
            "_model_module": "@jupyter-widgets/controls",
            "_model_module_version": "1.5.0",
            "_model_name": "HTMLModel",
            "_view_count": null,
            "_view_module": "@jupyter-widgets/controls",
            "_view_module_version": "1.5.0",
            "_view_name": "HTMLView",
            "description": "",
            "description_tooltip": null,
            "layout": "IPY_MODEL_4811aa9322294863826b7ec3683529fa",
            "placeholder": "​",
            "style": "IPY_MODEL_231ffab89fad47d69f310c6c101d727b",
            "value": " 5.07M/5.07M [00:00&lt;00:00, 10.9MB/s]"
          }
        },
        "91967f1f6686471494fa2483bd1c4cab": {
          "model_module": "@jupyter-widgets/base",
          "model_name": "LayoutModel",
          "model_module_version": "1.2.0",
          "state": {
            "_model_module": "@jupyter-widgets/base",
            "_model_module_version": "1.2.0",
            "_model_name": "LayoutModel",
            "_view_count": null,
            "_view_module": "@jupyter-widgets/base",
            "_view_module_version": "1.2.0",
            "_view_name": "LayoutView",
            "align_content": null,
            "align_items": null,
            "align_self": null,
            "border": null,
            "bottom": null,
            "display": null,
            "flex": null,
            "flex_flow": null,
            "grid_area": null,
            "grid_auto_columns": null,
            "grid_auto_flow": null,
            "grid_auto_rows": null,
            "grid_column": null,
            "grid_gap": null,
            "grid_row": null,
            "grid_template_areas": null,
            "grid_template_columns": null,
            "grid_template_rows": null,
            "height": null,
            "justify_content": null,
            "justify_items": null,
            "left": null,
            "margin": null,
            "max_height": null,
            "max_width": null,
            "min_height": null,
            "min_width": null,
            "object_fit": null,
            "object_position": null,
            "order": null,
            "overflow": null,
            "overflow_x": null,
            "overflow_y": null,
            "padding": null,
            "right": null,
            "top": null,
            "visibility": null,
            "width": null
          }
        },
        "dc18d215d20b4440aa17557487c50a46": {
          "model_module": "@jupyter-widgets/base",
          "model_name": "LayoutModel",
          "model_module_version": "1.2.0",
          "state": {
            "_model_module": "@jupyter-widgets/base",
            "_model_module_version": "1.2.0",
            "_model_name": "LayoutModel",
            "_view_count": null,
            "_view_module": "@jupyter-widgets/base",
            "_view_module_version": "1.2.0",
            "_view_name": "LayoutView",
            "align_content": null,
            "align_items": null,
            "align_self": null,
            "border": null,
            "bottom": null,
            "display": null,
            "flex": null,
            "flex_flow": null,
            "grid_area": null,
            "grid_auto_columns": null,
            "grid_auto_flow": null,
            "grid_auto_rows": null,
            "grid_column": null,
            "grid_gap": null,
            "grid_row": null,
            "grid_template_areas": null,
            "grid_template_columns": null,
            "grid_template_rows": null,
            "height": null,
            "justify_content": null,
            "justify_items": null,
            "left": null,
            "margin": null,
            "max_height": null,
            "max_width": null,
            "min_height": null,
            "min_width": null,
            "object_fit": null,
            "object_position": null,
            "order": null,
            "overflow": null,
            "overflow_x": null,
            "overflow_y": null,
            "padding": null,
            "right": null,
            "top": null,
            "visibility": null,
            "width": null
          }
        },
        "05622cffcbf64bfeb2af5c40bb5869a0": {
          "model_module": "@jupyter-widgets/controls",
          "model_name": "DescriptionStyleModel",
          "model_module_version": "1.5.0",
          "state": {
            "_model_module": "@jupyter-widgets/controls",
            "_model_module_version": "1.5.0",
            "_model_name": "DescriptionStyleModel",
            "_view_count": null,
            "_view_module": "@jupyter-widgets/base",
            "_view_module_version": "1.2.0",
            "_view_name": "StyleView",
            "description_width": ""
          }
        },
        "bdb2efb9600842b68283bd5b795125f6": {
          "model_module": "@jupyter-widgets/base",
          "model_name": "LayoutModel",
          "model_module_version": "1.2.0",
          "state": {
            "_model_module": "@jupyter-widgets/base",
            "_model_module_version": "1.2.0",
            "_model_name": "LayoutModel",
            "_view_count": null,
            "_view_module": "@jupyter-widgets/base",
            "_view_module_version": "1.2.0",
            "_view_name": "LayoutView",
            "align_content": null,
            "align_items": null,
            "align_self": null,
            "border": null,
            "bottom": null,
            "display": null,
            "flex": null,
            "flex_flow": null,
            "grid_area": null,
            "grid_auto_columns": null,
            "grid_auto_flow": null,
            "grid_auto_rows": null,
            "grid_column": null,
            "grid_gap": null,
            "grid_row": null,
            "grid_template_areas": null,
            "grid_template_columns": null,
            "grid_template_rows": null,
            "height": null,
            "justify_content": null,
            "justify_items": null,
            "left": null,
            "margin": null,
            "max_height": null,
            "max_width": null,
            "min_height": null,
            "min_width": null,
            "object_fit": null,
            "object_position": null,
            "order": null,
            "overflow": null,
            "overflow_x": null,
            "overflow_y": null,
            "padding": null,
            "right": null,
            "top": null,
            "visibility": null,
            "width": null
          }
        },
        "14c36ce1368b427c97bf264b9b19eacc": {
          "model_module": "@jupyter-widgets/controls",
          "model_name": "ProgressStyleModel",
          "model_module_version": "1.5.0",
          "state": {
            "_model_module": "@jupyter-widgets/controls",
            "_model_module_version": "1.5.0",
            "_model_name": "ProgressStyleModel",
            "_view_count": null,
            "_view_module": "@jupyter-widgets/base",
            "_view_module_version": "1.2.0",
            "_view_name": "StyleView",
            "bar_color": null,
            "description_width": ""
          }
        },
        "4811aa9322294863826b7ec3683529fa": {
          "model_module": "@jupyter-widgets/base",
          "model_name": "LayoutModel",
          "model_module_version": "1.2.0",
          "state": {
            "_model_module": "@jupyter-widgets/base",
            "_model_module_version": "1.2.0",
            "_model_name": "LayoutModel",
            "_view_count": null,
            "_view_module": "@jupyter-widgets/base",
            "_view_module_version": "1.2.0",
            "_view_name": "LayoutView",
            "align_content": null,
            "align_items": null,
            "align_self": null,
            "border": null,
            "bottom": null,
            "display": null,
            "flex": null,
            "flex_flow": null,
            "grid_area": null,
            "grid_auto_columns": null,
            "grid_auto_flow": null,
            "grid_auto_rows": null,
            "grid_column": null,
            "grid_gap": null,
            "grid_row": null,
            "grid_template_areas": null,
            "grid_template_columns": null,
            "grid_template_rows": null,
            "height": null,
            "justify_content": null,
            "justify_items": null,
            "left": null,
            "margin": null,
            "max_height": null,
            "max_width": null,
            "min_height": null,
            "min_width": null,
            "object_fit": null,
            "object_position": null,
            "order": null,
            "overflow": null,
            "overflow_x": null,
            "overflow_y": null,
            "padding": null,
            "right": null,
            "top": null,
            "visibility": null,
            "width": null
          }
        },
        "231ffab89fad47d69f310c6c101d727b": {
          "model_module": "@jupyter-widgets/controls",
          "model_name": "DescriptionStyleModel",
          "model_module_version": "1.5.0",
          "state": {
            "_model_module": "@jupyter-widgets/controls",
            "_model_module_version": "1.5.0",
            "_model_name": "DescriptionStyleModel",
            "_view_count": null,
            "_view_module": "@jupyter-widgets/base",
            "_view_module_version": "1.2.0",
            "_view_name": "StyleView",
            "description_width": ""
          }
        },
        "fdbe5f7b49b247ec9ac041b9b6162b66": {
          "model_module": "@jupyter-widgets/controls",
          "model_name": "VBoxModel",
          "model_module_version": "1.5.0",
          "state": {
            "_dom_classes": [],
            "_model_module": "@jupyter-widgets/controls",
            "_model_module_version": "1.5.0",
            "_model_name": "VBoxModel",
            "_view_count": null,
            "_view_module": "@jupyter-widgets/controls",
            "_view_module_version": "1.5.0",
            "_view_name": "VBoxView",
            "box_style": "",
            "children": [
              "IPY_MODEL_976f2688fe0d4014b24452e7ab167d7b",
              "IPY_MODEL_b28a99928061448bafb4e4da099e5383"
            ],
            "layout": "IPY_MODEL_29ce94d67f294078b5b59e5ae9f6b6ea"
          }
        },
        "976f2688fe0d4014b24452e7ab167d7b": {
          "model_module": "@jupyter-widgets/controls",
          "model_name": "LabelModel",
          "model_module_version": "1.5.0",
          "state": {
            "_dom_classes": [],
            "_model_module": "@jupyter-widgets/controls",
            "_model_module_version": "1.5.0",
            "_model_name": "LabelModel",
            "_view_count": null,
            "_view_module": "@jupyter-widgets/controls",
            "_view_module_version": "1.5.0",
            "_view_name": "LabelView",
            "description": "",
            "description_tooltip": null,
            "layout": "IPY_MODEL_6b61fbcbd3c146a488599e94acdfcaaa",
            "placeholder": "​",
            "style": "IPY_MODEL_979b30e8fa714193b9aa7849fa259876",
            "value": "0.002 MB of 0.006 MB uploaded (0.000 MB deduped)\r"
          }
        },
        "b28a99928061448bafb4e4da099e5383": {
          "model_module": "@jupyter-widgets/controls",
          "model_name": "FloatProgressModel",
          "model_module_version": "1.5.0",
          "state": {
            "_dom_classes": [],
            "_model_module": "@jupyter-widgets/controls",
            "_model_module_version": "1.5.0",
            "_model_name": "FloatProgressModel",
            "_view_count": null,
            "_view_module": "@jupyter-widgets/controls",
            "_view_module_version": "1.5.0",
            "_view_name": "ProgressView",
            "bar_style": "",
            "description": "",
            "description_tooltip": null,
            "layout": "IPY_MODEL_12d0a52dc74f44f78cf2b2b976207ad1",
            "max": 1,
            "min": 0,
            "orientation": "horizontal",
            "style": "IPY_MODEL_3dd696fc30ba4abcbb5998e0928132b7",
            "value": 0.33899068789426257
          }
        },
        "29ce94d67f294078b5b59e5ae9f6b6ea": {
          "model_module": "@jupyter-widgets/base",
          "model_name": "LayoutModel",
          "model_module_version": "1.2.0",
          "state": {
            "_model_module": "@jupyter-widgets/base",
            "_model_module_version": "1.2.0",
            "_model_name": "LayoutModel",
            "_view_count": null,
            "_view_module": "@jupyter-widgets/base",
            "_view_module_version": "1.2.0",
            "_view_name": "LayoutView",
            "align_content": null,
            "align_items": null,
            "align_self": null,
            "border": null,
            "bottom": null,
            "display": null,
            "flex": null,
            "flex_flow": null,
            "grid_area": null,
            "grid_auto_columns": null,
            "grid_auto_flow": null,
            "grid_auto_rows": null,
            "grid_column": null,
            "grid_gap": null,
            "grid_row": null,
            "grid_template_areas": null,
            "grid_template_columns": null,
            "grid_template_rows": null,
            "height": null,
            "justify_content": null,
            "justify_items": null,
            "left": null,
            "margin": null,
            "max_height": null,
            "max_width": null,
            "min_height": null,
            "min_width": null,
            "object_fit": null,
            "object_position": null,
            "order": null,
            "overflow": null,
            "overflow_x": null,
            "overflow_y": null,
            "padding": null,
            "right": null,
            "top": null,
            "visibility": null,
            "width": null
          }
        },
        "6b61fbcbd3c146a488599e94acdfcaaa": {
          "model_module": "@jupyter-widgets/base",
          "model_name": "LayoutModel",
          "model_module_version": "1.2.0",
          "state": {
            "_model_module": "@jupyter-widgets/base",
            "_model_module_version": "1.2.0",
            "_model_name": "LayoutModel",
            "_view_count": null,
            "_view_module": "@jupyter-widgets/base",
            "_view_module_version": "1.2.0",
            "_view_name": "LayoutView",
            "align_content": null,
            "align_items": null,
            "align_self": null,
            "border": null,
            "bottom": null,
            "display": null,
            "flex": null,
            "flex_flow": null,
            "grid_area": null,
            "grid_auto_columns": null,
            "grid_auto_flow": null,
            "grid_auto_rows": null,
            "grid_column": null,
            "grid_gap": null,
            "grid_row": null,
            "grid_template_areas": null,
            "grid_template_columns": null,
            "grid_template_rows": null,
            "height": null,
            "justify_content": null,
            "justify_items": null,
            "left": null,
            "margin": null,
            "max_height": null,
            "max_width": null,
            "min_height": null,
            "min_width": null,
            "object_fit": null,
            "object_position": null,
            "order": null,
            "overflow": null,
            "overflow_x": null,
            "overflow_y": null,
            "padding": null,
            "right": null,
            "top": null,
            "visibility": null,
            "width": null
          }
        },
        "979b30e8fa714193b9aa7849fa259876": {
          "model_module": "@jupyter-widgets/controls",
          "model_name": "DescriptionStyleModel",
          "model_module_version": "1.5.0",
          "state": {
            "_model_module": "@jupyter-widgets/controls",
            "_model_module_version": "1.5.0",
            "_model_name": "DescriptionStyleModel",
            "_view_count": null,
            "_view_module": "@jupyter-widgets/base",
            "_view_module_version": "1.2.0",
            "_view_name": "StyleView",
            "description_width": ""
          }
        },
        "12d0a52dc74f44f78cf2b2b976207ad1": {
          "model_module": "@jupyter-widgets/base",
          "model_name": "LayoutModel",
          "model_module_version": "1.2.0",
          "state": {
            "_model_module": "@jupyter-widgets/base",
            "_model_module_version": "1.2.0",
            "_model_name": "LayoutModel",
            "_view_count": null,
            "_view_module": "@jupyter-widgets/base",
            "_view_module_version": "1.2.0",
            "_view_name": "LayoutView",
            "align_content": null,
            "align_items": null,
            "align_self": null,
            "border": null,
            "bottom": null,
            "display": null,
            "flex": null,
            "flex_flow": null,
            "grid_area": null,
            "grid_auto_columns": null,
            "grid_auto_flow": null,
            "grid_auto_rows": null,
            "grid_column": null,
            "grid_gap": null,
            "grid_row": null,
            "grid_template_areas": null,
            "grid_template_columns": null,
            "grid_template_rows": null,
            "height": null,
            "justify_content": null,
            "justify_items": null,
            "left": null,
            "margin": null,
            "max_height": null,
            "max_width": null,
            "min_height": null,
            "min_width": null,
            "object_fit": null,
            "object_position": null,
            "order": null,
            "overflow": null,
            "overflow_x": null,
            "overflow_y": null,
            "padding": null,
            "right": null,
            "top": null,
            "visibility": null,
            "width": null
          }
        },
        "3dd696fc30ba4abcbb5998e0928132b7": {
          "model_module": "@jupyter-widgets/controls",
          "model_name": "ProgressStyleModel",
          "model_module_version": "1.5.0",
          "state": {
            "_model_module": "@jupyter-widgets/controls",
            "_model_module_version": "1.5.0",
            "_model_name": "ProgressStyleModel",
            "_view_count": null,
            "_view_module": "@jupyter-widgets/base",
            "_view_module_version": "1.2.0",
            "_view_name": "StyleView",
            "bar_color": null,
            "description_width": ""
          }
        }
      }
    }
  },
  "nbformat": 4,
  "nbformat_minor": 0
}